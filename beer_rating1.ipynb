{
  "nbformat": 4,
  "nbformat_minor": 0,
  "metadata": {
    "colab": {
      "name": "beer_rating1",
      "provenance": [],
      "collapsed_sections": []
    },
    "kernelspec": {
      "name": "python3",
      "display_name": "Python 3"
    },
    "accelerator": "TPU"
  },
  "cells": [
    {
      "cell_type": "code",
      "metadata": {
        "colab": {
          "resources": {
            "http://localhost:8080/nbextensions/google.colab/files.js": {
              "data": "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",
              "ok": true,
              "headers": [
                [
                  "content-type",
                  "application/javascript"
                ]
              ],
              "status": 200,
              "status_text": "OK"
            }
          },
          "base_uri": "https://localhost:8080/",
          "height": 75
        },
        "id": "dd0km1qLrcXL",
        "outputId": "01190ddc-23a9-466d-e79c-293ff28c4511"
      },
      "source": [
        "#1. How can you use \"beer/name\", \"beer/style\" and \"review/text\" as features to predict the overallrating of the beer ?\n",
        "\n",
        "\n",
        "#Solution:\n",
        "\n",
        "\n",
        "\n",
        "from google.colab import files \n",
        "\n",
        "\n",
        "uploaded = files.upload()\n",
        "import io"
      ],
      "execution_count": null,
      "outputs": [
        {
          "output_type": "display_data",
          "data": {
            "text/html": [
              "\n",
              "     <input type=\"file\" id=\"files-9d519eee-7280-4db4-aae4-eb3436a49dfc\" name=\"files[]\" multiple disabled\n",
              "        style=\"border:none\" />\n",
              "     <output id=\"result-9d519eee-7280-4db4-aae4-eb3436a49dfc\">\n",
              "      Upload widget is only available when the cell has been executed in the\n",
              "      current browser session. Please rerun this cell to enable.\n",
              "      </output>\n",
              "      <script src=\"/nbextensions/google.colab/files.js\"></script> "
            ],
            "text/plain": [
              "<IPython.core.display.HTML object>"
            ]
          },
          "metadata": {
            "tags": []
          }
        },
        {
          "output_type": "stream",
          "text": [
            "Saving train.csv to train.csv\n"
          ],
          "name": "stdout"
        }
      ]
    },
    {
      "cell_type": "markdown",
      "metadata": {
        "id": "4V9YlKlO28wo"
      },
      "source": [
        ""
      ]
    },
    {
      "cell_type": "code",
      "metadata": {
        "id": "OT570gT_0ZRj"
      },
      "source": [
        "import pandas as pd\n",
        "import numpy as np\n",
        "import matplotlib.pyplot as plt\n",
        "import seaborn as sns\n",
        "import plotly.graph_objs as go\n",
        "import plotly\n",
        "import plotly.figure_factory as ff"
      ],
      "execution_count": null,
      "outputs": []
    },
    {
      "cell_type": "code",
      "metadata": {
        "colab": {
          "base_uri": "https://localhost:8080/",
          "height": 539
        },
        "id": "J-dIUVdf0hYk",
        "outputId": "cccc8af0-0b33-41d4-bb8c-6275f8b26a8a"
      },
      "source": [
        "df = pd.read_csv(io.BytesIO(uploaded['train.csv'])) \n",
        "df.drop(['review/timeStruct','user/ageInSeconds','user/birthdayRaw','user/birthdayUnix','user/gender','index'], axis = 1,inplace = True)\n",
        "\n",
        "df.head()"
      ],
      "execution_count": null,
      "outputs": [
        {
          "output_type": "execute_result",
          "data": {
            "text/html": [
              "<div>\n",
              "<style scoped>\n",
              "    .dataframe tbody tr th:only-of-type {\n",
              "        vertical-align: middle;\n",
              "    }\n",
              "\n",
              "    .dataframe tbody tr th {\n",
              "        vertical-align: top;\n",
              "    }\n",
              "\n",
              "    .dataframe thead th {\n",
              "        text-align: right;\n",
              "    }\n",
              "</style>\n",
              "<table border=\"1\" class=\"dataframe\">\n",
              "  <thead>\n",
              "    <tr style=\"text-align: right;\">\n",
              "      <th></th>\n",
              "      <th>beer/ABV</th>\n",
              "      <th>beer/beerId</th>\n",
              "      <th>beer/brewerId</th>\n",
              "      <th>beer/name</th>\n",
              "      <th>beer/style</th>\n",
              "      <th>review/appearance</th>\n",
              "      <th>review/aroma</th>\n",
              "      <th>review/overall</th>\n",
              "      <th>review/palate</th>\n",
              "      <th>review/taste</th>\n",
              "      <th>review/text</th>\n",
              "      <th>review/timeUnix</th>\n",
              "      <th>user/profileName</th>\n",
              "    </tr>\n",
              "  </thead>\n",
              "  <tbody>\n",
              "    <tr>\n",
              "      <th>0</th>\n",
              "      <td>5.0</td>\n",
              "      <td>46634</td>\n",
              "      <td>14338</td>\n",
              "      <td>Chiostro</td>\n",
              "      <td>Herbed / Spiced Beer</td>\n",
              "      <td>4.0</td>\n",
              "      <td>4.0</td>\n",
              "      <td>4.0</td>\n",
              "      <td>4.0</td>\n",
              "      <td>4.0</td>\n",
              "      <td>Pours a clouded gold with a thin white head. N...</td>\n",
              "      <td>1229398690</td>\n",
              "      <td>RblWthACoz</td>\n",
              "    </tr>\n",
              "    <tr>\n",
              "      <th>1</th>\n",
              "      <td>11.0</td>\n",
              "      <td>3003</td>\n",
              "      <td>395</td>\n",
              "      <td>Bearded Pat's Barleywine</td>\n",
              "      <td>American Barleywine</td>\n",
              "      <td>4.0</td>\n",
              "      <td>3.5</td>\n",
              "      <td>3.5</td>\n",
              "      <td>3.5</td>\n",
              "      <td>3.0</td>\n",
              "      <td>12oz bottle into 8oz snifter.\\t\\tDeep ruby red...</td>\n",
              "      <td>1218238738</td>\n",
              "      <td>BeerSox</td>\n",
              "    </tr>\n",
              "    <tr>\n",
              "      <th>2</th>\n",
              "      <td>4.7</td>\n",
              "      <td>961</td>\n",
              "      <td>365</td>\n",
              "      <td>Naughty Nellie's Ale</td>\n",
              "      <td>American Pale Ale (APA)</td>\n",
              "      <td>3.5</td>\n",
              "      <td>4.0</td>\n",
              "      <td>3.5</td>\n",
              "      <td>3.5</td>\n",
              "      <td>3.5</td>\n",
              "      <td>First enjoyed at the brewpub about 2 years ago...</td>\n",
              "      <td>1101492422</td>\n",
              "      <td>mschofield</td>\n",
              "    </tr>\n",
              "    <tr>\n",
              "      <th>3</th>\n",
              "      <td>4.4</td>\n",
              "      <td>429</td>\n",
              "      <td>1</td>\n",
              "      <td>Pilsner Urquell</td>\n",
              "      <td>Czech Pilsener</td>\n",
              "      <td>3.0</td>\n",
              "      <td>3.0</td>\n",
              "      <td>2.5</td>\n",
              "      <td>3.0</td>\n",
              "      <td>3.0</td>\n",
              "      <td>First thing I noticed after pouring from green...</td>\n",
              "      <td>1308532025</td>\n",
              "      <td>molegar76</td>\n",
              "    </tr>\n",
              "    <tr>\n",
              "      <th>4</th>\n",
              "      <td>4.4</td>\n",
              "      <td>4904</td>\n",
              "      <td>1417</td>\n",
              "      <td>Black Sheep Ale (Special)</td>\n",
              "      <td>English Pale Ale</td>\n",
              "      <td>4.0</td>\n",
              "      <td>3.0</td>\n",
              "      <td>3.0</td>\n",
              "      <td>3.5</td>\n",
              "      <td>2.5</td>\n",
              "      <td>A: pours an amber with a one finger head but o...</td>\n",
              "      <td>1299912708</td>\n",
              "      <td>Brewbro000</td>\n",
              "    </tr>\n",
              "  </tbody>\n",
              "</table>\n",
              "</div>"
            ],
            "text/plain": [
              "   beer/ABV  beer/beerId  ...  review/timeUnix user/profileName\n",
              "0       5.0        46634  ...       1229398690       RblWthACoz\n",
              "1      11.0         3003  ...       1218238738          BeerSox\n",
              "2       4.7          961  ...       1101492422       mschofield\n",
              "3       4.4          429  ...       1308532025        molegar76\n",
              "4       4.4         4904  ...       1299912708       Brewbro000\n",
              "\n",
              "[5 rows x 13 columns]"
            ]
          },
          "metadata": {
            "tags": []
          },
          "execution_count": 24
        }
      ]
    },
    {
      "cell_type": "code",
      "metadata": {
        "colab": {
          "base_uri": "https://localhost:8080/",
          "height": 539
        },
        "id": "sxnos7xyHFnn",
        "outputId": "1e6e2825-f042-4ab0-c3b5-7cf4ce1183f4"
      },
      "source": [
        "df.columns = ['beer_abv','beer_beerid','brewery_id','beer_name','beer_style','review_appearance','review_aroma','review_overall','review_palate','review_taste','review_text','review_time','review_profilename']\n",
        "df = df.dropna()\n",
        "df.head()"
      ],
      "execution_count": null,
      "outputs": [
        {
          "output_type": "execute_result",
          "data": {
            "text/html": [
              "<div>\n",
              "<style scoped>\n",
              "    .dataframe tbody tr th:only-of-type {\n",
              "        vertical-align: middle;\n",
              "    }\n",
              "\n",
              "    .dataframe tbody tr th {\n",
              "        vertical-align: top;\n",
              "    }\n",
              "\n",
              "    .dataframe thead th {\n",
              "        text-align: right;\n",
              "    }\n",
              "</style>\n",
              "<table border=\"1\" class=\"dataframe\">\n",
              "  <thead>\n",
              "    <tr style=\"text-align: right;\">\n",
              "      <th></th>\n",
              "      <th>beer_abv</th>\n",
              "      <th>beer_beerid</th>\n",
              "      <th>brewery_id</th>\n",
              "      <th>beer_name</th>\n",
              "      <th>beer_style</th>\n",
              "      <th>review_appearance</th>\n",
              "      <th>review_aroma</th>\n",
              "      <th>review_overall</th>\n",
              "      <th>review_palate</th>\n",
              "      <th>review_taste</th>\n",
              "      <th>review_text</th>\n",
              "      <th>review_time</th>\n",
              "      <th>review_profilename</th>\n",
              "    </tr>\n",
              "  </thead>\n",
              "  <tbody>\n",
              "    <tr>\n",
              "      <th>0</th>\n",
              "      <td>5.0</td>\n",
              "      <td>46634</td>\n",
              "      <td>14338</td>\n",
              "      <td>Chiostro</td>\n",
              "      <td>Herbed / Spiced Beer</td>\n",
              "      <td>4.0</td>\n",
              "      <td>4.0</td>\n",
              "      <td>4.0</td>\n",
              "      <td>4.0</td>\n",
              "      <td>4.0</td>\n",
              "      <td>Pours a clouded gold with a thin white head. N...</td>\n",
              "      <td>1229398690</td>\n",
              "      <td>RblWthACoz</td>\n",
              "    </tr>\n",
              "    <tr>\n",
              "      <th>1</th>\n",
              "      <td>11.0</td>\n",
              "      <td>3003</td>\n",
              "      <td>395</td>\n",
              "      <td>Bearded Pat's Barleywine</td>\n",
              "      <td>American Barleywine</td>\n",
              "      <td>4.0</td>\n",
              "      <td>3.5</td>\n",
              "      <td>3.5</td>\n",
              "      <td>3.5</td>\n",
              "      <td>3.0</td>\n",
              "      <td>12oz bottle into 8oz snifter.\\t\\tDeep ruby red...</td>\n",
              "      <td>1218238738</td>\n",
              "      <td>BeerSox</td>\n",
              "    </tr>\n",
              "    <tr>\n",
              "      <th>2</th>\n",
              "      <td>4.7</td>\n",
              "      <td>961</td>\n",
              "      <td>365</td>\n",
              "      <td>Naughty Nellie's Ale</td>\n",
              "      <td>American Pale Ale (APA)</td>\n",
              "      <td>3.5</td>\n",
              "      <td>4.0</td>\n",
              "      <td>3.5</td>\n",
              "      <td>3.5</td>\n",
              "      <td>3.5</td>\n",
              "      <td>First enjoyed at the brewpub about 2 years ago...</td>\n",
              "      <td>1101492422</td>\n",
              "      <td>mschofield</td>\n",
              "    </tr>\n",
              "    <tr>\n",
              "      <th>3</th>\n",
              "      <td>4.4</td>\n",
              "      <td>429</td>\n",
              "      <td>1</td>\n",
              "      <td>Pilsner Urquell</td>\n",
              "      <td>Czech Pilsener</td>\n",
              "      <td>3.0</td>\n",
              "      <td>3.0</td>\n",
              "      <td>2.5</td>\n",
              "      <td>3.0</td>\n",
              "      <td>3.0</td>\n",
              "      <td>First thing I noticed after pouring from green...</td>\n",
              "      <td>1308532025</td>\n",
              "      <td>molegar76</td>\n",
              "    </tr>\n",
              "    <tr>\n",
              "      <th>4</th>\n",
              "      <td>4.4</td>\n",
              "      <td>4904</td>\n",
              "      <td>1417</td>\n",
              "      <td>Black Sheep Ale (Special)</td>\n",
              "      <td>English Pale Ale</td>\n",
              "      <td>4.0</td>\n",
              "      <td>3.0</td>\n",
              "      <td>3.0</td>\n",
              "      <td>3.5</td>\n",
              "      <td>2.5</td>\n",
              "      <td>A: pours an amber with a one finger head but o...</td>\n",
              "      <td>1299912708</td>\n",
              "      <td>Brewbro000</td>\n",
              "    </tr>\n",
              "  </tbody>\n",
              "</table>\n",
              "</div>"
            ],
            "text/plain": [
              "   beer_abv  beer_beerid  ...  review_time review_profilename\n",
              "0       5.0        46634  ...   1229398690         RblWthACoz\n",
              "1      11.0         3003  ...   1218238738            BeerSox\n",
              "2       4.7          961  ...   1101492422         mschofield\n",
              "3       4.4          429  ...   1308532025          molegar76\n",
              "4       4.4         4904  ...   1299912708         Brewbro000\n",
              "\n",
              "[5 rows x 13 columns]"
            ]
          },
          "metadata": {
            "tags": []
          },
          "execution_count": 25
        }
      ]
    },
    {
      "cell_type": "code",
      "metadata": {
        "colab": {
          "base_uri": "https://localhost:8080/"
        },
        "id": "k0cHWOjuPpS4",
        "outputId": "c22168cd-5377-4c62-8bc5-3c24145680f4"
      },
      "source": [
        "print(\"Count of unique breweries, by brewery_id: \" ,df.brewery_id.nunique())\n",
        "print(\"Count of unique beers, by beer_id: \" ,df.beer_beerid.nunique())\n",
        "print(\"Count of unique beers, by beer_name: \" ,df.beer_name.nunique())\n",
        "print(\"Count of unique users, by review_profilename: \" ,df.review_profilename.nunique())"
      ],
      "execution_count": null,
      "outputs": [
        {
          "output_type": "stream",
          "text": [
            "Count of unique breweries, by brewery_id:  212\n",
            "Count of unique beers, by beer_id:  1731\n",
            "Count of unique beers, by beer_name:  1688\n",
            "Count of unique users, by review_profilename:  7439\n"
          ],
          "name": "stdout"
        }
      ]
    },
    {
      "cell_type": "markdown",
      "metadata": {
        "id": "EcN22yBfQ-RJ"
      },
      "source": [
        "DATA CLEANING\n"
      ]
    },
    {
      "cell_type": "code",
      "metadata": {
        "colab": {
          "base_uri": "https://localhost:8080/"
        },
        "id": "oqOAX2Y-RA6j",
        "outputId": "b17f168d-aa7d-4901-9abc-36b3d0eb4a8b"
      },
      "source": [
        "print(\"Overview of missing values in the dataset: /n\",df.isnull().sum())\n",
        "df=df.dropna()\n",
        "print(\"After dropping the missing value\",df.info())"
      ],
      "execution_count": null,
      "outputs": [
        {
          "output_type": "stream",
          "text": [
            "Overview of missing values in the dataset: /n beer_abv              0\n",
            "beer_beerid           0\n",
            "brewery_id            0\n",
            "beer_name             0\n",
            "beer_style            0\n",
            "review_appearance     0\n",
            "review_aroma          0\n",
            "review_overall        0\n",
            "review_palate         0\n",
            "review_taste          0\n",
            "review_text           0\n",
            "review_time           0\n",
            "review_profilename    0\n",
            "dtype: int64\n",
            "<class 'pandas.core.frame.DataFrame'>\n",
            "Int64Index: 37485 entries, 0 to 37499\n",
            "Data columns (total 13 columns):\n",
            " #   Column              Non-Null Count  Dtype  \n",
            "---  ------              --------------  -----  \n",
            " 0   beer_abv            37485 non-null  float64\n",
            " 1   beer_beerid         37485 non-null  int64  \n",
            " 2   brewery_id          37485 non-null  int64  \n",
            " 3   beer_name           37485 non-null  object \n",
            " 4   beer_style          37485 non-null  object \n",
            " 5   review_appearance   37485 non-null  float64\n",
            " 6   review_aroma        37485 non-null  float64\n",
            " 7   review_overall      37485 non-null  float64\n",
            " 8   review_palate       37485 non-null  float64\n",
            " 9   review_taste        37485 non-null  float64\n",
            " 10  review_text         37485 non-null  object \n",
            " 11  review_time         37485 non-null  int64  \n",
            " 12  review_profilename  37485 non-null  object \n",
            "dtypes: float64(6), int64(3), object(4)\n",
            "memory usage: 4.0+ MB\n",
            "After dropping the missing value None\n"
          ],
          "name": "stdout"
        }
      ]
    },
    {
      "cell_type": "code",
      "metadata": {
        "colab": {
          "base_uri": "https://localhost:8080/"
        },
        "id": "HYC5iKyVRLR7",
        "outputId": "3d4132b9-7b4e-47ee-bbeb-4b95c5abfd8a"
      },
      "source": [
        "#Remove the duplicate items\n",
        "print(\"a user review the same beer more than one time, by beer_beerid: \\n\",df.loc[df.duplicated(['review_profilename','beer_beerid'],keep=False)][['review_profilename','beer_name','beer_beerid','review_overall']])"
      ],
      "execution_count": null,
      "outputs": [
        {
          "output_type": "stream",
          "text": [
            "a user review the same beer more than one time, by beer_beerid: \n",
            "       review_profilename  ... review_overall\n",
            "186           hopking311  ...            5.0\n",
            "200           kojevergas  ...            2.0\n",
            "233             spointon  ...            4.5\n",
            "340          robwestcott  ...            3.5\n",
            "359             adamette  ...            3.0\n",
            "...                  ...  ...            ...\n",
            "37290             argock  ...            4.5\n",
            "37322        sweemzander  ...            4.0\n",
            "37328         TheBear11D  ...            4.0\n",
            "37409    objectivemonkey  ...            4.5\n",
            "37452         letsgopens  ...            4.0\n",
            "\n",
            "[581 rows x 4 columns]\n"
          ],
          "name": "stdout"
        }
      ]
    },
    {
      "cell_type": "code",
      "metadata": {
        "colab": {
          "base_uri": "https://localhost:8080/"
        },
        "id": "FQyrvpUZRT8f",
        "outputId": "6e71159a-82f4-4c01-9f86-d5f60c1fc128"
      },
      "source": [
        "print(\"a user review the same beer more than one time, by beer_name: \\n\",df.loc[df.duplicated(['review_profilename','beer_name'],keep=False)][['review_profilename','beer_beerid','beer_name',\"review_overall\"]])"
      ],
      "execution_count": null,
      "outputs": [
        {
          "output_type": "stream",
          "text": [
            "a user review the same beer more than one time, by beer_name: \n",
            "       review_profilename  ...  review_overall\n",
            "186           hopking311  ...             5.0\n",
            "200           kojevergas  ...             2.0\n",
            "233             spointon  ...             4.5\n",
            "340          robwestcott  ...             3.5\n",
            "359             adamette  ...             3.0\n",
            "...                  ...  ...             ...\n",
            "37290             argock  ...             4.5\n",
            "37322        sweemzander  ...             4.0\n",
            "37328         TheBear11D  ...             4.0\n",
            "37409    objectivemonkey  ...             4.5\n",
            "37452         letsgopens  ...             4.0\n",
            "\n",
            "[611 rows x 4 columns]\n"
          ],
          "name": "stdout"
        }
      ]
    },
    {
      "cell_type": "code",
      "metadata": {
        "colab": {
          "base_uri": "https://localhost:8080/"
        },
        "id": "je_tsqMdRd7m",
        "outputId": "41911a5b-69a8-4988-9170-ee99dbb62405"
      },
      "source": [
        "df = df.sort_values(\"review_overall\",ascending=False)\n",
        "df = df.drop_duplicates(subset = ['review_profilename','beer_beerid'],keep='first')\n",
        "df = df.drop_duplicates(subset = ['review_profilename','beer_name'],keep='first')\n",
        "\n",
        "#User highest rating\n",
        "df.info()"
      ],
      "execution_count": null,
      "outputs": [
        {
          "output_type": "stream",
          "text": [
            "<class 'pandas.core.frame.DataFrame'>\n",
            "Int64Index: 37175 entries, 28025 to 17707\n",
            "Data columns (total 13 columns):\n",
            " #   Column              Non-Null Count  Dtype  \n",
            "---  ------              --------------  -----  \n",
            " 0   beer_abv            37175 non-null  float64\n",
            " 1   beer_beerid         37175 non-null  int64  \n",
            " 2   brewery_id          37175 non-null  int64  \n",
            " 3   beer_name           37175 non-null  object \n",
            " 4   beer_style          37175 non-null  object \n",
            " 5   review_appearance   37175 non-null  float64\n",
            " 6   review_aroma        37175 non-null  float64\n",
            " 7   review_overall      37175 non-null  float64\n",
            " 8   review_palate       37175 non-null  float64\n",
            " 9   review_taste        37175 non-null  float64\n",
            " 10  review_text         37175 non-null  object \n",
            " 11  review_time         37175 non-null  int64  \n",
            " 12  review_profilename  37175 non-null  object \n",
            "dtypes: float64(6), int64(3), object(4)\n",
            "memory usage: 4.0+ MB\n"
          ],
          "name": "stdout"
        }
      ]
    },
    {
      "cell_type": "code",
      "metadata": {
        "colab": {
          "base_uri": "https://localhost:8080/",
          "height": 300
        },
        "id": "4qBUq2mkRpx1",
        "outputId": "1e9f0096-4a36-4e17-ec0d-0e5270ea461f"
      },
      "source": [
        "#Outlier elimination\n",
        "round(df.describe(),2)"
      ],
      "execution_count": null,
      "outputs": [
        {
          "output_type": "execute_result",
          "data": {
            "text/html": [
              "<div>\n",
              "<style scoped>\n",
              "    .dataframe tbody tr th:only-of-type {\n",
              "        vertical-align: middle;\n",
              "    }\n",
              "\n",
              "    .dataframe tbody tr th {\n",
              "        vertical-align: top;\n",
              "    }\n",
              "\n",
              "    .dataframe thead th {\n",
              "        text-align: right;\n",
              "    }\n",
              "</style>\n",
              "<table border=\"1\" class=\"dataframe\">\n",
              "  <thead>\n",
              "    <tr style=\"text-align: right;\">\n",
              "      <th></th>\n",
              "      <th>beer_abv</th>\n",
              "      <th>beer_beerid</th>\n",
              "      <th>brewery_id</th>\n",
              "      <th>review_appearance</th>\n",
              "      <th>review_aroma</th>\n",
              "      <th>review_overall</th>\n",
              "      <th>review_palate</th>\n",
              "      <th>review_taste</th>\n",
              "      <th>review_time</th>\n",
              "    </tr>\n",
              "  </thead>\n",
              "  <tbody>\n",
              "    <tr>\n",
              "      <th>count</th>\n",
              "      <td>37175.00</td>\n",
              "      <td>37175.00</td>\n",
              "      <td>37175.00</td>\n",
              "      <td>37175.00</td>\n",
              "      <td>37175.00</td>\n",
              "      <td>37175.00</td>\n",
              "      <td>37175.00</td>\n",
              "      <td>37175.00</td>\n",
              "      <td>3.717500e+04</td>\n",
              "    </tr>\n",
              "    <tr>\n",
              "      <th>mean</th>\n",
              "      <td>7.40</td>\n",
              "      <td>21907.36</td>\n",
              "      <td>3045.79</td>\n",
              "      <td>3.90</td>\n",
              "      <td>3.87</td>\n",
              "      <td>3.89</td>\n",
              "      <td>3.85</td>\n",
              "      <td>3.92</td>\n",
              "      <td>1.232853e+09</td>\n",
              "    </tr>\n",
              "    <tr>\n",
              "      <th>std</th>\n",
              "      <td>2.32</td>\n",
              "      <td>18950.20</td>\n",
              "      <td>5132.54</td>\n",
              "      <td>0.59</td>\n",
              "      <td>0.68</td>\n",
              "      <td>0.70</td>\n",
              "      <td>0.67</td>\n",
              "      <td>0.72</td>\n",
              "      <td>7.187533e+07</td>\n",
              "    </tr>\n",
              "    <tr>\n",
              "      <th>min</th>\n",
              "      <td>0.10</td>\n",
              "      <td>175.00</td>\n",
              "      <td>1.00</td>\n",
              "      <td>0.00</td>\n",
              "      <td>1.00</td>\n",
              "      <td>0.00</td>\n",
              "      <td>1.00</td>\n",
              "      <td>1.00</td>\n",
              "      <td>9.262944e+08</td>\n",
              "    </tr>\n",
              "    <tr>\n",
              "      <th>25%</th>\n",
              "      <td>5.40</td>\n",
              "      <td>5441.00</td>\n",
              "      <td>395.00</td>\n",
              "      <td>3.50</td>\n",
              "      <td>3.50</td>\n",
              "      <td>3.50</td>\n",
              "      <td>3.50</td>\n",
              "      <td>3.50</td>\n",
              "      <td>1.189142e+09</td>\n",
              "    </tr>\n",
              "    <tr>\n",
              "      <th>50%</th>\n",
              "      <td>6.90</td>\n",
              "      <td>17538.00</td>\n",
              "      <td>1199.00</td>\n",
              "      <td>4.00</td>\n",
              "      <td>4.00</td>\n",
              "      <td>4.00</td>\n",
              "      <td>4.00</td>\n",
              "      <td>4.00</td>\n",
              "      <td>1.248233e+09</td>\n",
              "    </tr>\n",
              "    <tr>\n",
              "      <th>75%</th>\n",
              "      <td>9.40</td>\n",
              "      <td>34146.00</td>\n",
              "      <td>1381.00</td>\n",
              "      <td>4.50</td>\n",
              "      <td>4.50</td>\n",
              "      <td>4.50</td>\n",
              "      <td>4.50</td>\n",
              "      <td>4.50</td>\n",
              "      <td>1.291349e+09</td>\n",
              "    </tr>\n",
              "    <tr>\n",
              "      <th>max</th>\n",
              "      <td>57.70</td>\n",
              "      <td>77207.00</td>\n",
              "      <td>27797.00</td>\n",
              "      <td>5.00</td>\n",
              "      <td>5.00</td>\n",
              "      <td>5.00</td>\n",
              "      <td>5.00</td>\n",
              "      <td>5.00</td>\n",
              "      <td>1.326267e+09</td>\n",
              "    </tr>\n",
              "  </tbody>\n",
              "</table>\n",
              "</div>"
            ],
            "text/plain": [
              "       beer_abv  beer_beerid  ...  review_taste   review_time\n",
              "count  37175.00     37175.00  ...      37175.00  3.717500e+04\n",
              "mean       7.40     21907.36  ...          3.92  1.232853e+09\n",
              "std        2.32     18950.20  ...          0.72  7.187533e+07\n",
              "min        0.10       175.00  ...          1.00  9.262944e+08\n",
              "25%        5.40      5441.00  ...          3.50  1.189142e+09\n",
              "50%        6.90     17538.00  ...          4.00  1.248233e+09\n",
              "75%        9.40     34146.00  ...          4.50  1.291349e+09\n",
              "max       57.70     77207.00  ...          5.00  1.326267e+09\n",
              "\n",
              "[8 rows x 9 columns]"
            ]
          },
          "metadata": {
            "tags": []
          },
          "execution_count": 31
        }
      ]
    },
    {
      "cell_type": "code",
      "metadata": {
        "colab": {
          "base_uri": "https://localhost:8080/",
          "height": 300
        },
        "id": "kmxR32HkRxE-",
        "outputId": "2401015e-fa97-4212-f26e-8a88cb40d33f"
      },
      "source": [
        "df = df.loc[(df.review_overall>=1) & (df.review_appearance>=1)]\n",
        "round(df.describe(),2) #Outlier ratings not between 1-5 were eliminated"
      ],
      "execution_count": null,
      "outputs": [
        {
          "output_type": "execute_result",
          "data": {
            "text/html": [
              "<div>\n",
              "<style scoped>\n",
              "    .dataframe tbody tr th:only-of-type {\n",
              "        vertical-align: middle;\n",
              "    }\n",
              "\n",
              "    .dataframe tbody tr th {\n",
              "        vertical-align: top;\n",
              "    }\n",
              "\n",
              "    .dataframe thead th {\n",
              "        text-align: right;\n",
              "    }\n",
              "</style>\n",
              "<table border=\"1\" class=\"dataframe\">\n",
              "  <thead>\n",
              "    <tr style=\"text-align: right;\">\n",
              "      <th></th>\n",
              "      <th>beer_abv</th>\n",
              "      <th>beer_beerid</th>\n",
              "      <th>brewery_id</th>\n",
              "      <th>review_appearance</th>\n",
              "      <th>review_aroma</th>\n",
              "      <th>review_overall</th>\n",
              "      <th>review_palate</th>\n",
              "      <th>review_taste</th>\n",
              "      <th>review_time</th>\n",
              "    </tr>\n",
              "  </thead>\n",
              "  <tbody>\n",
              "    <tr>\n",
              "      <th>count</th>\n",
              "      <td>37174.00</td>\n",
              "      <td>37174.00</td>\n",
              "      <td>37174.00</td>\n",
              "      <td>37174.00</td>\n",
              "      <td>37174.00</td>\n",
              "      <td>37174.00</td>\n",
              "      <td>37174.00</td>\n",
              "      <td>37174.00</td>\n",
              "      <td>3.717400e+04</td>\n",
              "    </tr>\n",
              "    <tr>\n",
              "      <th>mean</th>\n",
              "      <td>7.40</td>\n",
              "      <td>21907.84</td>\n",
              "      <td>3045.83</td>\n",
              "      <td>3.90</td>\n",
              "      <td>3.87</td>\n",
              "      <td>3.89</td>\n",
              "      <td>3.85</td>\n",
              "      <td>3.92</td>\n",
              "      <td>1.232858e+09</td>\n",
              "    </tr>\n",
              "    <tr>\n",
              "      <th>std</th>\n",
              "      <td>2.32</td>\n",
              "      <td>18950.22</td>\n",
              "      <td>5132.60</td>\n",
              "      <td>0.59</td>\n",
              "      <td>0.68</td>\n",
              "      <td>0.70</td>\n",
              "      <td>0.67</td>\n",
              "      <td>0.72</td>\n",
              "      <td>7.186862e+07</td>\n",
              "    </tr>\n",
              "    <tr>\n",
              "      <th>min</th>\n",
              "      <td>0.10</td>\n",
              "      <td>175.00</td>\n",
              "      <td>1.00</td>\n",
              "      <td>1.00</td>\n",
              "      <td>1.00</td>\n",
              "      <td>1.00</td>\n",
              "      <td>1.00</td>\n",
              "      <td>1.00</td>\n",
              "      <td>9.262944e+08</td>\n",
              "    </tr>\n",
              "    <tr>\n",
              "      <th>25%</th>\n",
              "      <td>5.40</td>\n",
              "      <td>5441.00</td>\n",
              "      <td>395.00</td>\n",
              "      <td>3.50</td>\n",
              "      <td>3.50</td>\n",
              "      <td>3.50</td>\n",
              "      <td>3.50</td>\n",
              "      <td>3.50</td>\n",
              "      <td>1.189153e+09</td>\n",
              "    </tr>\n",
              "    <tr>\n",
              "      <th>50%</th>\n",
              "      <td>6.90</td>\n",
              "      <td>17538.00</td>\n",
              "      <td>1199.00</td>\n",
              "      <td>4.00</td>\n",
              "      <td>4.00</td>\n",
              "      <td>4.00</td>\n",
              "      <td>4.00</td>\n",
              "      <td>4.00</td>\n",
              "      <td>1.248233e+09</td>\n",
              "    </tr>\n",
              "    <tr>\n",
              "      <th>75%</th>\n",
              "      <td>9.40</td>\n",
              "      <td>34146.00</td>\n",
              "      <td>1381.00</td>\n",
              "      <td>4.50</td>\n",
              "      <td>4.50</td>\n",
              "      <td>4.50</td>\n",
              "      <td>4.50</td>\n",
              "      <td>4.50</td>\n",
              "      <td>1.291350e+09</td>\n",
              "    </tr>\n",
              "    <tr>\n",
              "      <th>max</th>\n",
              "      <td>57.70</td>\n",
              "      <td>77207.00</td>\n",
              "      <td>27797.00</td>\n",
              "      <td>5.00</td>\n",
              "      <td>5.00</td>\n",
              "      <td>5.00</td>\n",
              "      <td>5.00</td>\n",
              "      <td>5.00</td>\n",
              "      <td>1.326267e+09</td>\n",
              "    </tr>\n",
              "  </tbody>\n",
              "</table>\n",
              "</div>"
            ],
            "text/plain": [
              "       beer_abv  beer_beerid  ...  review_taste   review_time\n",
              "count  37174.00     37174.00  ...      37174.00  3.717400e+04\n",
              "mean       7.40     21907.84  ...          3.92  1.232858e+09\n",
              "std        2.32     18950.22  ...          0.72  7.186862e+07\n",
              "min        0.10       175.00  ...          1.00  9.262944e+08\n",
              "25%        5.40      5441.00  ...          3.50  1.189153e+09\n",
              "50%        6.90     17538.00  ...          4.00  1.248233e+09\n",
              "75%        9.40     34146.00  ...          4.50  1.291350e+09\n",
              "max       57.70     77207.00  ...          5.00  1.326267e+09\n",
              "\n",
              "[8 rows x 9 columns]"
            ]
          },
          "metadata": {
            "tags": []
          },
          "execution_count": 32
        }
      ]
    },
    {
      "cell_type": "code",
      "metadata": {
        "colab": {
          "base_uri": "https://localhost:8080/"
        },
        "id": "i0a7llT7R6ON",
        "outputId": "1b416251-7f1f-4491-e214-01f180012fd7"
      },
      "source": [
        "df.review_time = pd.to_datetime (df.review_time,unit = 's')\n",
        "df.dtypes"
      ],
      "execution_count": null,
      "outputs": [
        {
          "output_type": "execute_result",
          "data": {
            "text/plain": [
              "beer_abv                     float64\n",
              "beer_beerid                    int64\n",
              "brewery_id                     int64\n",
              "beer_name                     object\n",
              "beer_style                    object\n",
              "review_appearance            float64\n",
              "review_aroma                 float64\n",
              "review_overall               float64\n",
              "review_palate                float64\n",
              "review_taste                 float64\n",
              "review_text                   object\n",
              "review_time           datetime64[ns]\n",
              "review_profilename            object\n",
              "dtype: object"
            ]
          },
          "metadata": {
            "tags": []
          },
          "execution_count": 33
        }
      ]
    },
    {
      "cell_type": "markdown",
      "metadata": {
        "id": "0KcE4xq8TyqJ"
      },
      "source": [
        "\n",
        "Recommendation Analysis\n",
        "Descriptive statistics\n"
      ]
    },
    {
      "cell_type": "code",
      "metadata": {
        "colab": {
          "base_uri": "https://localhost:8080/",
          "height": 1000
        },
        "id": "HW8wypPkT4OJ",
        "outputId": "c394d8bb-cdab-44b6-f352-64cf84eac6f1"
      },
      "source": [
        "df.hist(figsize=(15,15),color='#007399')"
      ],
      "execution_count": null,
      "outputs": [
        {
          "output_type": "execute_result",
          "data": {
            "text/plain": [
              "array([[<matplotlib.axes._subplots.AxesSubplot object at 0x7f8e3acaa588>,\n",
              "        <matplotlib.axes._subplots.AxesSubplot object at 0x7f8e3d592ac8>,\n",
              "        <matplotlib.axes._subplots.AxesSubplot object at 0x7f8e3b1cd588>],\n",
              "       [<matplotlib.axes._subplots.AxesSubplot object at 0x7f8e3b17c7f0>,\n",
              "        <matplotlib.axes._subplots.AxesSubplot object at 0x7f8e3b12ea58>,\n",
              "        <matplotlib.axes._subplots.AxesSubplot object at 0x7f8e3b15dcc0>],\n",
              "       [<matplotlib.axes._subplots.AxesSubplot object at 0x7f8e3b10ff28>,\n",
              "        <matplotlib.axes._subplots.AxesSubplot object at 0x7f8e3b0cb198>,\n",
              "        <matplotlib.axes._subplots.AxesSubplot object at 0x7f8e3b0cb208>]],\n",
              "      dtype=object)"
            ]
          },
          "metadata": {
            "tags": []
          },
          "execution_count": 34
        },
        {
          "output_type": "display_data",
          "data": {
            "image/png": "[encoded data removed]",
            "text/plain": [
              "<Figure size 1080x1080 with 9 Axes>"
            ]
          },
          "metadata": {
            "tags": [],
            "needs_background": "light"
          }
        }
      ]
    },
    {
      "cell_type": "code",
      "metadata": {
        "colab": {
          "base_uri": "https://localhost:8080/",
          "height": 542
        },
        "id": "uw05vih1UIds",
        "outputId": "12fefa7f-60fa-441c-ad79-ad2e67b57b27"
      },
      "source": [
        "bar3 = go.Bar(x=df.beer_name.value_counts().head(10).sort_values(ascending=True),\n",
        "              y=df.beer_name.value_counts().head(10).sort_values(ascending=True).index,\n",
        "              hoverinfo = 'x',\n",
        "              text=df.beer_name.value_counts().head(10).sort_values(ascending=True).index,\n",
        "              textposition = 'inside',\n",
        "              orientation = 'h',\n",
        "              opacity=0.75, \n",
        "              marker=dict(color='rgb(1, 77, 102)'))\n",
        "\n",
        "layout = go.Layout(title='Top 10 popular beers',\n",
        "                   xaxis=dict(title=\"Count of reviews\",),\n",
        "                   margin = dict(l = 220),\n",
        "                   font=dict(family='Comic Sans MS',\n",
        "                            color='dark gray'))\n",
        "\n",
        "fig = go.Figure(data=bar3, layout=layout)\n",
        "\n",
        "plotly.offline.iplot(fig)"
      ],
      "execution_count": null,
      "outputs": [
        {
          "output_type": "display_data",
          "data": {
            "text/html": [
              "<html>\n",
              "<head><meta charset=\"utf-8\" /></head>\n",
              "<body>\n",
              "    <div>\n",
              "            <script src=\"https://cdnjs.cloudflare.com/ajax/libs/mathjax/2.7.5/MathJax.js?config=TeX-AMS-MML_SVG\"></script><script type=\"text/javascript\">if (window.MathJax) {MathJax.Hub.Config({SVG: {font: \"STIX-Web\"}});}</script>\n",
              "                <script type=\"text/javascript\">window.PlotlyConfig = {MathJaxConfig: 'local'};</script>\n",
              "        <script src=\"https://cdn.plot.ly/plotly-latest.min.js\"></script>    \n",
              "            <div id=\"51faa98a-94da-4670-96c2-6ee0b64ee1d3\" class=\"plotly-graph-div\" style=\"height:525px; width:100%;\"></div>\n",
              "            <script type=\"text/javascript\">\n",
              "                \n",
              "                    window.PLOTLYENV=window.PLOTLYENV || {};\n",
              "                    \n",
              "                if (document.getElementById(\"51faa98a-94da-4670-96c2-6ee0b64ee1d3\")) {\n",
              "                    Plotly.newPlot(\n",
              "                        '51faa98a-94da-4670-96c2-6ee0b64ee1d3',\n",
              "                        [{\"hoverinfo\": \"x\", \"marker\": {\"color\": \"rgb(1, 77, 102)\"}, \"opacity\": 0.75, \"orientation\": \"h\", \"text\": [\"Founders Backwoods Bastard\", \"Founders Devil Dancer\", \"Founders Imperial Stout\", \"Founders Double Trouble\", \"Pilsner Urquell\", \"Founders Dirty Bastard\", \"Founders Red's Rye PA\", \"Founders Centennial IPA\", \"Founders KBS (Kentucky Breakfast Stout)\", \"Founders Breakfast Stout\"], \"textposition\": \"inside\", \"type\": \"bar\", \"x\": [767, 790, 798, 850, 925, 975, 1037, 1045, 1406, 1849], \"y\": [\"Founders Backwoods Bastard\", \"Founders Devil Dancer\", \"Founders Imperial Stout\", \"Founders Double Trouble\", \"Pilsner Urquell\", \"Founders Dirty Bastard\", \"Founders Red's Rye PA\", \"Founders Centennial IPA\", \"Founders KBS (Kentucky Breakfast Stout)\", \"Founders Breakfast Stout\"]}],\n",
              "                        {\"font\": {\"color\": \"dark gray\", \"family\": \"Comic Sans MS\"}, \"margin\": {\"l\": 220}, \"template\": {\"data\": {\"bar\": [{\"error_x\": {\"color\": \"#2a3f5f\"}, \"error_y\": {\"color\": \"#2a3f5f\"}, \"marker\": {\"line\": {\"color\": \"#E5ECF6\", \"width\": 0.5}}, \"type\": \"bar\"}], \"barpolar\": [{\"marker\": {\"line\": {\"color\": \"#E5ECF6\", \"width\": 0.5}}, \"type\": \"barpolar\"}], \"carpet\": [{\"aaxis\": {\"endlinecolor\": \"#2a3f5f\", \"gridcolor\": \"white\", \"linecolor\": \"white\", \"minorgridcolor\": \"white\", \"startlinecolor\": \"#2a3f5f\"}, \"baxis\": {\"endlinecolor\": \"#2a3f5f\", \"gridcolor\": \"white\", \"linecolor\": \"white\", \"minorgridcolor\": \"white\", \"startlinecolor\": \"#2a3f5f\"}, \"type\": \"carpet\"}], \"choropleth\": [{\"colorbar\": {\"outlinewidth\": 0, \"ticks\": \"\"}, \"type\": \"choropleth\"}], \"contour\": [{\"colorbar\": {\"outlinewidth\": 0, \"ticks\": \"\"}, \"colorscale\": [[0.0, \"#0d0887\"], [0.1111111111111111, \"#46039f\"], [0.2222222222222222, \"#7201a8\"], [0.3333333333333333, \"#9c179e\"], [0.4444444444444444, \"#bd3786\"], [0.5555555555555556, \"#d8576b\"], [0.6666666666666666, \"#ed7953\"], [0.7777777777777778, \"#fb9f3a\"], [0.8888888888888888, \"#fdca26\"], [1.0, \"#f0f921\"]], \"type\": \"contour\"}], \"contourcarpet\": [{\"colorbar\": {\"outlinewidth\": 0, \"ticks\": \"\"}, \"type\": \"contourcarpet\"}], \"heatmap\": [{\"colorbar\": {\"outlinewidth\": 0, \"ticks\": \"\"}, \"colorscale\": [[0.0, \"#0d0887\"], [0.1111111111111111, \"#46039f\"], [0.2222222222222222, \"#7201a8\"], [0.3333333333333333, \"#9c179e\"], [0.4444444444444444, \"#bd3786\"], [0.5555555555555556, \"#d8576b\"], [0.6666666666666666, \"#ed7953\"], [0.7777777777777778, \"#fb9f3a\"], [0.8888888888888888, \"#fdca26\"], [1.0, \"#f0f921\"]], \"type\": \"heatmap\"}], \"heatmapgl\": [{\"colorbar\": {\"outlinewidth\": 0, \"ticks\": \"\"}, \"colorscale\": [[0.0, \"#0d0887\"], [0.1111111111111111, \"#46039f\"], [0.2222222222222222, \"#7201a8\"], [0.3333333333333333, \"#9c179e\"], [0.4444444444444444, \"#bd3786\"], [0.5555555555555556, \"#d8576b\"], [0.6666666666666666, \"#ed7953\"], [0.7777777777777778, \"#fb9f3a\"], [0.8888888888888888, \"#fdca26\"], [1.0, \"#f0f921\"]], \"type\": \"heatmapgl\"}], \"histogram\": [{\"marker\": {\"colorbar\": {\"outlinewidth\": 0, \"ticks\": \"\"}}, \"type\": \"histogram\"}], \"histogram2d\": [{\"colorbar\": {\"outlinewidth\": 0, \"ticks\": \"\"}, \"colorscale\": [[0.0, \"#0d0887\"], [0.1111111111111111, \"#46039f\"], [0.2222222222222222, \"#7201a8\"], [0.3333333333333333, \"#9c179e\"], [0.4444444444444444, \"#bd3786\"], [0.5555555555555556, \"#d8576b\"], [0.6666666666666666, \"#ed7953\"], [0.7777777777777778, \"#fb9f3a\"], [0.8888888888888888, \"#fdca26\"], [1.0, \"#f0f921\"]], \"type\": \"histogram2d\"}], \"histogram2dcontour\": [{\"colorbar\": {\"outlinewidth\": 0, \"ticks\": \"\"}, \"colorscale\": [[0.0, \"#0d0887\"], [0.1111111111111111, \"#46039f\"], [0.2222222222222222, \"#7201a8\"], [0.3333333333333333, \"#9c179e\"], [0.4444444444444444, \"#bd3786\"], [0.5555555555555556, \"#d8576b\"], [0.6666666666666666, \"#ed7953\"], [0.7777777777777778, \"#fb9f3a\"], [0.8888888888888888, \"#fdca26\"], [1.0, \"#f0f921\"]], \"type\": \"histogram2dcontour\"}], \"mesh3d\": [{\"colorbar\": {\"outlinewidth\": 0, \"ticks\": \"\"}, \"type\": \"mesh3d\"}], \"parcoords\": [{\"line\": {\"colorbar\": {\"outlinewidth\": 0, \"ticks\": \"\"}}, \"type\": \"parcoords\"}], \"pie\": [{\"automargin\": true, \"type\": \"pie\"}], \"scatter\": [{\"marker\": {\"colorbar\": {\"outlinewidth\": 0, \"ticks\": \"\"}}, \"type\": \"scatter\"}], \"scatter3d\": [{\"line\": {\"colorbar\": {\"outlinewidth\": 0, \"ticks\": \"\"}}, \"marker\": {\"colorbar\": {\"outlinewidth\": 0, \"ticks\": \"\"}}, \"type\": \"scatter3d\"}], \"scattercarpet\": [{\"marker\": {\"colorbar\": {\"outlinewidth\": 0, \"ticks\": \"\"}}, \"type\": \"scattercarpet\"}], \"scattergeo\": [{\"marker\": {\"colorbar\": {\"outlinewidth\": 0, \"ticks\": \"\"}}, \"type\": \"scattergeo\"}], \"scattergl\": [{\"marker\": {\"colorbar\": {\"outlinewidth\": 0, \"ticks\": \"\"}}, \"type\": \"scattergl\"}], \"scattermapbox\": [{\"marker\": {\"colorbar\": {\"outlinewidth\": 0, \"ticks\": \"\"}}, \"type\": \"scattermapbox\"}], \"scatterpolar\": [{\"marker\": {\"colorbar\": {\"outlinewidth\": 0, \"ticks\": \"\"}}, \"type\": \"scatterpolar\"}], \"scatterpolargl\": [{\"marker\": {\"colorbar\": {\"outlinewidth\": 0, \"ticks\": \"\"}}, \"type\": \"scatterpolargl\"}], \"scatterternary\": [{\"marker\": {\"colorbar\": {\"outlinewidth\": 0, \"ticks\": \"\"}}, \"type\": \"scatterternary\"}], \"surface\": [{\"colorbar\": {\"outlinewidth\": 0, \"ticks\": \"\"}, \"colorscale\": [[0.0, \"#0d0887\"], [0.1111111111111111, \"#46039f\"], [0.2222222222222222, \"#7201a8\"], [0.3333333333333333, \"#9c179e\"], [0.4444444444444444, \"#bd3786\"], [0.5555555555555556, \"#d8576b\"], [0.6666666666666666, \"#ed7953\"], [0.7777777777777778, \"#fb9f3a\"], [0.8888888888888888, \"#fdca26\"], [1.0, \"#f0f921\"]], \"type\": \"surface\"}], \"table\": [{\"cells\": {\"fill\": {\"color\": \"#EBF0F8\"}, \"line\": {\"color\": \"white\"}}, \"header\": {\"fill\": {\"color\": \"#C8D4E3\"}, \"line\": {\"color\": \"white\"}}, \"type\": \"table\"}]}, \"layout\": {\"annotationdefaults\": {\"arrowcolor\": \"#2a3f5f\", \"arrowhead\": 0, \"arrowwidth\": 1}, \"coloraxis\": {\"colorbar\": {\"outlinewidth\": 0, \"ticks\": \"\"}}, \"colorscale\": {\"diverging\": [[0, \"#8e0152\"], [0.1, \"#c51b7d\"], [0.2, \"#de77ae\"], [0.3, \"#f1b6da\"], [0.4, \"#fde0ef\"], [0.5, \"#f7f7f7\"], [0.6, \"#e6f5d0\"], [0.7, \"#b8e186\"], [0.8, \"#7fbc41\"], [0.9, \"#4d9221\"], [1, \"#276419\"]], \"sequential\": [[0.0, \"#0d0887\"], [0.1111111111111111, \"#46039f\"], [0.2222222222222222, \"#7201a8\"], [0.3333333333333333, \"#9c179e\"], [0.4444444444444444, \"#bd3786\"], [0.5555555555555556, \"#d8576b\"], [0.6666666666666666, \"#ed7953\"], [0.7777777777777778, \"#fb9f3a\"], [0.8888888888888888, \"#fdca26\"], [1.0, \"#f0f921\"]], \"sequentialminus\": [[0.0, \"#0d0887\"], [0.1111111111111111, \"#46039f\"], [0.2222222222222222, \"#7201a8\"], [0.3333333333333333, \"#9c179e\"], [0.4444444444444444, \"#bd3786\"], [0.5555555555555556, \"#d8576b\"], [0.6666666666666666, \"#ed7953\"], [0.7777777777777778, \"#fb9f3a\"], [0.8888888888888888, \"#fdca26\"], [1.0, \"#f0f921\"]]}, \"colorway\": [\"#636efa\", \"#EF553B\", \"#00cc96\", \"#ab63fa\", \"#FFA15A\", \"#19d3f3\", \"#FF6692\", \"#B6E880\", \"#FF97FF\", \"#FECB52\"], \"font\": {\"color\": \"#2a3f5f\"}, \"geo\": {\"bgcolor\": \"white\", \"lakecolor\": \"white\", \"landcolor\": \"#E5ECF6\", \"showlakes\": true, \"showland\": true, \"subunitcolor\": \"white\"}, \"hoverlabel\": {\"align\": \"left\"}, \"hovermode\": \"closest\", \"mapbox\": {\"style\": \"light\"}, \"paper_bgcolor\": \"white\", \"plot_bgcolor\": \"#E5ECF6\", \"polar\": {\"angularaxis\": {\"gridcolor\": \"white\", \"linecolor\": \"white\", \"ticks\": \"\"}, \"bgcolor\": \"#E5ECF6\", \"radialaxis\": {\"gridcolor\": \"white\", \"linecolor\": \"white\", \"ticks\": \"\"}}, \"scene\": {\"xaxis\": {\"backgroundcolor\": \"#E5ECF6\", \"gridcolor\": \"white\", \"gridwidth\": 2, \"linecolor\": \"white\", \"showbackground\": true, \"ticks\": \"\", \"zerolinecolor\": \"white\"}, \"yaxis\": {\"backgroundcolor\": \"#E5ECF6\", \"gridcolor\": \"white\", \"gridwidth\": 2, \"linecolor\": \"white\", \"showbackground\": true, \"ticks\": \"\", \"zerolinecolor\": \"white\"}, \"zaxis\": {\"backgroundcolor\": \"#E5ECF6\", \"gridcolor\": \"white\", \"gridwidth\": 2, \"linecolor\": \"white\", \"showbackground\": true, \"ticks\": \"\", \"zerolinecolor\": \"white\"}}, \"shapedefaults\": {\"line\": {\"color\": \"#2a3f5f\"}}, \"ternary\": {\"aaxis\": {\"gridcolor\": \"white\", \"linecolor\": \"white\", \"ticks\": \"\"}, \"baxis\": {\"gridcolor\": \"white\", \"linecolor\": \"white\", \"ticks\": \"\"}, \"bgcolor\": \"#E5ECF6\", \"caxis\": {\"gridcolor\": \"white\", \"linecolor\": \"white\", \"ticks\": \"\"}}, \"title\": {\"x\": 0.05}, \"xaxis\": {\"automargin\": true, \"gridcolor\": \"white\", \"linecolor\": \"white\", \"ticks\": \"\", \"title\": {\"standoff\": 15}, \"zerolinecolor\": \"white\", \"zerolinewidth\": 2}, \"yaxis\": {\"automargin\": true, \"gridcolor\": \"white\", \"linecolor\": \"white\", \"ticks\": \"\", \"title\": {\"standoff\": 15}, \"zerolinecolor\": \"white\", \"zerolinewidth\": 2}}}, \"title\": {\"text\": \"Top 10 popular beers\"}, \"xaxis\": {\"title\": {\"text\": \"Count of reviews\"}}},\n",
              "                        {\"responsive\": true}\n",
              "                    ).then(function(){\n",
              "                            \n",
              "var gd = document.getElementById('51faa98a-94da-4670-96c2-6ee0b64ee1d3');\n",
              "var x = new MutationObserver(function (mutations, observer) {{\n",
              "        var display = window.getComputedStyle(gd).display;\n",
              "        if (!display || display === 'none') {{\n",
              "            console.log([gd, 'removed!']);\n",
              "            Plotly.purge(gd);\n",
              "            observer.disconnect();\n",
              "        }}\n",
              "}});\n",
              "\n",
              "// Listen for the removal of the full notebook cells\n",
              "var notebookContainer = gd.closest('#notebook-container');\n",
              "if (notebookContainer) {{\n",
              "    x.observe(notebookContainer, {childList: true});\n",
              "}}\n",
              "\n",
              "// Listen for the clearing of the current output cell\n",
              "var outputEl = gd.closest('.output');\n",
              "if (outputEl) {{\n",
              "    x.observe(outputEl, {childList: true});\n",
              "}}\n",
              "\n",
              "                        })\n",
              "                };\n",
              "                \n",
              "            </script>\n",
              "        </div>\n",
              "</body>\n",
              "</html>"
            ]
          },
          "metadata": {
            "tags": []
          }
        }
      ]
    },
    {
      "cell_type": "code",
      "metadata": {
        "colab": {
          "base_uri": "https://localhost:8080/",
          "height": 542
        },
        "id": "o8mZ9Y7aUSPN",
        "outputId": "70dc9d23-dee6-4037-f557-0a23d4881219"
      },
      "source": [
        "rate_beer = df[['beer_name','review_overall']].groupby('beer_name').agg('mean')\n",
        "\n",
        "rate_beer = rate_beer.reset_index()\n",
        "\n",
        "rate_beer\n",
        "bar4 = go.Bar(x=rate_beer.sort_values(by=\"review_overall\",ascending=False).head(10).sort_values(by=\"review_overall\",ascending=True).review_overall,\n",
        "              y=rate_beer.sort_values(by=\"review_overall\",ascending=False).head(10).sort_values(by=\"review_overall\",ascending=True).beer_name,\n",
        "              hoverinfo = 'x',\n",
        "              text=rate_beer.sort_values(by=\"review_overall\",ascending=False).head(10).sort_values(by=\"review_overall\",ascending=True).review_overall,\n",
        "              textposition = 'inside',\n",
        "              orientation = 'h',\n",
        "              opacity=0.75, \n",
        "              marker=dict(color='rgb(1, 77, 102)'))\n",
        "\n",
        "layout = go.Layout(title='Top 10 beers with highest rating',\n",
        "                   xaxis=dict(title=\"Count of reviews\",),\n",
        "                   margin = dict(l = 220),\n",
        "                   font=dict(family='Comic Sans MS',\n",
        "                            color='dark gray'))\n",
        "\n",
        "fig = go.Figure(data=bar4, layout=layout)\n",
        "\n",
        "plotly.offline.iplot(fig)"
      ],
      "execution_count": null,
      "outputs": [
        {
          "output_type": "display_data",
          "data": {
            "text/html": [
              "<html>\n",
              "<head><meta charset=\"utf-8\" /></head>\n",
              "<body>\n",
              "    <div>\n",
              "            <script src=\"https://cdnjs.cloudflare.com/ajax/libs/mathjax/2.7.5/MathJax.js?config=TeX-AMS-MML_SVG\"></script><script type=\"text/javascript\">if (window.MathJax) {MathJax.Hub.Config({SVG: {font: \"STIX-Web\"}});}</script>\n",
              "                <script type=\"text/javascript\">window.PlotlyConfig = {MathJaxConfig: 'local'};</script>\n",
              "        <script src=\"https://cdn.plot.ly/plotly-latest.min.js\"></script>    \n",
              "            <div id=\"f4e6d5b3-f871-406e-b6e8-7fb8e7696639\" class=\"plotly-graph-div\" style=\"height:525px; width:100%;\"></div>\n",
              "            <script type=\"text/javascript\">\n",
              "                \n",
              "                    window.PLOTLYENV=window.PLOTLYENV || {};\n",
              "                    \n",
              "                if (document.getElementById(\"f4e6d5b3-f871-406e-b6e8-7fb8e7696639\")) {\n",
              "                    Plotly.newPlot(\n",
              "                        'f4e6d5b3-f871-406e-b6e8-7fb8e7696639',\n",
              "                        [{\"hoverinfo\": \"x\", \"marker\": {\"color\": \"rgb(1, 77, 102)\"}, \"opacity\": 0.75, \"orientation\": \"h\", \"text\": [5.0, 5.0, 5.0, 5.0, 5.0, 5.0, 5.0, 5.0, 5.0, 5.0], \"textposition\": \"inside\", \"type\": \"bar\", \"x\": [5.0, 5.0, 5.0, 5.0, 5.0, 5.0, 5.0, 5.0, 5.0, 5.0], \"y\": [\"Quinn's Marathon Mild\", \"BourbonDog ESB\", \"Centennial Pale Ale\", \"Cauldron Brew\", \"Limping Mallard\", \"Calapooia Barleywine\", \"Farmhouse Ale\", \"Final Countdown\", \"Amarillo Single Hop Pale Ale\", \"Bourbon Barrel Coffee Night Train\"]}],\n",
              "                        {\"font\": {\"color\": \"dark gray\", \"family\": \"Comic Sans MS\"}, \"margin\": {\"l\": 220}, \"template\": {\"data\": {\"bar\": [{\"error_x\": {\"color\": \"#2a3f5f\"}, \"error_y\": {\"color\": \"#2a3f5f\"}, \"marker\": {\"line\": {\"color\": \"#E5ECF6\", \"width\": 0.5}}, \"type\": \"bar\"}], \"barpolar\": [{\"marker\": {\"line\": {\"color\": \"#E5ECF6\", \"width\": 0.5}}, \"type\": \"barpolar\"}], \"carpet\": [{\"aaxis\": {\"endlinecolor\": \"#2a3f5f\", \"gridcolor\": \"white\", \"linecolor\": \"white\", \"minorgridcolor\": \"white\", \"startlinecolor\": \"#2a3f5f\"}, \"baxis\": {\"endlinecolor\": \"#2a3f5f\", \"gridcolor\": \"white\", \"linecolor\": \"white\", \"minorgridcolor\": \"white\", \"startlinecolor\": \"#2a3f5f\"}, \"type\": \"carpet\"}], \"choropleth\": [{\"colorbar\": {\"outlinewidth\": 0, \"ticks\": \"\"}, \"type\": \"choropleth\"}], \"contour\": [{\"colorbar\": {\"outlinewidth\": 0, \"ticks\": \"\"}, \"colorscale\": [[0.0, \"#0d0887\"], [0.1111111111111111, \"#46039f\"], [0.2222222222222222, \"#7201a8\"], [0.3333333333333333, \"#9c179e\"], [0.4444444444444444, \"#bd3786\"], [0.5555555555555556, \"#d8576b\"], [0.6666666666666666, \"#ed7953\"], [0.7777777777777778, \"#fb9f3a\"], [0.8888888888888888, \"#fdca26\"], [1.0, \"#f0f921\"]], \"type\": \"contour\"}], \"contourcarpet\": [{\"colorbar\": {\"outlinewidth\": 0, \"ticks\": \"\"}, \"type\": \"contourcarpet\"}], \"heatmap\": [{\"colorbar\": {\"outlinewidth\": 0, \"ticks\": \"\"}, \"colorscale\": [[0.0, \"#0d0887\"], [0.1111111111111111, \"#46039f\"], [0.2222222222222222, \"#7201a8\"], [0.3333333333333333, \"#9c179e\"], [0.4444444444444444, \"#bd3786\"], [0.5555555555555556, \"#d8576b\"], [0.6666666666666666, \"#ed7953\"], [0.7777777777777778, \"#fb9f3a\"], [0.8888888888888888, \"#fdca26\"], [1.0, \"#f0f921\"]], \"type\": \"heatmap\"}], \"heatmapgl\": [{\"colorbar\": {\"outlinewidth\": 0, \"ticks\": \"\"}, \"colorscale\": [[0.0, \"#0d0887\"], [0.1111111111111111, \"#46039f\"], [0.2222222222222222, \"#7201a8\"], [0.3333333333333333, \"#9c179e\"], [0.4444444444444444, \"#bd3786\"], [0.5555555555555556, \"#d8576b\"], [0.6666666666666666, \"#ed7953\"], [0.7777777777777778, \"#fb9f3a\"], [0.8888888888888888, \"#fdca26\"], [1.0, \"#f0f921\"]], \"type\": \"heatmapgl\"}], \"histogram\": [{\"marker\": {\"colorbar\": {\"outlinewidth\": 0, \"ticks\": \"\"}}, \"type\": \"histogram\"}], \"histogram2d\": [{\"colorbar\": {\"outlinewidth\": 0, \"ticks\": \"\"}, \"colorscale\": [[0.0, \"#0d0887\"], [0.1111111111111111, \"#46039f\"], [0.2222222222222222, \"#7201a8\"], [0.3333333333333333, \"#9c179e\"], [0.4444444444444444, \"#bd3786\"], [0.5555555555555556, \"#d8576b\"], [0.6666666666666666, \"#ed7953\"], [0.7777777777777778, \"#fb9f3a\"], [0.8888888888888888, \"#fdca26\"], [1.0, \"#f0f921\"]], \"type\": \"histogram2d\"}], \"histogram2dcontour\": [{\"colorbar\": {\"outlinewidth\": 0, \"ticks\": \"\"}, \"colorscale\": [[0.0, \"#0d0887\"], [0.1111111111111111, \"#46039f\"], [0.2222222222222222, \"#7201a8\"], [0.3333333333333333, \"#9c179e\"], [0.4444444444444444, \"#bd3786\"], [0.5555555555555556, \"#d8576b\"], [0.6666666666666666, \"#ed7953\"], [0.7777777777777778, \"#fb9f3a\"], [0.8888888888888888, \"#fdca26\"], [1.0, \"#f0f921\"]], \"type\": \"histogram2dcontour\"}], \"mesh3d\": [{\"colorbar\": {\"outlinewidth\": 0, \"ticks\": \"\"}, \"type\": \"mesh3d\"}], \"parcoords\": [{\"line\": {\"colorbar\": {\"outlinewidth\": 0, \"ticks\": \"\"}}, \"type\": \"parcoords\"}], \"pie\": [{\"automargin\": true, \"type\": \"pie\"}], \"scatter\": [{\"marker\": {\"colorbar\": {\"outlinewidth\": 0, \"ticks\": \"\"}}, \"type\": \"scatter\"}], \"scatter3d\": [{\"line\": {\"colorbar\": {\"outlinewidth\": 0, \"ticks\": \"\"}}, \"marker\": {\"colorbar\": {\"outlinewidth\": 0, \"ticks\": \"\"}}, \"type\": \"scatter3d\"}], \"scattercarpet\": [{\"marker\": {\"colorbar\": {\"outlinewidth\": 0, \"ticks\": \"\"}}, \"type\": \"scattercarpet\"}], \"scattergeo\": [{\"marker\": {\"colorbar\": {\"outlinewidth\": 0, \"ticks\": \"\"}}, \"type\": \"scattergeo\"}], \"scattergl\": [{\"marker\": {\"colorbar\": {\"outlinewidth\": 0, \"ticks\": \"\"}}, \"type\": \"scattergl\"}], \"scattermapbox\": [{\"marker\": {\"colorbar\": {\"outlinewidth\": 0, \"ticks\": \"\"}}, \"type\": \"scattermapbox\"}], \"scatterpolar\": [{\"marker\": {\"colorbar\": {\"outlinewidth\": 0, \"ticks\": \"\"}}, \"type\": \"scatterpolar\"}], \"scatterpolargl\": [{\"marker\": {\"colorbar\": {\"outlinewidth\": 0, \"ticks\": \"\"}}, \"type\": \"scatterpolargl\"}], \"scatterternary\": [{\"marker\": {\"colorbar\": {\"outlinewidth\": 0, \"ticks\": \"\"}}, \"type\": \"scatterternary\"}], \"surface\": [{\"colorbar\": {\"outlinewidth\": 0, \"ticks\": \"\"}, \"colorscale\": [[0.0, \"#0d0887\"], [0.1111111111111111, \"#46039f\"], [0.2222222222222222, \"#7201a8\"], [0.3333333333333333, \"#9c179e\"], [0.4444444444444444, \"#bd3786\"], [0.5555555555555556, \"#d8576b\"], [0.6666666666666666, \"#ed7953\"], [0.7777777777777778, \"#fb9f3a\"], [0.8888888888888888, \"#fdca26\"], [1.0, \"#f0f921\"]], \"type\": \"surface\"}], \"table\": [{\"cells\": {\"fill\": {\"color\": \"#EBF0F8\"}, \"line\": {\"color\": \"white\"}}, \"header\": {\"fill\": {\"color\": \"#C8D4E3\"}, \"line\": {\"color\": \"white\"}}, \"type\": \"table\"}]}, \"layout\": {\"annotationdefaults\": {\"arrowcolor\": \"#2a3f5f\", \"arrowhead\": 0, \"arrowwidth\": 1}, \"coloraxis\": {\"colorbar\": {\"outlinewidth\": 0, \"ticks\": \"\"}}, \"colorscale\": {\"diverging\": [[0, \"#8e0152\"], [0.1, \"#c51b7d\"], [0.2, \"#de77ae\"], [0.3, \"#f1b6da\"], [0.4, \"#fde0ef\"], [0.5, \"#f7f7f7\"], [0.6, \"#e6f5d0\"], [0.7, \"#b8e186\"], [0.8, \"#7fbc41\"], [0.9, \"#4d9221\"], [1, \"#276419\"]], \"sequential\": [[0.0, \"#0d0887\"], [0.1111111111111111, \"#46039f\"], [0.2222222222222222, \"#7201a8\"], [0.3333333333333333, \"#9c179e\"], [0.4444444444444444, \"#bd3786\"], [0.5555555555555556, \"#d8576b\"], [0.6666666666666666, \"#ed7953\"], [0.7777777777777778, \"#fb9f3a\"], [0.8888888888888888, \"#fdca26\"], [1.0, \"#f0f921\"]], \"sequentialminus\": [[0.0, \"#0d0887\"], [0.1111111111111111, \"#46039f\"], [0.2222222222222222, \"#7201a8\"], [0.3333333333333333, \"#9c179e\"], [0.4444444444444444, \"#bd3786\"], [0.5555555555555556, \"#d8576b\"], [0.6666666666666666, \"#ed7953\"], [0.7777777777777778, \"#fb9f3a\"], [0.8888888888888888, \"#fdca26\"], [1.0, \"#f0f921\"]]}, \"colorway\": [\"#636efa\", \"#EF553B\", \"#00cc96\", \"#ab63fa\", \"#FFA15A\", \"#19d3f3\", \"#FF6692\", \"#B6E880\", \"#FF97FF\", \"#FECB52\"], \"font\": {\"color\": \"#2a3f5f\"}, \"geo\": {\"bgcolor\": \"white\", \"lakecolor\": \"white\", \"landcolor\": \"#E5ECF6\", \"showlakes\": true, \"showland\": true, \"subunitcolor\": \"white\"}, \"hoverlabel\": {\"align\": \"left\"}, \"hovermode\": \"closest\", \"mapbox\": {\"style\": \"light\"}, \"paper_bgcolor\": \"white\", \"plot_bgcolor\": \"#E5ECF6\", \"polar\": {\"angularaxis\": {\"gridcolor\": \"white\", \"linecolor\": \"white\", \"ticks\": \"\"}, \"bgcolor\": \"#E5ECF6\", \"radialaxis\": {\"gridcolor\": \"white\", \"linecolor\": \"white\", \"ticks\": \"\"}}, \"scene\": {\"xaxis\": {\"backgroundcolor\": \"#E5ECF6\", \"gridcolor\": \"white\", \"gridwidth\": 2, \"linecolor\": \"white\", \"showbackground\": true, \"ticks\": \"\", \"zerolinecolor\": \"white\"}, \"yaxis\": {\"backgroundcolor\": \"#E5ECF6\", \"gridcolor\": \"white\", \"gridwidth\": 2, \"linecolor\": \"white\", \"showbackground\": true, \"ticks\": \"\", \"zerolinecolor\": \"white\"}, \"zaxis\": {\"backgroundcolor\": \"#E5ECF6\", \"gridcolor\": \"white\", \"gridwidth\": 2, \"linecolor\": \"white\", \"showbackground\": true, \"ticks\": \"\", \"zerolinecolor\": \"white\"}}, \"shapedefaults\": {\"line\": {\"color\": \"#2a3f5f\"}}, \"ternary\": {\"aaxis\": {\"gridcolor\": \"white\", \"linecolor\": \"white\", \"ticks\": \"\"}, \"baxis\": {\"gridcolor\": \"white\", \"linecolor\": \"white\", \"ticks\": \"\"}, \"bgcolor\": \"#E5ECF6\", \"caxis\": {\"gridcolor\": \"white\", \"linecolor\": \"white\", \"ticks\": \"\"}}, \"title\": {\"x\": 0.05}, \"xaxis\": {\"automargin\": true, \"gridcolor\": \"white\", \"linecolor\": \"white\", \"ticks\": \"\", \"title\": {\"standoff\": 15}, \"zerolinecolor\": \"white\", \"zerolinewidth\": 2}, \"yaxis\": {\"automargin\": true, \"gridcolor\": \"white\", \"linecolor\": \"white\", \"ticks\": \"\", \"title\": {\"standoff\": 15}, \"zerolinecolor\": \"white\", \"zerolinewidth\": 2}}}, \"title\": {\"text\": \"Top 10 beers with highest rating\"}, \"xaxis\": {\"title\": {\"text\": \"Count of reviews\"}}},\n",
              "                        {\"responsive\": true}\n",
              "                    ).then(function(){\n",
              "                            \n",
              "var gd = document.getElementById('f4e6d5b3-f871-406e-b6e8-7fb8e7696639');\n",
              "var x = new MutationObserver(function (mutations, observer) {{\n",
              "        var display = window.getComputedStyle(gd).display;\n",
              "        if (!display || display === 'none') {{\n",
              "            console.log([gd, 'removed!']);\n",
              "            Plotly.purge(gd);\n",
              "            observer.disconnect();\n",
              "        }}\n",
              "}});\n",
              "\n",
              "// Listen for the removal of the full notebook cells\n",
              "var notebookContainer = gd.closest('#notebook-container');\n",
              "if (notebookContainer) {{\n",
              "    x.observe(notebookContainer, {childList: true});\n",
              "}}\n",
              "\n",
              "// Listen for the clearing of the current output cell\n",
              "var outputEl = gd.closest('.output');\n",
              "if (outputEl) {{\n",
              "    x.observe(outputEl, {childList: true});\n",
              "}}\n",
              "\n",
              "                        })\n",
              "                };\n",
              "                \n",
              "            </script>\n",
              "        </div>\n",
              "</body>\n",
              "</html>"
            ]
          },
          "metadata": {
            "tags": []
          }
        }
      ]
    },
    {
      "cell_type": "code",
      "metadata": {
        "colab": {
          "base_uri": "https://localhost:8080/"
        },
        "id": "570ZCwu7UXKi",
        "outputId": "eb112860-abd3-44b3-8361-915190f25b01"
      },
      "source": [
        "aa=list(rate_beer.sort_values(by=\"review_overall\",ascending=False).head(10).sort_values(by=\"review_overall\",ascending=True).beer_name)\n",
        "df[df['beer_name'].isin(aa)].groupby(\"beer_name\").agg(\"count\").reset_index().beer_name.value_counts()"
      ],
      "execution_count": null,
      "outputs": [
        {
          "output_type": "execute_result",
          "data": {
            "text/plain": [
              "Centennial Pale Ale                  1\n",
              "Bourbon Barrel Coffee Night Train    1\n",
              "Farmhouse Ale                        1\n",
              "Final Countdown                      1\n",
              "Amarillo Single Hop Pale Ale         1\n",
              "BourbonDog ESB                       1\n",
              "Limping Mallard                      1\n",
              "Calapooia Barleywine                 1\n",
              "Quinn's Marathon Mild                1\n",
              "Cauldron Brew                        1\n",
              "Name: beer_name, dtype: int64"
            ]
          },
          "metadata": {
            "tags": []
          },
          "execution_count": 37
        }
      ]
    },
    {
      "cell_type": "code",
      "metadata": {
        "colab": {
          "base_uri": "https://localhost:8080/",
          "height": 542
        },
        "id": "uXz88GaAUhic",
        "outputId": "134898ba-2615-4f86-b799-87aaf2824769"
      },
      "source": [
        "bar5 = go.Bar(x=df.beer_style.value_counts().head(10).sort_values(ascending=True),\n",
        "              y=df.beer_style.value_counts().head(10).sort_values(ascending=True).index,\n",
        "              hoverinfo = 'x',\n",
        "              text=df.beer_style.value_counts().head(10).sort_values(ascending=True).index,\n",
        "              textposition = 'inside',\n",
        "              orientation = 'h',\n",
        "              opacity=0.75, \n",
        "              marker=dict(color='rgb(1, 77, 102)'))\n",
        "\n",
        "layout = go.Layout(title='The Top 10 popular beers styles',\n",
        "                   xaxis=dict(title=\"Count of reviews\",),\n",
        "                   margin = dict(l = 220),\n",
        "                   font=dict(family='Comic Sans MS',\n",
        "                            color='dark gray'))\n",
        "\n",
        "fig = go.Figure(data=bar5, layout=layout)\n",
        "\n",
        "# Plot it\n",
        "plotly.offline.iplot(fig)"
      ],
      "execution_count": null,
      "outputs": [
        {
          "output_type": "display_data",
          "data": {
            "text/html": [
              "<html>\n",
              "<head><meta charset=\"utf-8\" /></head>\n",
              "<body>\n",
              "    <div>\n",
              "            <script src=\"https://cdnjs.cloudflare.com/ajax/libs/mathjax/2.7.5/MathJax.js?config=TeX-AMS-MML_SVG\"></script><script type=\"text/javascript\">if (window.MathJax) {MathJax.Hub.Config({SVG: {font: \"STIX-Web\"}});}</script>\n",
              "                <script type=\"text/javascript\">window.PlotlyConfig = {MathJaxConfig: 'local'};</script>\n",
              "        <script src=\"https://cdn.plot.ly/plotly-latest.min.js\"></script>    \n",
              "            <div id=\"78381449-2811-4891-9811-a646bdd6a6ff\" class=\"plotly-graph-div\" style=\"height:525px; width:100%;\"></div>\n",
              "            <script type=\"text/javascript\">\n",
              "                \n",
              "                    window.PLOTLYENV=window.PLOTLYENV || {};\n",
              "                    \n",
              "                if (document.getElementById(\"78381449-2811-4891-9811-a646bdd6a6ff\")) {\n",
              "                    Plotly.newPlot(\n",
              "                        '78381449-2811-4891-9811-a646bdd6a6ff',\n",
              "                        [{\"hoverinfo\": \"x\", \"marker\": {\"color\": \"rgb(1, 77, 102)\"}, \"opacity\": 0.75, \"orientation\": \"h\", \"text\": [\"Czech Pilsener\", \"Rye Beer\", \"Rauchbier\", \"American Porter\", \"American Pale Ale (APA)\", \"Russian Imperial Stout\", \"Scotch Ale / Wee Heavy\", \"American Double / Imperial IPA\", \"American IPA\", \"American Double / Imperial Stout\"], \"textposition\": \"inside\", \"type\": \"bar\", \"x\": [1108, 1341, 1454, 1683, 1688, 2021, 2114, 2847, 3014, 4411], \"y\": [\"Czech Pilsener\", \"Rye Beer\", \"Rauchbier\", \"American Porter\", \"American Pale Ale (APA)\", \"Russian Imperial Stout\", \"Scotch Ale / Wee Heavy\", \"American Double / Imperial IPA\", \"American IPA\", \"American Double / Imperial Stout\"]}],\n",
              "                        {\"font\": {\"color\": \"dark gray\", \"family\": \"Comic Sans MS\"}, \"margin\": {\"l\": 220}, \"template\": {\"data\": {\"bar\": [{\"error_x\": {\"color\": \"#2a3f5f\"}, \"error_y\": {\"color\": \"#2a3f5f\"}, \"marker\": {\"line\": {\"color\": \"#E5ECF6\", \"width\": 0.5}}, \"type\": \"bar\"}], \"barpolar\": [{\"marker\": {\"line\": {\"color\": \"#E5ECF6\", \"width\": 0.5}}, \"type\": \"barpolar\"}], \"carpet\": [{\"aaxis\": {\"endlinecolor\": \"#2a3f5f\", \"gridcolor\": \"white\", \"linecolor\": \"white\", \"minorgridcolor\": \"white\", \"startlinecolor\": \"#2a3f5f\"}, \"baxis\": {\"endlinecolor\": \"#2a3f5f\", \"gridcolor\": \"white\", \"linecolor\": \"white\", \"minorgridcolor\": \"white\", \"startlinecolor\": \"#2a3f5f\"}, \"type\": \"carpet\"}], \"choropleth\": [{\"colorbar\": {\"outlinewidth\": 0, \"ticks\": \"\"}, \"type\": \"choropleth\"}], \"contour\": [{\"colorbar\": {\"outlinewidth\": 0, \"ticks\": \"\"}, \"colorscale\": [[0.0, \"#0d0887\"], [0.1111111111111111, \"#46039f\"], [0.2222222222222222, \"#7201a8\"], [0.3333333333333333, \"#9c179e\"], [0.4444444444444444, \"#bd3786\"], [0.5555555555555556, \"#d8576b\"], [0.6666666666666666, \"#ed7953\"], [0.7777777777777778, \"#fb9f3a\"], [0.8888888888888888, \"#fdca26\"], [1.0, \"#f0f921\"]], \"type\": \"contour\"}], \"contourcarpet\": [{\"colorbar\": {\"outlinewidth\": 0, \"ticks\": \"\"}, \"type\": \"contourcarpet\"}], \"heatmap\": [{\"colorbar\": {\"outlinewidth\": 0, \"ticks\": \"\"}, \"colorscale\": [[0.0, \"#0d0887\"], [0.1111111111111111, \"#46039f\"], [0.2222222222222222, \"#7201a8\"], [0.3333333333333333, \"#9c179e\"], [0.4444444444444444, \"#bd3786\"], [0.5555555555555556, \"#d8576b\"], [0.6666666666666666, \"#ed7953\"], [0.7777777777777778, \"#fb9f3a\"], [0.8888888888888888, \"#fdca26\"], [1.0, \"#f0f921\"]], \"type\": \"heatmap\"}], \"heatmapgl\": [{\"colorbar\": {\"outlinewidth\": 0, \"ticks\": \"\"}, \"colorscale\": [[0.0, \"#0d0887\"], [0.1111111111111111, \"#46039f\"], [0.2222222222222222, \"#7201a8\"], [0.3333333333333333, \"#9c179e\"], [0.4444444444444444, \"#bd3786\"], [0.5555555555555556, \"#d8576b\"], [0.6666666666666666, \"#ed7953\"], [0.7777777777777778, \"#fb9f3a\"], [0.8888888888888888, \"#fdca26\"], [1.0, \"#f0f921\"]], \"type\": \"heatmapgl\"}], \"histogram\": [{\"marker\": {\"colorbar\": {\"outlinewidth\": 0, \"ticks\": \"\"}}, \"type\": \"histogram\"}], \"histogram2d\": [{\"colorbar\": {\"outlinewidth\": 0, \"ticks\": \"\"}, \"colorscale\": [[0.0, \"#0d0887\"], [0.1111111111111111, \"#46039f\"], [0.2222222222222222, \"#7201a8\"], [0.3333333333333333, \"#9c179e\"], [0.4444444444444444, \"#bd3786\"], [0.5555555555555556, \"#d8576b\"], [0.6666666666666666, \"#ed7953\"], [0.7777777777777778, \"#fb9f3a\"], [0.8888888888888888, \"#fdca26\"], [1.0, \"#f0f921\"]], \"type\": \"histogram2d\"}], \"histogram2dcontour\": [{\"colorbar\": {\"outlinewidth\": 0, \"ticks\": \"\"}, \"colorscale\": [[0.0, \"#0d0887\"], [0.1111111111111111, \"#46039f\"], [0.2222222222222222, \"#7201a8\"], [0.3333333333333333, \"#9c179e\"], [0.4444444444444444, \"#bd3786\"], [0.5555555555555556, \"#d8576b\"], [0.6666666666666666, \"#ed7953\"], [0.7777777777777778, \"#fb9f3a\"], [0.8888888888888888, \"#fdca26\"], [1.0, \"#f0f921\"]], \"type\": \"histogram2dcontour\"}], \"mesh3d\": [{\"colorbar\": {\"outlinewidth\": 0, \"ticks\": \"\"}, \"type\": \"mesh3d\"}], \"parcoords\": [{\"line\": {\"colorbar\": {\"outlinewidth\": 0, \"ticks\": \"\"}}, \"type\": \"parcoords\"}], \"pie\": [{\"automargin\": true, \"type\": \"pie\"}], \"scatter\": [{\"marker\": {\"colorbar\": {\"outlinewidth\": 0, \"ticks\": \"\"}}, \"type\": \"scatter\"}], \"scatter3d\": [{\"line\": {\"colorbar\": {\"outlinewidth\": 0, \"ticks\": \"\"}}, \"marker\": {\"colorbar\": {\"outlinewidth\": 0, \"ticks\": \"\"}}, \"type\": \"scatter3d\"}], \"scattercarpet\": [{\"marker\": {\"colorbar\": {\"outlinewidth\": 0, \"ticks\": \"\"}}, \"type\": \"scattercarpet\"}], \"scattergeo\": [{\"marker\": {\"colorbar\": {\"outlinewidth\": 0, \"ticks\": \"\"}}, \"type\": \"scattergeo\"}], \"scattergl\": [{\"marker\": {\"colorbar\": {\"outlinewidth\": 0, \"ticks\": \"\"}}, \"type\": \"scattergl\"}], \"scattermapbox\": [{\"marker\": {\"colorbar\": {\"outlinewidth\": 0, \"ticks\": \"\"}}, \"type\": \"scattermapbox\"}], \"scatterpolar\": [{\"marker\": {\"colorbar\": {\"outlinewidth\": 0, \"ticks\": \"\"}}, \"type\": \"scatterpolar\"}], \"scatterpolargl\": [{\"marker\": {\"colorbar\": {\"outlinewidth\": 0, \"ticks\": \"\"}}, \"type\": \"scatterpolargl\"}], \"scatterternary\": [{\"marker\": {\"colorbar\": {\"outlinewidth\": 0, \"ticks\": \"\"}}, \"type\": \"scatterternary\"}], \"surface\": [{\"colorbar\": {\"outlinewidth\": 0, \"ticks\": \"\"}, \"colorscale\": [[0.0, \"#0d0887\"], [0.1111111111111111, \"#46039f\"], [0.2222222222222222, \"#7201a8\"], [0.3333333333333333, \"#9c179e\"], [0.4444444444444444, \"#bd3786\"], [0.5555555555555556, \"#d8576b\"], [0.6666666666666666, \"#ed7953\"], [0.7777777777777778, \"#fb9f3a\"], [0.8888888888888888, \"#fdca26\"], [1.0, \"#f0f921\"]], \"type\": \"surface\"}], \"table\": [{\"cells\": {\"fill\": {\"color\": \"#EBF0F8\"}, \"line\": {\"color\": \"white\"}}, \"header\": {\"fill\": {\"color\": \"#C8D4E3\"}, \"line\": {\"color\": \"white\"}}, \"type\": \"table\"}]}, \"layout\": {\"annotationdefaults\": {\"arrowcolor\": \"#2a3f5f\", \"arrowhead\": 0, \"arrowwidth\": 1}, \"coloraxis\": {\"colorbar\": {\"outlinewidth\": 0, \"ticks\": \"\"}}, \"colorscale\": {\"diverging\": [[0, \"#8e0152\"], [0.1, \"#c51b7d\"], [0.2, \"#de77ae\"], [0.3, \"#f1b6da\"], [0.4, \"#fde0ef\"], [0.5, \"#f7f7f7\"], [0.6, \"#e6f5d0\"], [0.7, \"#b8e186\"], [0.8, \"#7fbc41\"], [0.9, \"#4d9221\"], [1, \"#276419\"]], \"sequential\": [[0.0, \"#0d0887\"], [0.1111111111111111, \"#46039f\"], [0.2222222222222222, \"#7201a8\"], [0.3333333333333333, \"#9c179e\"], [0.4444444444444444, \"#bd3786\"], [0.5555555555555556, \"#d8576b\"], [0.6666666666666666, \"#ed7953\"], [0.7777777777777778, \"#fb9f3a\"], [0.8888888888888888, \"#fdca26\"], [1.0, \"#f0f921\"]], \"sequentialminus\": [[0.0, \"#0d0887\"], [0.1111111111111111, \"#46039f\"], [0.2222222222222222, \"#7201a8\"], [0.3333333333333333, \"#9c179e\"], [0.4444444444444444, \"#bd3786\"], [0.5555555555555556, \"#d8576b\"], [0.6666666666666666, \"#ed7953\"], [0.7777777777777778, \"#fb9f3a\"], [0.8888888888888888, \"#fdca26\"], [1.0, \"#f0f921\"]]}, \"colorway\": [\"#636efa\", \"#EF553B\", \"#00cc96\", \"#ab63fa\", \"#FFA15A\", \"#19d3f3\", \"#FF6692\", \"#B6E880\", \"#FF97FF\", \"#FECB52\"], \"font\": {\"color\": \"#2a3f5f\"}, \"geo\": {\"bgcolor\": \"white\", \"lakecolor\": \"white\", \"landcolor\": \"#E5ECF6\", \"showlakes\": true, \"showland\": true, \"subunitcolor\": \"white\"}, \"hoverlabel\": {\"align\": \"left\"}, \"hovermode\": \"closest\", \"mapbox\": {\"style\": \"light\"}, \"paper_bgcolor\": \"white\", \"plot_bgcolor\": \"#E5ECF6\", \"polar\": {\"angularaxis\": {\"gridcolor\": \"white\", \"linecolor\": \"white\", \"ticks\": \"\"}, \"bgcolor\": \"#E5ECF6\", \"radialaxis\": {\"gridcolor\": \"white\", \"linecolor\": \"white\", \"ticks\": \"\"}}, \"scene\": {\"xaxis\": {\"backgroundcolor\": \"#E5ECF6\", \"gridcolor\": \"white\", \"gridwidth\": 2, \"linecolor\": \"white\", \"showbackground\": true, \"ticks\": \"\", \"zerolinecolor\": \"white\"}, \"yaxis\": {\"backgroundcolor\": \"#E5ECF6\", \"gridcolor\": \"white\", \"gridwidth\": 2, \"linecolor\": \"white\", \"showbackground\": true, \"ticks\": \"\", \"zerolinecolor\": \"white\"}, \"zaxis\": {\"backgroundcolor\": \"#E5ECF6\", \"gridcolor\": \"white\", \"gridwidth\": 2, \"linecolor\": \"white\", \"showbackground\": true, \"ticks\": \"\", \"zerolinecolor\": \"white\"}}, \"shapedefaults\": {\"line\": {\"color\": \"#2a3f5f\"}}, \"ternary\": {\"aaxis\": {\"gridcolor\": \"white\", \"linecolor\": \"white\", \"ticks\": \"\"}, \"baxis\": {\"gridcolor\": \"white\", \"linecolor\": \"white\", \"ticks\": \"\"}, \"bgcolor\": \"#E5ECF6\", \"caxis\": {\"gridcolor\": \"white\", \"linecolor\": \"white\", \"ticks\": \"\"}}, \"title\": {\"x\": 0.05}, \"xaxis\": {\"automargin\": true, \"gridcolor\": \"white\", \"linecolor\": \"white\", \"ticks\": \"\", \"title\": {\"standoff\": 15}, \"zerolinecolor\": \"white\", \"zerolinewidth\": 2}, \"yaxis\": {\"automargin\": true, \"gridcolor\": \"white\", \"linecolor\": \"white\", \"ticks\": \"\", \"title\": {\"standoff\": 15}, \"zerolinecolor\": \"white\", \"zerolinewidth\": 2}}}, \"title\": {\"text\": \"The Top 10 popular beers styles\"}, \"xaxis\": {\"title\": {\"text\": \"Count of reviews\"}}},\n",
              "                        {\"responsive\": true}\n",
              "                    ).then(function(){\n",
              "                            \n",
              "var gd = document.getElementById('78381449-2811-4891-9811-a646bdd6a6ff');\n",
              "var x = new MutationObserver(function (mutations, observer) {{\n",
              "        var display = window.getComputedStyle(gd).display;\n",
              "        if (!display || display === 'none') {{\n",
              "            console.log([gd, 'removed!']);\n",
              "            Plotly.purge(gd);\n",
              "            observer.disconnect();\n",
              "        }}\n",
              "}});\n",
              "\n",
              "// Listen for the removal of the full notebook cells\n",
              "var notebookContainer = gd.closest('#notebook-container');\n",
              "if (notebookContainer) {{\n",
              "    x.observe(notebookContainer, {childList: true});\n",
              "}}\n",
              "\n",
              "// Listen for the clearing of the current output cell\n",
              "var outputEl = gd.closest('.output');\n",
              "if (outputEl) {{\n",
              "    x.observe(outputEl, {childList: true});\n",
              "}}\n",
              "\n",
              "                        })\n",
              "                };\n",
              "                \n",
              "            </script>\n",
              "        </div>\n",
              "</body>\n",
              "</html>"
            ]
          },
          "metadata": {
            "tags": []
          }
        }
      ]
    },
    {
      "cell_type": "code",
      "metadata": {
        "colab": {
          "base_uri": "https://localhost:8080/",
          "height": 625
        },
        "id": "8hKfv_07WeJ9",
        "outputId": "bb1c3835-f296-4eb9-fec8-16a3650838ad"
      },
      "source": [
        "plt.figure(figsize=(10,8))\n",
        "plt.title(\"Distribution of beer abv\")\n",
        "sns.distplot(df.beer_abv)\n",
        "plt.xlabel(\"beer abv %\")"
      ],
      "execution_count": null,
      "outputs": [
        {
          "output_type": "stream",
          "text": [
            "/usr/local/lib/python3.6/dist-packages/seaborn/distributions.py:2551: FutureWarning:\n",
            "\n",
            "`distplot` is a deprecated function and will be removed in a future version. Please adapt your code to use either `displot` (a figure-level function with similar flexibility) or `histplot` (an axes-level function for histograms).\n",
            "\n"
          ],
          "name": "stderr"
        },
        {
          "output_type": "execute_result",
          "data": {
            "text/plain": [
              "Text(0.5, 0, 'beer abv %')"
            ]
          },
          "metadata": {
            "tags": []
          },
          "execution_count": 42
        },
        {
          "output_type": "display_data",
          "data": {
            "image/png": "[encoded data removed]",
            "text/plain": [
              "<Figure size 720x576 with 1 Axes>"
            ]
          },
          "metadata": {
            "tags": [],
            "needs_background": "light"
          }
        }
      ]
    },
    {
      "cell_type": "code",
      "metadata": {
        "colab": {
          "base_uri": "https://localhost:8080/"
        },
        "id": "YxcePI2cWjsb",
        "outputId": "c8ff9012-9aab-494a-8611-9dbc9c099471"
      },
      "source": [
        "print(\"Review count of each beer \\n \",df.beer_name.value_counts().describe())"
      ],
      "execution_count": null,
      "outputs": [
        {
          "output_type": "stream",
          "text": [
            "Review count of each beer \n",
            "  count    1688.000000\n",
            "mean       22.022512\n",
            "std        99.448214\n",
            "min         1.000000\n",
            "25%         1.000000\n",
            "50%         2.000000\n",
            "75%         7.000000\n",
            "max      1849.000000\n",
            "Name: beer_name, dtype: float64\n"
          ],
          "name": "stdout"
        }
      ]
    },
    {
      "cell_type": "code",
      "metadata": {
        "colab": {
          "base_uri": "https://localhost:8080/",
          "height": 389
        },
        "id": "kj-JSsYVWnqp",
        "outputId": "1faf9f4c-fce2-4fce-db27-f8489343781d"
      },
      "source": [
        "sns.distplot(df.beer_beerid.value_counts(),kde=False)\n",
        "plt.xlabel(\"beer_id\")\n",
        "plt.ylabel(\"count of reviews\")\n",
        "plt.title(\"distribution of beer's reviews\")\n",
        "plt.show()"
      ],
      "execution_count": null,
      "outputs": [
        {
          "output_type": "stream",
          "text": [
            "/usr/local/lib/python3.6/dist-packages/seaborn/distributions.py:2551: FutureWarning:\n",
            "\n",
            "`distplot` is a deprecated function and will be removed in a future version. Please adapt your code to use either `displot` (a figure-level function with similar flexibility) or `histplot` (an axes-level function for histograms).\n",
            "\n"
          ],
          "name": "stderr"
        },
        {
          "output_type": "display_data",
          "data": {
            "image/png": "[encoded data removed]",
            "text/plain": [
              "<Figure size 432x288 with 1 Axes>"
            ]
          },
          "metadata": {
            "tags": [],
            "needs_background": "light"
          }
        }
      ]
    },
    {
      "cell_type": "code",
      "metadata": {
        "colab": {
          "base_uri": "https://localhost:8080/"
        },
        "id": "sKXHbHd_Wsij",
        "outputId": "441f3381-d3d5-4d36-c226-b0874f47d3dc"
      },
      "source": [
        "reshape=df[['review_overall','beer_name']].groupby(\"beer_name\").agg(['count','mean'])\n",
        "print(\"Beers with review_overall more than 4: \\n\",reshape[reshape['review_overall',  'mean']>4])\n",
        "print(\"Beers with review_overall more than 4, and number of review less than 30: \\n\",reshape[reshape['review_overall',  'mean']>4][reshape[reshape['review_overall',  'mean']>4]['review_overall',  'count']<30])"
      ],
      "execution_count": null,
      "outputs": [
        {
          "output_type": "stream",
          "text": [
            "Beers with review_overall more than 4: \n",
            "                                                    review_overall      \n",
            "                                                            count  mean\n",
            "beer_name                                                              \n",
            "16 Year Anniversary Ale                                         2  4.50\n",
            "1871 Lager                                                      2  4.25\n",
            "2009 Arquebus, Ch. Boswell Barrel Finish With B...              1  4.50\n",
            "60 Schilling Scottish Ale                                       1  4.50\n",
            "80 Weight Mild Amber Scotch Ale                                 1  4.50\n",
            "...                                                           ...   ...\n",
            "Woodrow's Imperial Milk Stout                                   2  4.50\n",
            "Wort Hog Dort                                                   2  4.25\n",
            "XB                                                              2  4.50\n",
            "Yes Sir! Senator! IPA                                           1  4.50\n",
            "Yorkshire Porter                                                1  4.50\n",
            "\n",
            "[353 rows x 2 columns]\n",
            "Beers with review_overall more than 4, and number of review less than 30: \n",
            "                                                    review_overall      \n",
            "                                                            count  mean\n",
            "beer_name                                                              \n",
            "16 Year Anniversary Ale                                         2  4.50\n",
            "1871 Lager                                                      2  4.25\n",
            "2009 Arquebus, Ch. Boswell Barrel Finish With B...              1  4.50\n",
            "60 Schilling Scottish Ale                                       1  4.50\n",
            "80 Weight Mild Amber Scotch Ale                                 1  4.50\n",
            "...                                                           ...   ...\n",
            "Woodrow's Imperial Milk Stout                                   2  4.50\n",
            "Wort Hog Dort                                                   2  4.25\n",
            "XB                                                              2  4.50\n",
            "Yes Sir! Senator! IPA                                           1  4.50\n",
            "Yorkshire Porter                                                1  4.50\n",
            "\n",
            "[313 rows x 2 columns]\n"
          ],
          "name": "stdout"
        }
      ]
    },
    {
      "cell_type": "code",
      "metadata": {
        "colab": {
          "base_uri": "https://localhost:8080/",
          "height": 175
        },
        "id": "_jwfoIS8YaCT",
        "outputId": "ec9e4d8c-6a66-4bf0-852f-f14a8a777829"
      },
      "source": [
        "top10_breweries=df.beer_name.value_counts().head(10).reset_index()\n",
        "top10_styles=df.beer_style.value_counts().head(10).reset_index()\n",
        "subset = df[df['beer_name'].isin(top10_breweries['index'])& df['beer_style'].isin(top10_styles['index'])]\n",
        "\n",
        "reshaped_subset = subset[['review_overall','beer_name']].groupby(\"beer_name\").agg(['count','mean'])\n",
        "reshaped_subset = reshaped_subset[reshaped_subset['review_overall',  'count']>30]\n",
        "reshaped_subset.columns\n",
        "reshaped_subset.sort_values(('review_overall',  'mean'),ascending=False).head(2)"
      ],
      "execution_count": null,
      "outputs": [
        {
          "output_type": "execute_result",
          "data": {
            "text/html": [
              "<div>\n",
              "<style scoped>\n",
              "    .dataframe tbody tr th:only-of-type {\n",
              "        vertical-align: middle;\n",
              "    }\n",
              "\n",
              "    .dataframe tbody tr th {\n",
              "        vertical-align: top;\n",
              "    }\n",
              "\n",
              "    .dataframe thead tr th {\n",
              "        text-align: left;\n",
              "    }\n",
              "\n",
              "    .dataframe thead tr:last-of-type th {\n",
              "        text-align: right;\n",
              "    }\n",
              "</style>\n",
              "<table border=\"1\" class=\"dataframe\">\n",
              "  <thead>\n",
              "    <tr>\n",
              "      <th></th>\n",
              "      <th colspan=\"2\" halign=\"left\">review_overall</th>\n",
              "    </tr>\n",
              "    <tr>\n",
              "      <th></th>\n",
              "      <th>count</th>\n",
              "      <th>mean</th>\n",
              "    </tr>\n",
              "    <tr>\n",
              "      <th>beer_name</th>\n",
              "      <th></th>\n",
              "      <th></th>\n",
              "    </tr>\n",
              "  </thead>\n",
              "  <tbody>\n",
              "    <tr>\n",
              "      <th>Founders KBS (Kentucky Breakfast Stout)</th>\n",
              "      <td>1406</td>\n",
              "      <td>4.391892</td>\n",
              "    </tr>\n",
              "    <tr>\n",
              "      <th>Founders Breakfast Stout</th>\n",
              "      <td>1849</td>\n",
              "      <td>4.364792</td>\n",
              "    </tr>\n",
              "  </tbody>\n",
              "</table>\n",
              "</div>"
            ],
            "text/plain": [
              "                                        review_overall          \n",
              "                                                 count      mean\n",
              "beer_name                                                       \n",
              "Founders KBS (Kentucky Breakfast Stout)           1406  4.391892\n",
              "Founders Breakfast Stout                          1849  4.364792"
            ]
          },
          "metadata": {
            "tags": []
          },
          "execution_count": 48
        }
      ]
    },
    {
      "cell_type": "code",
      "metadata": {
        "colab": {
          "base_uri": "https://localhost:8080/",
          "height": 542
        },
        "id": "NDitx9wBYmuL",
        "outputId": "6e9866f8-2640-4c06-9002-c54ce43a2494"
      },
      "source": [
        "categories=['review_overall','review_aroma', 'review_appearance', 'review_palate', 'review_taste']\n",
        "r1=df[df.beer_name==\"Founders CBS Imperial Stout\"]\n",
        "r2=df[df.beer_name==\"Founders KBS (Kentucky Breakfast Stout)\"]\n",
        "r1_value=[r1.review_overall.mean(),r1.review_aroma.mean(),r1.review_appearance.mean(),r1.review_palate.mean(),r1.review_taste.mean()]\n",
        "r2_value=[r2.review_overall.mean(),r2.review_aroma.mean(),r2.review_appearance.mean(),r2.review_palate.mean(),r2.review_taste.mean()]\n",
        "\n",
        "mean_value=[df.review_overall.mean(),df.review_aroma.mean(),df.review_appearance.mean(),df.review_palate.mean(),df.review_taste.mean()]\n",
        "fig = go.Figure()\n",
        "\n",
        "fig.add_trace(go.Scatterpolar(\n",
        "      r=r1_value,\n",
        "      theta=categories,\n",
        "      fill='toself',\n",
        "      name='Founders CBS Imperial Stout'\n",
        "))\n",
        "\n",
        "fig.add_trace(go.Scatterpolar(\n",
        "      r=mean_value,\n",
        "      theta=categories,\n",
        "      fill='toself',\n",
        "      name='Overall_mean'\n",
        "))\n",
        "\n",
        "fig.update_layout(title=\"Radar chart of review features - Founders CBS Imperial Stout\",\n",
        "  polar=dict(\n",
        "    radialaxis=dict(\n",
        "      visible=True,\n",
        "      range=[0, 5]\n",
        "    )),\n",
        "  showlegend=True\n",
        ")\n",
        "\n",
        "fig.show()"
      ],
      "execution_count": null,
      "outputs": [
        {
          "output_type": "display_data",
          "data": {
            "text/html": [
              "<html>\n",
              "<head><meta charset=\"utf-8\" /></head>\n",
              "<body>\n",
              "    <div>\n",
              "            <script src=\"https://cdnjs.cloudflare.com/ajax/libs/mathjax/2.7.5/MathJax.js?config=TeX-AMS-MML_SVG\"></script><script type=\"text/javascript\">if (window.MathJax) {MathJax.Hub.Config({SVG: {font: \"STIX-Web\"}});}</script>\n",
              "                <script type=\"text/javascript\">window.PlotlyConfig = {MathJaxConfig: 'local'};</script>\n",
              "        <script src=\"https://cdn.plot.ly/plotly-latest.min.js\"></script>    \n",
              "            <div id=\"3ea1af94-8fa7-4c38-9a32-daa98f11f490\" class=\"plotly-graph-div\" style=\"height:525px; width:100%;\"></div>\n",
              "            <script type=\"text/javascript\">\n",
              "                \n",
              "                    window.PLOTLYENV=window.PLOTLYENV || {};\n",
              "                    \n",
              "                if (document.getElementById(\"3ea1af94-8fa7-4c38-9a32-daa98f11f490\")) {\n",
              "                    Plotly.newPlot(\n",
              "                        '3ea1af94-8fa7-4c38-9a32-daa98f11f490',\n",
              "                        [{\"fill\": \"toself\", \"name\": \"Founders CBS Imperial Stout\", \"r\": [4.585805084745763, 4.547669491525424, 4.440677966101695, 4.5741525423728815, 4.691737288135593], \"theta\": [\"review_overall\", \"review_aroma\", \"review_appearance\", \"review_palate\", \"review_taste\"], \"type\": \"scatterpolar\"}, {\"fill\": \"toself\", \"name\": \"Overall_mean\", \"r\": [3.8895599074622047, 3.8726260289449614, 3.8992978963791898, 3.8544412761607574, 3.921800182923549], \"theta\": [\"review_overall\", \"review_aroma\", \"review_appearance\", \"review_palate\", \"review_taste\"], \"type\": \"scatterpolar\"}],\n",
              "                        {\"polar\": {\"radialaxis\": {\"range\": [0, 5], \"visible\": true}}, \"showlegend\": true, \"template\": {\"data\": {\"bar\": [{\"error_x\": {\"color\": \"#2a3f5f\"}, \"error_y\": {\"color\": \"#2a3f5f\"}, \"marker\": {\"line\": {\"color\": \"#E5ECF6\", \"width\": 0.5}}, \"type\": \"bar\"}], \"barpolar\": [{\"marker\": {\"line\": {\"color\": \"#E5ECF6\", \"width\": 0.5}}, \"type\": \"barpolar\"}], \"carpet\": [{\"aaxis\": {\"endlinecolor\": \"#2a3f5f\", \"gridcolor\": \"white\", \"linecolor\": \"white\", \"minorgridcolor\": \"white\", \"startlinecolor\": \"#2a3f5f\"}, \"baxis\": {\"endlinecolor\": \"#2a3f5f\", \"gridcolor\": \"white\", \"linecolor\": \"white\", \"minorgridcolor\": \"white\", \"startlinecolor\": \"#2a3f5f\"}, \"type\": \"carpet\"}], \"choropleth\": [{\"colorbar\": {\"outlinewidth\": 0, \"ticks\": \"\"}, \"type\": \"choropleth\"}], \"contour\": [{\"colorbar\": {\"outlinewidth\": 0, \"ticks\": \"\"}, \"colorscale\": [[0.0, \"#0d0887\"], [0.1111111111111111, \"#46039f\"], [0.2222222222222222, \"#7201a8\"], [0.3333333333333333, \"#9c179e\"], [0.4444444444444444, \"#bd3786\"], [0.5555555555555556, \"#d8576b\"], [0.6666666666666666, \"#ed7953\"], [0.7777777777777778, \"#fb9f3a\"], [0.8888888888888888, \"#fdca26\"], [1.0, \"#f0f921\"]], \"type\": \"contour\"}], \"contourcarpet\": [{\"colorbar\": {\"outlinewidth\": 0, \"ticks\": \"\"}, \"type\": \"contourcarpet\"}], \"heatmap\": [{\"colorbar\": {\"outlinewidth\": 0, \"ticks\": \"\"}, \"colorscale\": [[0.0, \"#0d0887\"], [0.1111111111111111, \"#46039f\"], [0.2222222222222222, \"#7201a8\"], [0.3333333333333333, \"#9c179e\"], [0.4444444444444444, \"#bd3786\"], [0.5555555555555556, \"#d8576b\"], [0.6666666666666666, \"#ed7953\"], [0.7777777777777778, \"#fb9f3a\"], [0.8888888888888888, \"#fdca26\"], [1.0, \"#f0f921\"]], \"type\": \"heatmap\"}], \"heatmapgl\": [{\"colorbar\": {\"outlinewidth\": 0, \"ticks\": \"\"}, \"colorscale\": [[0.0, \"#0d0887\"], [0.1111111111111111, \"#46039f\"], [0.2222222222222222, \"#7201a8\"], [0.3333333333333333, \"#9c179e\"], [0.4444444444444444, \"#bd3786\"], [0.5555555555555556, \"#d8576b\"], [0.6666666666666666, \"#ed7953\"], [0.7777777777777778, \"#fb9f3a\"], [0.8888888888888888, \"#fdca26\"], [1.0, \"#f0f921\"]], \"type\": \"heatmapgl\"}], \"histogram\": [{\"marker\": {\"colorbar\": {\"outlinewidth\": 0, \"ticks\": \"\"}}, \"type\": \"histogram\"}], \"histogram2d\": [{\"colorbar\": {\"outlinewidth\": 0, \"ticks\": \"\"}, \"colorscale\": [[0.0, \"#0d0887\"], [0.1111111111111111, \"#46039f\"], [0.2222222222222222, \"#7201a8\"], [0.3333333333333333, \"#9c179e\"], [0.4444444444444444, \"#bd3786\"], [0.5555555555555556, \"#d8576b\"], [0.6666666666666666, \"#ed7953\"], [0.7777777777777778, \"#fb9f3a\"], [0.8888888888888888, \"#fdca26\"], [1.0, \"#f0f921\"]], \"type\": \"histogram2d\"}], \"histogram2dcontour\": [{\"colorbar\": {\"outlinewidth\": 0, \"ticks\": \"\"}, \"colorscale\": [[0.0, \"#0d0887\"], [0.1111111111111111, \"#46039f\"], [0.2222222222222222, \"#7201a8\"], [0.3333333333333333, \"#9c179e\"], [0.4444444444444444, \"#bd3786\"], [0.5555555555555556, \"#d8576b\"], [0.6666666666666666, \"#ed7953\"], [0.7777777777777778, \"#fb9f3a\"], [0.8888888888888888, \"#fdca26\"], [1.0, \"#f0f921\"]], \"type\": \"histogram2dcontour\"}], \"mesh3d\": [{\"colorbar\": {\"outlinewidth\": 0, \"ticks\": \"\"}, \"type\": \"mesh3d\"}], \"parcoords\": [{\"line\": {\"colorbar\": {\"outlinewidth\": 0, \"ticks\": \"\"}}, \"type\": \"parcoords\"}], \"pie\": [{\"automargin\": true, \"type\": \"pie\"}], \"scatter\": [{\"marker\": {\"colorbar\": {\"outlinewidth\": 0, \"ticks\": \"\"}}, \"type\": \"scatter\"}], \"scatter3d\": [{\"line\": {\"colorbar\": {\"outlinewidth\": 0, \"ticks\": \"\"}}, \"marker\": {\"colorbar\": {\"outlinewidth\": 0, \"ticks\": \"\"}}, \"type\": \"scatter3d\"}], \"scattercarpet\": [{\"marker\": {\"colorbar\": {\"outlinewidth\": 0, \"ticks\": \"\"}}, \"type\": \"scattercarpet\"}], \"scattergeo\": [{\"marker\": {\"colorbar\": {\"outlinewidth\": 0, \"ticks\": \"\"}}, \"type\": \"scattergeo\"}], \"scattergl\": [{\"marker\": {\"colorbar\": {\"outlinewidth\": 0, \"ticks\": \"\"}}, \"type\": \"scattergl\"}], \"scattermapbox\": [{\"marker\": {\"colorbar\": {\"outlinewidth\": 0, \"ticks\": \"\"}}, \"type\": \"scattermapbox\"}], \"scatterpolar\": [{\"marker\": {\"colorbar\": {\"outlinewidth\": 0, \"ticks\": \"\"}}, \"type\": \"scatterpolar\"}], \"scatterpolargl\": [{\"marker\": {\"colorbar\": {\"outlinewidth\": 0, \"ticks\": \"\"}}, \"type\": \"scatterpolargl\"}], \"scatterternary\": [{\"marker\": {\"colorbar\": {\"outlinewidth\": 0, \"ticks\": \"\"}}, \"type\": \"scatterternary\"}], \"surface\": [{\"colorbar\": {\"outlinewidth\": 0, \"ticks\": \"\"}, \"colorscale\": [[0.0, \"#0d0887\"], [0.1111111111111111, \"#46039f\"], [0.2222222222222222, \"#7201a8\"], [0.3333333333333333, \"#9c179e\"], [0.4444444444444444, \"#bd3786\"], [0.5555555555555556, \"#d8576b\"], [0.6666666666666666, \"#ed7953\"], [0.7777777777777778, \"#fb9f3a\"], [0.8888888888888888, \"#fdca26\"], [1.0, \"#f0f921\"]], \"type\": \"surface\"}], \"table\": [{\"cells\": {\"fill\": {\"color\": \"#EBF0F8\"}, \"line\": {\"color\": \"white\"}}, \"header\": {\"fill\": {\"color\": \"#C8D4E3\"}, \"line\": {\"color\": \"white\"}}, \"type\": \"table\"}]}, \"layout\": {\"annotationdefaults\": {\"arrowcolor\": \"#2a3f5f\", \"arrowhead\": 0, \"arrowwidth\": 1}, \"coloraxis\": {\"colorbar\": {\"outlinewidth\": 0, \"ticks\": \"\"}}, \"colorscale\": {\"diverging\": [[0, \"#8e0152\"], [0.1, \"#c51b7d\"], [0.2, \"#de77ae\"], [0.3, \"#f1b6da\"], [0.4, \"#fde0ef\"], [0.5, \"#f7f7f7\"], [0.6, \"#e6f5d0\"], [0.7, \"#b8e186\"], [0.8, \"#7fbc41\"], [0.9, \"#4d9221\"], [1, \"#276419\"]], \"sequential\": [[0.0, \"#0d0887\"], [0.1111111111111111, \"#46039f\"], [0.2222222222222222, \"#7201a8\"], [0.3333333333333333, \"#9c179e\"], [0.4444444444444444, \"#bd3786\"], [0.5555555555555556, \"#d8576b\"], [0.6666666666666666, \"#ed7953\"], [0.7777777777777778, \"#fb9f3a\"], [0.8888888888888888, \"#fdca26\"], [1.0, \"#f0f921\"]], \"sequentialminus\": [[0.0, \"#0d0887\"], [0.1111111111111111, \"#46039f\"], [0.2222222222222222, \"#7201a8\"], [0.3333333333333333, \"#9c179e\"], [0.4444444444444444, \"#bd3786\"], [0.5555555555555556, \"#d8576b\"], [0.6666666666666666, \"#ed7953\"], [0.7777777777777778, \"#fb9f3a\"], [0.8888888888888888, \"#fdca26\"], [1.0, \"#f0f921\"]]}, \"colorway\": [\"#636efa\", \"#EF553B\", \"#00cc96\", \"#ab63fa\", \"#FFA15A\", \"#19d3f3\", \"#FF6692\", \"#B6E880\", \"#FF97FF\", \"#FECB52\"], \"font\": {\"color\": \"#2a3f5f\"}, \"geo\": {\"bgcolor\": \"white\", \"lakecolor\": \"white\", \"landcolor\": \"#E5ECF6\", \"showlakes\": true, \"showland\": true, \"subunitcolor\": \"white\"}, \"hoverlabel\": {\"align\": \"left\"}, \"hovermode\": \"closest\", \"mapbox\": {\"style\": \"light\"}, \"paper_bgcolor\": \"white\", \"plot_bgcolor\": \"#E5ECF6\", \"polar\": {\"angularaxis\": {\"gridcolor\": \"white\", \"linecolor\": \"white\", \"ticks\": \"\"}, \"bgcolor\": \"#E5ECF6\", \"radialaxis\": {\"gridcolor\": \"white\", \"linecolor\": \"white\", \"ticks\": \"\"}}, \"scene\": {\"xaxis\": {\"backgroundcolor\": \"#E5ECF6\", \"gridcolor\": \"white\", \"gridwidth\": 2, \"linecolor\": \"white\", \"showbackground\": true, \"ticks\": \"\", \"zerolinecolor\": \"white\"}, \"yaxis\": {\"backgroundcolor\": \"#E5ECF6\", \"gridcolor\": \"white\", \"gridwidth\": 2, \"linecolor\": \"white\", \"showbackground\": true, \"ticks\": \"\", \"zerolinecolor\": \"white\"}, \"zaxis\": {\"backgroundcolor\": \"#E5ECF6\", \"gridcolor\": \"white\", \"gridwidth\": 2, \"linecolor\": \"white\", \"showbackground\": true, \"ticks\": \"\", \"zerolinecolor\": \"white\"}}, \"shapedefaults\": {\"line\": {\"color\": \"#2a3f5f\"}}, \"ternary\": {\"aaxis\": {\"gridcolor\": \"white\", \"linecolor\": \"white\", \"ticks\": \"\"}, \"baxis\": {\"gridcolor\": \"white\", \"linecolor\": \"white\", \"ticks\": \"\"}, \"bgcolor\": \"#E5ECF6\", \"caxis\": {\"gridcolor\": \"white\", \"linecolor\": \"white\", \"ticks\": \"\"}}, \"title\": {\"x\": 0.05}, \"xaxis\": {\"automargin\": true, \"gridcolor\": \"white\", \"linecolor\": \"white\", \"ticks\": \"\", \"title\": {\"standoff\": 15}, \"zerolinecolor\": \"white\", \"zerolinewidth\": 2}, \"yaxis\": {\"automargin\": true, \"gridcolor\": \"white\", \"linecolor\": \"white\", \"ticks\": \"\", \"title\": {\"standoff\": 15}, \"zerolinecolor\": \"white\", \"zerolinewidth\": 2}}}, \"title\": {\"text\": \"Radar chart of review features - Founders CBS Imperial Stout\"}},\n",
              "                        {\"responsive\": true}\n",
              "                    ).then(function(){\n",
              "                            \n",
              "var gd = document.getElementById('3ea1af94-8fa7-4c38-9a32-daa98f11f490');\n",
              "var x = new MutationObserver(function (mutations, observer) {{\n",
              "        var display = window.getComputedStyle(gd).display;\n",
              "        if (!display || display === 'none') {{\n",
              "            console.log([gd, 'removed!']);\n",
              "            Plotly.purge(gd);\n",
              "            observer.disconnect();\n",
              "        }}\n",
              "}});\n",
              "\n",
              "// Listen for the removal of the full notebook cells\n",
              "var notebookContainer = gd.closest('#notebook-container');\n",
              "if (notebookContainer) {{\n",
              "    x.observe(notebookContainer, {childList: true});\n",
              "}}\n",
              "\n",
              "// Listen for the clearing of the current output cell\n",
              "var outputEl = gd.closest('.output');\n",
              "if (outputEl) {{\n",
              "    x.observe(outputEl, {childList: true});\n",
              "}}\n",
              "\n",
              "                        })\n",
              "                };\n",
              "                \n",
              "            </script>\n",
              "        </div>\n",
              "</body>\n",
              "</html>"
            ]
          },
          "metadata": {
            "tags": []
          }
        }
      ]
    },
    {
      "cell_type": "code",
      "metadata": {
        "colab": {
          "base_uri": "https://localhost:8080/",
          "height": 542
        },
        "id": "G5rbxI4hYxP6",
        "outputId": "74e40f1c-6215-401e-8ed9-60602ccc82b5"
      },
      "source": [
        "fig = go.Figure()\n",
        "fig.add_trace(go.Scatterpolar(\n",
        "      r=r2_value,\n",
        "      theta=categories,\n",
        "      fill='toself',\n",
        "      name='Founders KBS (Kentucky Breakfast Stout)'\n",
        "))\n",
        "fig.add_trace(go.Scatterpolar(\n",
        "      r=mean_value,\n",
        "      theta=categories,\n",
        "      fill='toself',\n",
        "      name='Overall_mean'\n",
        "))\n",
        "fig.update_layout(title=\"Radar chart of review features - Founders KBS (Kentucky Breakfast Stout)\",\n",
        "  polar=dict(\n",
        "    radialaxis=dict(\n",
        "      visible=True,\n",
        "      range=[0, 5]\n",
        "    )),\n",
        "  showlegend=True\n",
        ")\n",
        "\n",
        "fig.show()"
      ],
      "execution_count": null,
      "outputs": [
        {
          "output_type": "display_data",
          "data": {
            "text/html": [
              "<html>\n",
              "<head><meta charset=\"utf-8\" /></head>\n",
              "<body>\n",
              "    <div>\n",
              "            <script src=\"https://cdnjs.cloudflare.com/ajax/libs/mathjax/2.7.5/MathJax.js?config=TeX-AMS-MML_SVG\"></script><script type=\"text/javascript\">if (window.MathJax) {MathJax.Hub.Config({SVG: {font: \"STIX-Web\"}});}</script>\n",
              "                <script type=\"text/javascript\">window.PlotlyConfig = {MathJaxConfig: 'local'};</script>\n",
              "        <script src=\"https://cdn.plot.ly/plotly-latest.min.js\"></script>    \n",
              "            <div id=\"bef446b6-84a6-4f2c-908a-81bc2b8158fa\" class=\"plotly-graph-div\" style=\"height:525px; width:100%;\"></div>\n",
              "            <script type=\"text/javascript\">\n",
              "                \n",
              "                    window.PLOTLYENV=window.PLOTLYENV || {};\n",
              "                    \n",
              "                if (document.getElementById(\"bef446b6-84a6-4f2c-908a-81bc2b8158fa\")) {\n",
              "                    Plotly.newPlot(\n",
              "                        'bef446b6-84a6-4f2c-908a-81bc2b8158fa',\n",
              "                        [{\"fill\": \"toself\", \"name\": \"Founders KBS (Kentucky Breakfast Stout)\", \"r\": [4.391891891891892, 4.5625889046941674, 4.374110953058321, 4.483285917496444, 4.627667140825036], \"theta\": [\"review_overall\", \"review_aroma\", \"review_appearance\", \"review_palate\", \"review_taste\"], \"type\": \"scatterpolar\"}, {\"fill\": \"toself\", \"name\": \"Overall_mean\", \"r\": [3.8895599074622047, 3.8726260289449614, 3.8992978963791898, 3.8544412761607574, 3.921800182923549], \"theta\": [\"review_overall\", \"review_aroma\", \"review_appearance\", \"review_palate\", \"review_taste\"], \"type\": \"scatterpolar\"}],\n",
              "                        {\"polar\": {\"radialaxis\": {\"range\": [0, 5], \"visible\": true}}, \"showlegend\": true, \"template\": {\"data\": {\"bar\": [{\"error_x\": {\"color\": \"#2a3f5f\"}, \"error_y\": {\"color\": \"#2a3f5f\"}, \"marker\": {\"line\": {\"color\": \"#E5ECF6\", \"width\": 0.5}}, \"type\": \"bar\"}], \"barpolar\": [{\"marker\": {\"line\": {\"color\": \"#E5ECF6\", \"width\": 0.5}}, \"type\": \"barpolar\"}], \"carpet\": [{\"aaxis\": {\"endlinecolor\": \"#2a3f5f\", \"gridcolor\": \"white\", \"linecolor\": \"white\", \"minorgridcolor\": \"white\", \"startlinecolor\": \"#2a3f5f\"}, \"baxis\": {\"endlinecolor\": \"#2a3f5f\", \"gridcolor\": \"white\", \"linecolor\": \"white\", \"minorgridcolor\": \"white\", \"startlinecolor\": \"#2a3f5f\"}, \"type\": \"carpet\"}], \"choropleth\": [{\"colorbar\": {\"outlinewidth\": 0, \"ticks\": \"\"}, \"type\": \"choropleth\"}], \"contour\": [{\"colorbar\": {\"outlinewidth\": 0, \"ticks\": \"\"}, \"colorscale\": [[0.0, \"#0d0887\"], [0.1111111111111111, \"#46039f\"], [0.2222222222222222, \"#7201a8\"], [0.3333333333333333, \"#9c179e\"], [0.4444444444444444, \"#bd3786\"], [0.5555555555555556, \"#d8576b\"], [0.6666666666666666, \"#ed7953\"], [0.7777777777777778, \"#fb9f3a\"], [0.8888888888888888, \"#fdca26\"], [1.0, \"#f0f921\"]], \"type\": \"contour\"}], \"contourcarpet\": [{\"colorbar\": {\"outlinewidth\": 0, \"ticks\": \"\"}, \"type\": \"contourcarpet\"}], \"heatmap\": [{\"colorbar\": {\"outlinewidth\": 0, \"ticks\": \"\"}, \"colorscale\": [[0.0, \"#0d0887\"], [0.1111111111111111, \"#46039f\"], [0.2222222222222222, \"#7201a8\"], [0.3333333333333333, \"#9c179e\"], [0.4444444444444444, \"#bd3786\"], [0.5555555555555556, \"#d8576b\"], [0.6666666666666666, \"#ed7953\"], [0.7777777777777778, \"#fb9f3a\"], [0.8888888888888888, \"#fdca26\"], [1.0, \"#f0f921\"]], \"type\": \"heatmap\"}], \"heatmapgl\": [{\"colorbar\": {\"outlinewidth\": 0, \"ticks\": \"\"}, \"colorscale\": [[0.0, \"#0d0887\"], [0.1111111111111111, \"#46039f\"], [0.2222222222222222, \"#7201a8\"], [0.3333333333333333, \"#9c179e\"], [0.4444444444444444, \"#bd3786\"], [0.5555555555555556, \"#d8576b\"], [0.6666666666666666, \"#ed7953\"], [0.7777777777777778, \"#fb9f3a\"], [0.8888888888888888, \"#fdca26\"], [1.0, \"#f0f921\"]], \"type\": \"heatmapgl\"}], \"histogram\": [{\"marker\": {\"colorbar\": {\"outlinewidth\": 0, \"ticks\": \"\"}}, \"type\": \"histogram\"}], \"histogram2d\": [{\"colorbar\": {\"outlinewidth\": 0, \"ticks\": \"\"}, \"colorscale\": [[0.0, \"#0d0887\"], [0.1111111111111111, \"#46039f\"], [0.2222222222222222, \"#7201a8\"], [0.3333333333333333, \"#9c179e\"], [0.4444444444444444, \"#bd3786\"], [0.5555555555555556, \"#d8576b\"], [0.6666666666666666, \"#ed7953\"], [0.7777777777777778, \"#fb9f3a\"], [0.8888888888888888, \"#fdca26\"], [1.0, \"#f0f921\"]], \"type\": \"histogram2d\"}], \"histogram2dcontour\": [{\"colorbar\": {\"outlinewidth\": 0, \"ticks\": \"\"}, \"colorscale\": [[0.0, \"#0d0887\"], [0.1111111111111111, \"#46039f\"], [0.2222222222222222, \"#7201a8\"], [0.3333333333333333, \"#9c179e\"], [0.4444444444444444, \"#bd3786\"], [0.5555555555555556, \"#d8576b\"], [0.6666666666666666, \"#ed7953\"], [0.7777777777777778, \"#fb9f3a\"], [0.8888888888888888, \"#fdca26\"], [1.0, \"#f0f921\"]], \"type\": \"histogram2dcontour\"}], \"mesh3d\": [{\"colorbar\": {\"outlinewidth\": 0, \"ticks\": \"\"}, \"type\": \"mesh3d\"}], \"parcoords\": [{\"line\": {\"colorbar\": {\"outlinewidth\": 0, \"ticks\": \"\"}}, \"type\": \"parcoords\"}], \"pie\": [{\"automargin\": true, \"type\": \"pie\"}], \"scatter\": [{\"marker\": {\"colorbar\": {\"outlinewidth\": 0, \"ticks\": \"\"}}, \"type\": \"scatter\"}], \"scatter3d\": [{\"line\": {\"colorbar\": {\"outlinewidth\": 0, \"ticks\": \"\"}}, \"marker\": {\"colorbar\": {\"outlinewidth\": 0, \"ticks\": \"\"}}, \"type\": \"scatter3d\"}], \"scattercarpet\": [{\"marker\": {\"colorbar\": {\"outlinewidth\": 0, \"ticks\": \"\"}}, \"type\": \"scattercarpet\"}], \"scattergeo\": [{\"marker\": {\"colorbar\": {\"outlinewidth\": 0, \"ticks\": \"\"}}, \"type\": \"scattergeo\"}], \"scattergl\": [{\"marker\": {\"colorbar\": {\"outlinewidth\": 0, \"ticks\": \"\"}}, \"type\": \"scattergl\"}], \"scattermapbox\": [{\"marker\": {\"colorbar\": {\"outlinewidth\": 0, \"ticks\": \"\"}}, \"type\": \"scattermapbox\"}], \"scatterpolar\": [{\"marker\": {\"colorbar\": {\"outlinewidth\": 0, \"ticks\": \"\"}}, \"type\": \"scatterpolar\"}], \"scatterpolargl\": [{\"marker\": {\"colorbar\": {\"outlinewidth\": 0, \"ticks\": \"\"}}, \"type\": \"scatterpolargl\"}], \"scatterternary\": [{\"marker\": {\"colorbar\": {\"outlinewidth\": 0, \"ticks\": \"\"}}, \"type\": \"scatterternary\"}], \"surface\": [{\"colorbar\": {\"outlinewidth\": 0, \"ticks\": \"\"}, \"colorscale\": [[0.0, \"#0d0887\"], [0.1111111111111111, \"#46039f\"], [0.2222222222222222, \"#7201a8\"], [0.3333333333333333, \"#9c179e\"], [0.4444444444444444, \"#bd3786\"], [0.5555555555555556, \"#d8576b\"], [0.6666666666666666, \"#ed7953\"], [0.7777777777777778, \"#fb9f3a\"], [0.8888888888888888, \"#fdca26\"], [1.0, \"#f0f921\"]], \"type\": \"surface\"}], \"table\": [{\"cells\": {\"fill\": {\"color\": \"#EBF0F8\"}, \"line\": {\"color\": \"white\"}}, \"header\": {\"fill\": {\"color\": \"#C8D4E3\"}, \"line\": {\"color\": \"white\"}}, \"type\": \"table\"}]}, \"layout\": {\"annotationdefaults\": {\"arrowcolor\": \"#2a3f5f\", \"arrowhead\": 0, \"arrowwidth\": 1}, \"coloraxis\": {\"colorbar\": {\"outlinewidth\": 0, \"ticks\": \"\"}}, \"colorscale\": {\"diverging\": [[0, \"#8e0152\"], [0.1, \"#c51b7d\"], [0.2, \"#de77ae\"], [0.3, \"#f1b6da\"], [0.4, \"#fde0ef\"], [0.5, \"#f7f7f7\"], [0.6, \"#e6f5d0\"], [0.7, \"#b8e186\"], [0.8, \"#7fbc41\"], [0.9, \"#4d9221\"], [1, \"#276419\"]], \"sequential\": [[0.0, \"#0d0887\"], [0.1111111111111111, \"#46039f\"], [0.2222222222222222, \"#7201a8\"], [0.3333333333333333, \"#9c179e\"], [0.4444444444444444, \"#bd3786\"], [0.5555555555555556, \"#d8576b\"], [0.6666666666666666, \"#ed7953\"], [0.7777777777777778, \"#fb9f3a\"], [0.8888888888888888, \"#fdca26\"], [1.0, \"#f0f921\"]], \"sequentialminus\": [[0.0, \"#0d0887\"], [0.1111111111111111, \"#46039f\"], [0.2222222222222222, \"#7201a8\"], [0.3333333333333333, \"#9c179e\"], [0.4444444444444444, \"#bd3786\"], [0.5555555555555556, \"#d8576b\"], [0.6666666666666666, \"#ed7953\"], [0.7777777777777778, \"#fb9f3a\"], [0.8888888888888888, \"#fdca26\"], [1.0, \"#f0f921\"]]}, \"colorway\": [\"#636efa\", \"#EF553B\", \"#00cc96\", \"#ab63fa\", \"#FFA15A\", \"#19d3f3\", \"#FF6692\", \"#B6E880\", \"#FF97FF\", \"#FECB52\"], \"font\": {\"color\": \"#2a3f5f\"}, \"geo\": {\"bgcolor\": \"white\", \"lakecolor\": \"white\", \"landcolor\": \"#E5ECF6\", \"showlakes\": true, \"showland\": true, \"subunitcolor\": \"white\"}, \"hoverlabel\": {\"align\": \"left\"}, \"hovermode\": \"closest\", \"mapbox\": {\"style\": \"light\"}, \"paper_bgcolor\": \"white\", \"plot_bgcolor\": \"#E5ECF6\", \"polar\": {\"angularaxis\": {\"gridcolor\": \"white\", \"linecolor\": \"white\", \"ticks\": \"\"}, \"bgcolor\": \"#E5ECF6\", \"radialaxis\": {\"gridcolor\": \"white\", \"linecolor\": \"white\", \"ticks\": \"\"}}, \"scene\": {\"xaxis\": {\"backgroundcolor\": \"#E5ECF6\", \"gridcolor\": \"white\", \"gridwidth\": 2, \"linecolor\": \"white\", \"showbackground\": true, \"ticks\": \"\", \"zerolinecolor\": \"white\"}, \"yaxis\": {\"backgroundcolor\": \"#E5ECF6\", \"gridcolor\": \"white\", \"gridwidth\": 2, \"linecolor\": \"white\", \"showbackground\": true, \"ticks\": \"\", \"zerolinecolor\": \"white\"}, \"zaxis\": {\"backgroundcolor\": \"#E5ECF6\", \"gridcolor\": \"white\", \"gridwidth\": 2, \"linecolor\": \"white\", \"showbackground\": true, \"ticks\": \"\", \"zerolinecolor\": \"white\"}}, \"shapedefaults\": {\"line\": {\"color\": \"#2a3f5f\"}}, \"ternary\": {\"aaxis\": {\"gridcolor\": \"white\", \"linecolor\": \"white\", \"ticks\": \"\"}, \"baxis\": {\"gridcolor\": \"white\", \"linecolor\": \"white\", \"ticks\": \"\"}, \"bgcolor\": \"#E5ECF6\", \"caxis\": {\"gridcolor\": \"white\", \"linecolor\": \"white\", \"ticks\": \"\"}}, \"title\": {\"x\": 0.05}, \"xaxis\": {\"automargin\": true, \"gridcolor\": \"white\", \"linecolor\": \"white\", \"ticks\": \"\", \"title\": {\"standoff\": 15}, \"zerolinecolor\": \"white\", \"zerolinewidth\": 2}, \"yaxis\": {\"automargin\": true, \"gridcolor\": \"white\", \"linecolor\": \"white\", \"ticks\": \"\", \"title\": {\"standoff\": 15}, \"zerolinecolor\": \"white\", \"zerolinewidth\": 2}}}, \"title\": {\"text\": \"Radar chart of review features - Founders KBS (Kentucky Breakfast Stout)\"}},\n",
              "                        {\"responsive\": true}\n",
              "                    ).then(function(){\n",
              "                            \n",
              "var gd = document.getElementById('bef446b6-84a6-4f2c-908a-81bc2b8158fa');\n",
              "var x = new MutationObserver(function (mutations, observer) {{\n",
              "        var display = window.getComputedStyle(gd).display;\n",
              "        if (!display || display === 'none') {{\n",
              "            console.log([gd, 'removed!']);\n",
              "            Plotly.purge(gd);\n",
              "            observer.disconnect();\n",
              "        }}\n",
              "}});\n",
              "\n",
              "// Listen for the removal of the full notebook cells\n",
              "var notebookContainer = gd.closest('#notebook-container');\n",
              "if (notebookContainer) {{\n",
              "    x.observe(notebookContainer, {childList: true});\n",
              "}}\n",
              "\n",
              "// Listen for the clearing of the current output cell\n",
              "var outputEl = gd.closest('.output');\n",
              "if (outputEl) {{\n",
              "    x.observe(outputEl, {childList: true});\n",
              "}}\n",
              "\n",
              "                        })\n",
              "                };\n",
              "                \n",
              "            </script>\n",
              "        </div>\n",
              "</body>\n",
              "</html>"
            ]
          },
          "metadata": {
            "tags": []
          }
        }
      ]
    },
    {
      "cell_type": "markdown",
      "metadata": {
        "id": "G9NIEIasY-uJ"
      },
      "source": [
        "CORRELATION WITH REVIEW"
      ]
    },
    {
      "cell_type": "code",
      "metadata": {
        "colab": {
          "base_uri": "https://localhost:8080/",
          "height": 542
        },
        "id": "h_bszlM6ZCYE",
        "outputId": "72118882-aab4-40d2-9ad2-d7c129247dbc"
      },
      "source": [
        "corr= df[[\"review_appearance\",\"review_aroma\",\"review_palate\",\"review_taste\", \"review_overall\"]].corr()\n",
        "corr\n",
        "x=list(corr.index)\n",
        "y=list(corr.columns)\n",
        "\n",
        "fig = ff.create_annotated_heatmap(x=x,y=y,z=corr.values.round(2),colorscale=[[0, 'navy'], [1, 'plum']],font_colors = ['white', 'black'])\n",
        "\n",
        "fig.show()"
      ],
      "execution_count": null,
      "outputs": [
        {
          "output_type": "display_data",
          "data": {
            "text/html": [
              "<html>\n",
              "<head><meta charset=\"utf-8\" /></head>\n",
              "<body>\n",
              "    <div>\n",
              "            <script src=\"https://cdnjs.cloudflare.com/ajax/libs/mathjax/2.7.5/MathJax.js?config=TeX-AMS-MML_SVG\"></script><script type=\"text/javascript\">if (window.MathJax) {MathJax.Hub.Config({SVG: {font: \"STIX-Web\"}});}</script>\n",
              "                <script type=\"text/javascript\">window.PlotlyConfig = {MathJaxConfig: 'local'};</script>\n",
              "        <script src=\"https://cdn.plot.ly/plotly-latest.min.js\"></script>    \n",
              "            <div id=\"051534dd-2e54-42cc-ae86-d0769d12282b\" class=\"plotly-graph-div\" style=\"height:525px; width:100%;\"></div>\n",
              "            <script type=\"text/javascript\">\n",
              "                \n",
              "                    window.PLOTLYENV=window.PLOTLYENV || {};\n",
              "                    \n",
              "                if (document.getElementById(\"051534dd-2e54-42cc-ae86-d0769d12282b\")) {\n",
              "                    Plotly.newPlot(\n",
              "                        '051534dd-2e54-42cc-ae86-d0769d12282b',\n",
              "                        [{\"colorscale\": [[0, \"navy\"], [1, \"plum\"]], \"reversescale\": false, \"showscale\": false, \"type\": \"heatmap\", \"x\": [\"review_appearance\", \"review_aroma\", \"review_palate\", \"review_taste\", \"review_overall\"], \"y\": [\"review_appearance\", \"review_aroma\", \"review_palate\", \"review_taste\", \"review_overall\"], \"z\": [[1.0, 0.54, 0.56, 0.53, 0.5], [0.54, 1.0, 0.61, 0.71, 0.62], [0.56, 0.61, 1.0, 0.73, 0.7], [0.53, 0.71, 0.73, 1.0, 0.79], [0.5, 0.62, 0.7, 0.79, 1.0]]}],\n",
              "                        {\"annotations\": [{\"font\": {\"color\": \"black\"}, \"showarrow\": false, \"text\": \"1.0\", \"x\": \"review_appearance\", \"xref\": \"x\", \"y\": \"review_appearance\", \"yref\": \"y\"}, {\"font\": {\"color\": \"white\"}, \"showarrow\": false, \"text\": \"0.54\", \"x\": \"review_aroma\", \"xref\": \"x\", \"y\": \"review_appearance\", \"yref\": \"y\"}, {\"font\": {\"color\": \"white\"}, \"showarrow\": false, \"text\": \"0.56\", \"x\": \"review_palate\", \"xref\": \"x\", \"y\": \"review_appearance\", \"yref\": \"y\"}, {\"font\": {\"color\": \"white\"}, \"showarrow\": false, \"text\": \"0.53\", \"x\": \"review_taste\", \"xref\": \"x\", \"y\": \"review_appearance\", \"yref\": \"y\"}, {\"font\": {\"color\": \"white\"}, \"showarrow\": false, \"text\": \"0.5\", \"x\": \"review_overall\", \"xref\": \"x\", \"y\": \"review_appearance\", \"yref\": \"y\"}, {\"font\": {\"color\": \"white\"}, \"showarrow\": false, \"text\": \"0.54\", \"x\": \"review_appearance\", \"xref\": \"x\", \"y\": \"review_aroma\", \"yref\": \"y\"}, {\"font\": {\"color\": \"black\"}, \"showarrow\": false, \"text\": \"1.0\", \"x\": \"review_aroma\", \"xref\": \"x\", \"y\": \"review_aroma\", \"yref\": \"y\"}, {\"font\": {\"color\": \"white\"}, \"showarrow\": false, \"text\": \"0.61\", \"x\": \"review_palate\", \"xref\": \"x\", \"y\": \"review_aroma\", \"yref\": \"y\"}, {\"font\": {\"color\": \"white\"}, \"showarrow\": false, \"text\": \"0.71\", \"x\": \"review_taste\", \"xref\": \"x\", \"y\": \"review_aroma\", \"yref\": \"y\"}, {\"font\": {\"color\": \"white\"}, \"showarrow\": false, \"text\": \"0.62\", \"x\": \"review_overall\", \"xref\": \"x\", \"y\": \"review_aroma\", \"yref\": \"y\"}, {\"font\": {\"color\": \"white\"}, \"showarrow\": false, \"text\": \"0.56\", \"x\": \"review_appearance\", \"xref\": \"x\", \"y\": \"review_palate\", \"yref\": \"y\"}, {\"font\": {\"color\": \"white\"}, \"showarrow\": false, \"text\": \"0.61\", \"x\": \"review_aroma\", \"xref\": \"x\", \"y\": \"review_palate\", \"yref\": \"y\"}, {\"font\": {\"color\": \"black\"}, \"showarrow\": false, \"text\": \"1.0\", \"x\": \"review_palate\", \"xref\": \"x\", \"y\": \"review_palate\", \"yref\": \"y\"}, {\"font\": {\"color\": \"white\"}, \"showarrow\": false, \"text\": \"0.73\", \"x\": \"review_taste\", \"xref\": \"x\", \"y\": \"review_palate\", \"yref\": \"y\"}, {\"font\": {\"color\": \"white\"}, \"showarrow\": false, \"text\": \"0.7\", \"x\": \"review_overall\", \"xref\": \"x\", \"y\": \"review_palate\", \"yref\": \"y\"}, {\"font\": {\"color\": \"white\"}, \"showarrow\": false, \"text\": \"0.53\", \"x\": \"review_appearance\", \"xref\": \"x\", \"y\": \"review_taste\", \"yref\": \"y\"}, {\"font\": {\"color\": \"white\"}, \"showarrow\": false, \"text\": \"0.71\", \"x\": \"review_aroma\", \"xref\": \"x\", \"y\": \"review_taste\", \"yref\": \"y\"}, {\"font\": {\"color\": \"white\"}, \"showarrow\": false, \"text\": \"0.73\", \"x\": \"review_palate\", \"xref\": \"x\", \"y\": \"review_taste\", \"yref\": \"y\"}, {\"font\": {\"color\": \"black\"}, \"showarrow\": false, \"text\": \"1.0\", \"x\": \"review_taste\", \"xref\": \"x\", \"y\": \"review_taste\", \"yref\": \"y\"}, {\"font\": {\"color\": \"black\"}, \"showarrow\": false, \"text\": \"0.79\", \"x\": \"review_overall\", \"xref\": \"x\", \"y\": \"review_taste\", \"yref\": \"y\"}, {\"font\": {\"color\": \"white\"}, \"showarrow\": false, \"text\": \"0.5\", \"x\": \"review_appearance\", \"xref\": \"x\", \"y\": \"review_overall\", \"yref\": \"y\"}, {\"font\": {\"color\": \"white\"}, \"showarrow\": false, \"text\": \"0.62\", \"x\": \"review_aroma\", \"xref\": \"x\", \"y\": \"review_overall\", \"yref\": \"y\"}, {\"font\": {\"color\": \"white\"}, \"showarrow\": false, \"text\": \"0.7\", \"x\": \"review_palate\", \"xref\": \"x\", \"y\": \"review_overall\", \"yref\": \"y\"}, {\"font\": {\"color\": \"black\"}, \"showarrow\": false, \"text\": \"0.79\", \"x\": \"review_taste\", \"xref\": \"x\", \"y\": \"review_overall\", \"yref\": \"y\"}, {\"font\": {\"color\": \"black\"}, \"showarrow\": false, \"text\": \"1.0\", \"x\": \"review_overall\", \"xref\": \"x\", \"y\": \"review_overall\", \"yref\": \"y\"}], \"template\": {\"data\": {\"bar\": [{\"error_x\": {\"color\": \"#2a3f5f\"}, \"error_y\": {\"color\": \"#2a3f5f\"}, \"marker\": {\"line\": {\"color\": \"#E5ECF6\", \"width\": 0.5}}, \"type\": \"bar\"}], \"barpolar\": [{\"marker\": {\"line\": {\"color\": \"#E5ECF6\", \"width\": 0.5}}, \"type\": \"barpolar\"}], \"carpet\": [{\"aaxis\": {\"endlinecolor\": \"#2a3f5f\", \"gridcolor\": \"white\", \"linecolor\": \"white\", \"minorgridcolor\": \"white\", \"startlinecolor\": \"#2a3f5f\"}, \"baxis\": {\"endlinecolor\": \"#2a3f5f\", \"gridcolor\": \"white\", \"linecolor\": \"white\", \"minorgridcolor\": \"white\", \"startlinecolor\": \"#2a3f5f\"}, \"type\": \"carpet\"}], \"choropleth\": [{\"colorbar\": {\"outlinewidth\": 0, \"ticks\": \"\"}, \"type\": \"choropleth\"}], \"contour\": [{\"colorbar\": {\"outlinewidth\": 0, \"ticks\": \"\"}, \"colorscale\": [[0.0, \"#0d0887\"], [0.1111111111111111, \"#46039f\"], [0.2222222222222222, \"#7201a8\"], [0.3333333333333333, \"#9c179e\"], [0.4444444444444444, \"#bd3786\"], [0.5555555555555556, \"#d8576b\"], [0.6666666666666666, \"#ed7953\"], [0.7777777777777778, \"#fb9f3a\"], [0.8888888888888888, \"#fdca26\"], [1.0, \"#f0f921\"]], \"type\": \"contour\"}], \"contourcarpet\": [{\"colorbar\": {\"outlinewidth\": 0, \"ticks\": \"\"}, \"type\": \"contourcarpet\"}], \"heatmap\": [{\"colorbar\": {\"outlinewidth\": 0, \"ticks\": \"\"}, \"colorscale\": [[0.0, \"#0d0887\"], [0.1111111111111111, \"#46039f\"], [0.2222222222222222, \"#7201a8\"], [0.3333333333333333, \"#9c179e\"], [0.4444444444444444, \"#bd3786\"], [0.5555555555555556, \"#d8576b\"], [0.6666666666666666, \"#ed7953\"], [0.7777777777777778, \"#fb9f3a\"], [0.8888888888888888, \"#fdca26\"], [1.0, \"#f0f921\"]], \"type\": \"heatmap\"}], \"heatmapgl\": [{\"colorbar\": {\"outlinewidth\": 0, \"ticks\": \"\"}, \"colorscale\": [[0.0, \"#0d0887\"], [0.1111111111111111, \"#46039f\"], [0.2222222222222222, \"#7201a8\"], [0.3333333333333333, \"#9c179e\"], [0.4444444444444444, \"#bd3786\"], [0.5555555555555556, \"#d8576b\"], [0.6666666666666666, \"#ed7953\"], [0.7777777777777778, \"#fb9f3a\"], [0.8888888888888888, \"#fdca26\"], [1.0, \"#f0f921\"]], \"type\": \"heatmapgl\"}], \"histogram\": [{\"marker\": {\"colorbar\": {\"outlinewidth\": 0, \"ticks\": \"\"}}, \"type\": \"histogram\"}], \"histogram2d\": [{\"colorbar\": {\"outlinewidth\": 0, \"ticks\": \"\"}, \"colorscale\": [[0.0, \"#0d0887\"], [0.1111111111111111, \"#46039f\"], [0.2222222222222222, \"#7201a8\"], [0.3333333333333333, \"#9c179e\"], [0.4444444444444444, \"#bd3786\"], [0.5555555555555556, \"#d8576b\"], [0.6666666666666666, \"#ed7953\"], [0.7777777777777778, \"#fb9f3a\"], [0.8888888888888888, \"#fdca26\"], [1.0, \"#f0f921\"]], \"type\": \"histogram2d\"}], \"histogram2dcontour\": [{\"colorbar\": {\"outlinewidth\": 0, \"ticks\": \"\"}, \"colorscale\": [[0.0, \"#0d0887\"], [0.1111111111111111, \"#46039f\"], [0.2222222222222222, \"#7201a8\"], [0.3333333333333333, \"#9c179e\"], [0.4444444444444444, \"#bd3786\"], [0.5555555555555556, \"#d8576b\"], [0.6666666666666666, \"#ed7953\"], [0.7777777777777778, \"#fb9f3a\"], [0.8888888888888888, \"#fdca26\"], [1.0, \"#f0f921\"]], \"type\": \"histogram2dcontour\"}], \"mesh3d\": [{\"colorbar\": {\"outlinewidth\": 0, \"ticks\": \"\"}, \"type\": \"mesh3d\"}], \"parcoords\": [{\"line\": {\"colorbar\": {\"outlinewidth\": 0, \"ticks\": \"\"}}, \"type\": \"parcoords\"}], \"pie\": [{\"automargin\": true, \"type\": \"pie\"}], \"scatter\": [{\"marker\": {\"colorbar\": {\"outlinewidth\": 0, \"ticks\": \"\"}}, \"type\": \"scatter\"}], \"scatter3d\": [{\"line\": {\"colorbar\": {\"outlinewidth\": 0, \"ticks\": \"\"}}, \"marker\": {\"colorbar\": {\"outlinewidth\": 0, \"ticks\": \"\"}}, \"type\": \"scatter3d\"}], \"scattercarpet\": [{\"marker\": {\"colorbar\": {\"outlinewidth\": 0, \"ticks\": \"\"}}, \"type\": \"scattercarpet\"}], \"scattergeo\": [{\"marker\": {\"colorbar\": {\"outlinewidth\": 0, \"ticks\": \"\"}}, \"type\": \"scattergeo\"}], \"scattergl\": [{\"marker\": {\"colorbar\": {\"outlinewidth\": 0, \"ticks\": \"\"}}, \"type\": \"scattergl\"}], \"scattermapbox\": [{\"marker\": {\"colorbar\": {\"outlinewidth\": 0, \"ticks\": \"\"}}, \"type\": \"scattermapbox\"}], \"scatterpolar\": [{\"marker\": {\"colorbar\": {\"outlinewidth\": 0, \"ticks\": \"\"}}, \"type\": \"scatterpolar\"}], \"scatterpolargl\": [{\"marker\": {\"colorbar\": {\"outlinewidth\": 0, \"ticks\": \"\"}}, \"type\": \"scatterpolargl\"}], \"scatterternary\": [{\"marker\": {\"colorbar\": {\"outlinewidth\": 0, \"ticks\": \"\"}}, \"type\": \"scatterternary\"}], \"surface\": [{\"colorbar\": {\"outlinewidth\": 0, \"ticks\": \"\"}, \"colorscale\": [[0.0, \"#0d0887\"], [0.1111111111111111, \"#46039f\"], [0.2222222222222222, \"#7201a8\"], [0.3333333333333333, \"#9c179e\"], [0.4444444444444444, \"#bd3786\"], [0.5555555555555556, \"#d8576b\"], [0.6666666666666666, \"#ed7953\"], [0.7777777777777778, \"#fb9f3a\"], [0.8888888888888888, \"#fdca26\"], [1.0, \"#f0f921\"]], \"type\": \"surface\"}], \"table\": [{\"cells\": {\"fill\": {\"color\": \"#EBF0F8\"}, \"line\": {\"color\": \"white\"}}, \"header\": {\"fill\": {\"color\": \"#C8D4E3\"}, \"line\": {\"color\": \"white\"}}, \"type\": \"table\"}]}, \"layout\": {\"annotationdefaults\": {\"arrowcolor\": \"#2a3f5f\", \"arrowhead\": 0, \"arrowwidth\": 1}, \"coloraxis\": {\"colorbar\": {\"outlinewidth\": 0, \"ticks\": \"\"}}, \"colorscale\": {\"diverging\": [[0, \"#8e0152\"], [0.1, \"#c51b7d\"], [0.2, \"#de77ae\"], [0.3, \"#f1b6da\"], [0.4, \"#fde0ef\"], [0.5, \"#f7f7f7\"], [0.6, \"#e6f5d0\"], [0.7, \"#b8e186\"], [0.8, \"#7fbc41\"], [0.9, \"#4d9221\"], [1, \"#276419\"]], \"sequential\": [[0.0, \"#0d0887\"], [0.1111111111111111, \"#46039f\"], [0.2222222222222222, \"#7201a8\"], [0.3333333333333333, \"#9c179e\"], [0.4444444444444444, \"#bd3786\"], [0.5555555555555556, \"#d8576b\"], [0.6666666666666666, \"#ed7953\"], [0.7777777777777778, \"#fb9f3a\"], [0.8888888888888888, \"#fdca26\"], [1.0, \"#f0f921\"]], \"sequentialminus\": [[0.0, \"#0d0887\"], [0.1111111111111111, \"#46039f\"], [0.2222222222222222, \"#7201a8\"], [0.3333333333333333, \"#9c179e\"], [0.4444444444444444, \"#bd3786\"], [0.5555555555555556, \"#d8576b\"], [0.6666666666666666, \"#ed7953\"], [0.7777777777777778, \"#fb9f3a\"], [0.8888888888888888, \"#fdca26\"], [1.0, \"#f0f921\"]]}, \"colorway\": [\"#636efa\", \"#EF553B\", \"#00cc96\", \"#ab63fa\", \"#FFA15A\", \"#19d3f3\", \"#FF6692\", \"#B6E880\", \"#FF97FF\", \"#FECB52\"], \"font\": {\"color\": \"#2a3f5f\"}, \"geo\": {\"bgcolor\": \"white\", \"lakecolor\": \"white\", \"landcolor\": \"#E5ECF6\", \"showlakes\": true, \"showland\": true, \"subunitcolor\": \"white\"}, \"hoverlabel\": {\"align\": \"left\"}, \"hovermode\": \"closest\", \"mapbox\": {\"style\": \"light\"}, \"paper_bgcolor\": \"white\", \"plot_bgcolor\": \"#E5ECF6\", \"polar\": {\"angularaxis\": {\"gridcolor\": \"white\", \"linecolor\": \"white\", \"ticks\": \"\"}, \"bgcolor\": \"#E5ECF6\", \"radialaxis\": {\"gridcolor\": \"white\", \"linecolor\": \"white\", \"ticks\": \"\"}}, \"scene\": {\"xaxis\": {\"backgroundcolor\": \"#E5ECF6\", \"gridcolor\": \"white\", \"gridwidth\": 2, \"linecolor\": \"white\", \"showbackground\": true, \"ticks\": \"\", \"zerolinecolor\": \"white\"}, \"yaxis\": {\"backgroundcolor\": \"#E5ECF6\", \"gridcolor\": \"white\", \"gridwidth\": 2, \"linecolor\": \"white\", \"showbackground\": true, \"ticks\": \"\", \"zerolinecolor\": \"white\"}, \"zaxis\": {\"backgroundcolor\": \"#E5ECF6\", \"gridcolor\": \"white\", \"gridwidth\": 2, \"linecolor\": \"white\", \"showbackground\": true, \"ticks\": \"\", \"zerolinecolor\": \"white\"}}, \"shapedefaults\": {\"line\": {\"color\": \"#2a3f5f\"}}, \"ternary\": {\"aaxis\": {\"gridcolor\": \"white\", \"linecolor\": \"white\", \"ticks\": \"\"}, \"baxis\": {\"gridcolor\": \"white\", \"linecolor\": \"white\", \"ticks\": \"\"}, \"bgcolor\": \"#E5ECF6\", \"caxis\": {\"gridcolor\": \"white\", \"linecolor\": \"white\", \"ticks\": \"\"}}, \"title\": {\"x\": 0.05}, \"xaxis\": {\"automargin\": true, \"gridcolor\": \"white\", \"linecolor\": \"white\", \"ticks\": \"\", \"title\": {\"standoff\": 15}, \"zerolinecolor\": \"white\", \"zerolinewidth\": 2}, \"yaxis\": {\"automargin\": true, \"gridcolor\": \"white\", \"linecolor\": \"white\", \"ticks\": \"\", \"title\": {\"standoff\": 15}, \"zerolinecolor\": \"white\", \"zerolinewidth\": 2}}}, \"xaxis\": {\"dtick\": 1, \"gridcolor\": \"rgb(0, 0, 0)\", \"side\": \"top\", \"ticks\": \"\"}, \"yaxis\": {\"dtick\": 1, \"ticks\": \"\", \"ticksuffix\": \"  \"}},\n",
              "                        {\"responsive\": true}\n",
              "                    ).then(function(){\n",
              "                            \n",
              "var gd = document.getElementById('051534dd-2e54-42cc-ae86-d0769d12282b');\n",
              "var x = new MutationObserver(function (mutations, observer) {{\n",
              "        var display = window.getComputedStyle(gd).display;\n",
              "        if (!display || display === 'none') {{\n",
              "            console.log([gd, 'removed!']);\n",
              "            Plotly.purge(gd);\n",
              "            observer.disconnect();\n",
              "        }}\n",
              "}});\n",
              "\n",
              "// Listen for the removal of the full notebook cells\n",
              "var notebookContainer = gd.closest('#notebook-container');\n",
              "if (notebookContainer) {{\n",
              "    x.observe(notebookContainer, {childList: true});\n",
              "}}\n",
              "\n",
              "// Listen for the clearing of the current output cell\n",
              "var outputEl = gd.closest('.output');\n",
              "if (outputEl) {{\n",
              "    x.observe(outputEl, {childList: true});\n",
              "}}\n",
              "\n",
              "                        })\n",
              "                };\n",
              "                \n",
              "            </script>\n",
              "        </div>\n",
              "</body>\n",
              "</html>"
            ]
          },
          "metadata": {
            "tags": []
          }
        }
      ]
    },
    {
      "cell_type": "code",
      "metadata": {
        "colab": {
          "base_uri": "https://localhost:8080/",
          "height": 542
        },
        "id": "oIAzeFMpZMnP",
        "outputId": "4d90af90-403a-46f6-dd2e-be4080cdcc33"
      },
      "source": [
        "time=df[\"review_time\"].groupby(df.review_time.dt.date).agg('count')\n",
        "fig = go.Figure(data=go.Scatter(x=time.index, y=time.values))\n",
        "fig.update_layout(title='The time-series line chart of reviews',\n",
        "                   xaxis_title='Date',\n",
        "                   yaxis_title='Count of reviews')\n",
        "fig.show()\n",
        "\n",
        "#Time series wrt reviews"
      ],
      "execution_count": null,
      "outputs": [
        {
          "output_type": "display_data",
          "data": {
            "text/html": [
              "<html>\n",
              "<head><meta charset=\"utf-8\" /></head>\n",
              "<body>\n",
              "    <div>\n",
              "            <script src=\"https://cdnjs.cloudflare.com/ajax/libs/mathjax/2.7.5/MathJax.js?config=TeX-AMS-MML_SVG\"></script><script type=\"text/javascript\">if (window.MathJax) {MathJax.Hub.Config({SVG: {font: \"STIX-Web\"}});}</script>\n",
              "                <script type=\"text/javascript\">window.PlotlyConfig = {MathJaxConfig: 'local'};</script>\n",
              "        <script src=\"https://cdn.plot.ly/plotly-latest.min.js\"></script>    \n",
              "            <div id=\"e3d6d41f-e63f-4b53-a34f-669a33bd8d7e\" class=\"plotly-graph-div\" style=\"height:525px; width:100%;\"></div>\n",
              "            <script type=\"text/javascript\">\n",
              "                \n",
              "                    window.PLOTLYENV=window.PLOTLYENV || {};\n",
              "                    \n",
              "                if (document.getElementById(\"e3d6d41f-e63f-4b53-a34f-669a33bd8d7e\")) {\n",
              "                    Plotly.newPlot(\n",
              "                        'e3d6d41f-e63f-4b53-a34f-669a33bd8d7e',\n",
              "                        [{\"type\": \"scatter\", \"x\": [\"1999-05-10\", \"1999-10-24\", \"2000-04-12\", \"2000-09-02\", \"2000-09-22\", \"2000-10-20\", \"2001-04-25\", \"2001-06-22\", \"2001-07-11\", \"2001-07-30\", \"2001-08-28\", \"2001-09-15\", \"2001-09-16\", \"2001-09-18\", \"2001-09-23\", \"2001-09-24\", \"2001-09-27\", \"2001-10-03\", \"2001-10-05\", \"2001-10-12\", \"2001-10-19\", \"2001-10-29\", \"2001-11-08\", \"2001-11-12\", \"2001-11-15\", \"2001-11-20\", \"2002-01-04\", \"2002-01-06\", \"2002-01-12\", \"2002-01-13\", \"2002-01-18\", \"2002-01-20\", \"2002-01-23\", \"2002-01-25\", \"2002-01-27\", \"2002-02-02\", \"2002-02-04\", \"2002-02-07\", \"2002-02-10\", \"2002-02-14\", \"2002-02-15\", \"2002-02-16\", \"2002-02-17\", \"2002-02-20\", \"2002-02-21\", \"2002-02-22\", \"2002-03-02\", \"2002-03-04\", \"2002-03-08\", \"2002-03-09\", \"2002-03-12\", \"2002-03-15\", \"2002-03-16\", \"2002-03-18\", \"2002-03-23\", \"2002-03-24\", \"2002-03-26\", \"2002-03-31\", \"2002-04-02\", \"2002-04-05\", \"2002-04-08\", \"2002-04-10\", \"2002-04-12\", \"2002-04-13\", \"2002-04-14\", \"2002-04-15\", \"2002-04-18\", \"2002-04-20\", \"2002-04-22\", \"2002-04-23\", \"2002-04-24\", \"2002-04-25\", \"2002-04-26\", \"2002-04-29\", \"2002-04-30\", \"2002-05-01\", \"2002-05-02\", \"2002-05-06\", \"2002-05-07\", \"2002-05-08\", \"2002-05-09\", \"2002-05-13\", \"2002-05-14\", \"2002-05-17\", \"2002-05-21\", \"2002-05-23\", \"2002-05-24\", \"2002-05-25\", \"2002-05-27\", \"2002-05-28\", \"2002-05-29\", \"2002-05-30\", \"2002-05-31\", \"2002-06-02\", \"2002-06-03\", \"2002-06-04\", \"2002-06-05\", \"2002-06-09\", \"2002-06-13\", \"2002-06-14\", \"2002-06-15\", \"2002-06-16\", \"2002-06-18\", \"2002-06-19\", \"2002-06-20\", \"2002-06-23\", \"2002-06-24\", \"2002-06-25\", \"2002-06-27\", \"2002-06-29\", \"2002-06-30\", \"2002-07-01\", \"2002-07-03\", \"2002-07-05\", \"2002-07-07\", \"2002-07-09\", \"2002-07-10\", \"2002-07-13\", \"2002-07-14\", \"2002-07-15\", \"2002-07-20\", \"2002-07-24\", \"2002-07-28\", \"2002-07-29\", \"2002-07-30\", \"2002-07-31\", \"2002-08-02\", \"2002-08-04\", \"2002-08-07\", \"2002-08-08\", \"2002-08-11\", \"2002-08-13\", \"2002-08-14\", \"2002-08-15\", \"2002-08-16\", \"2002-08-17\", \"2002-08-18\", \"2002-08-19\", \"2002-08-20\", \"2002-08-21\", \"2002-08-22\", \"2002-08-24\", \"2002-08-25\", \"2002-08-26\", \"2002-08-31\", \"2002-09-02\", \"2002-09-03\", \"2002-09-04\", \"2002-09-05\", \"2002-09-07\", \"2002-09-08\", \"2002-09-09\", \"2002-09-12\", \"2002-09-13\", \"2002-09-14\", \"2002-09-15\", \"2002-09-16\", \"2002-09-17\", \"2002-09-18\", \"2002-09-19\", \"2002-09-20\", \"2002-09-21\", \"2002-09-22\", \"2002-09-24\", \"2002-09-27\", \"2002-09-28\", \"2002-09-29\", \"2002-09-30\", \"2002-10-01\", \"2002-10-02\", \"2002-10-03\", \"2002-10-05\", \"2002-10-06\", \"2002-10-07\", \"2002-10-08\", \"2002-10-10\", \"2002-10-12\", \"2002-10-13\", \"2002-10-14\", \"2002-10-15\", \"2002-10-16\", \"2002-10-17\", \"2002-10-18\", \"2002-10-19\", \"2002-10-20\", \"2002-10-21\", \"2002-10-22\", \"2002-10-23\", \"2002-10-24\", \"2002-10-25\", \"2002-10-26\", \"2002-10-27\", \"2002-10-28\", \"2002-10-29\", \"2002-10-30\", \"2002-11-01\", \"2002-11-02\", \"2002-11-03\", \"2002-11-04\", \"2002-11-05\", \"2002-11-07\", \"2002-11-09\", \"2002-11-10\", \"2002-11-11\", \"2002-11-12\", \"2002-11-13\", \"2002-11-15\", \"2002-11-16\", \"2002-11-17\", \"2002-11-18\", \"2002-11-19\", \"2002-11-20\", \"2002-11-22\", \"2002-11-23\", \"2002-11-25\", \"2002-11-26\", \"2002-11-27\", \"2002-11-29\", \"2002-11-30\", \"2002-12-02\", \"2002-12-03\", \"2002-12-04\", \"2002-12-05\", \"2002-12-06\", \"2002-12-07\", \"2002-12-08\", \"2002-12-10\", \"2002-12-11\", \"2002-12-12\", \"2002-12-13\", \"2002-12-15\", \"2002-12-16\", \"2002-12-19\", \"2002-12-20\", \"2002-12-21\", \"2002-12-22\", \"2002-12-25\", \"2002-12-26\", \"2002-12-27\", \"2002-12-28\", \"2002-12-29\", \"2002-12-30\", \"2002-12-31\", \"2003-01-02\", \"2003-01-03\", \"2003-01-04\", \"2003-01-06\", \"2003-01-09\", \"2003-01-10\", \"2003-01-11\", \"2003-01-12\", \"2003-01-13\", \"2003-01-15\", \"2003-01-16\", \"2003-01-17\", \"2003-01-18\", \"2003-01-19\", \"2003-01-20\", \"2003-01-21\", \"2003-01-22\", \"2003-01-23\", \"2003-01-25\", \"2003-01-26\", \"2003-01-27\", \"2003-01-28\", \"2003-01-29\", \"2003-01-30\", \"2003-01-31\", \"2003-02-01\", \"2003-02-02\", \"2003-02-03\", \"2003-02-04\", \"2003-02-07\", \"2003-02-08\", \"2003-02-09\", \"2003-02-10\", \"2003-02-11\", \"2003-02-15\", \"2003-02-16\", \"2003-02-17\", \"2003-02-18\", \"2003-02-19\", \"2003-02-20\", \"2003-02-22\", \"2003-02-23\", \"2003-02-24\", \"2003-02-25\", \"2003-02-26\", \"2003-02-27\", \"2003-02-28\", \"2003-03-01\", \"2003-03-02\", \"2003-03-03\", \"2003-03-05\", \"2003-03-06\", \"2003-03-07\", \"2003-03-08\", \"2003-03-10\", \"2003-03-13\", \"2003-03-14\", \"2003-03-15\", \"2003-03-16\", \"2003-03-17\", \"2003-03-18\", \"2003-03-19\", \"2003-03-20\", \"2003-03-21\", \"2003-03-22\", \"2003-03-23\", \"2003-03-24\", \"2003-03-25\", \"2003-03-26\", \"2003-03-27\", \"2003-03-28\", \"2003-03-29\", \"2003-03-30\", \"2003-04-01\", \"2003-04-02\", \"2003-04-03\", \"2003-04-04\", \"2003-04-06\", \"2003-04-07\", \"2003-04-09\", \"2003-04-11\", \"2003-04-12\", \"2003-04-13\", \"2003-04-14\", \"2003-04-15\", \"2003-04-16\", \"2003-04-18\", \"2003-04-19\", \"2003-04-20\", \"2003-04-21\", \"2003-04-24\", \"2003-04-25\", \"2003-04-26\", \"2003-04-27\", \"2003-04-28\", \"2003-04-29\", \"2003-04-30\", \"2003-05-01\", \"2003-05-02\", \"2003-05-04\", \"2003-05-07\", \"2003-05-08\", \"2003-05-09\", \"2003-05-10\", \"2003-05-11\", \"2003-05-12\", \"2003-05-13\", \"2003-05-16\", \"2003-05-17\", \"2003-05-18\", \"2003-05-19\", \"2003-05-21\", \"2003-05-22\", \"2003-05-23\", \"2003-05-24\", \"2003-05-25\", \"2003-05-26\", \"2003-05-27\", \"2003-05-28\", \"2003-05-29\", \"2003-05-30\", \"2003-05-31\", \"2003-06-01\", \"2003-06-02\", \"2003-06-03\", \"2003-06-04\", \"2003-06-05\", \"2003-06-07\", \"2003-06-08\", \"2003-06-09\", \"2003-06-12\", \"2003-06-14\", \"2003-06-15\", \"2003-06-16\", \"2003-06-18\", \"2003-06-19\", \"2003-06-20\", \"2003-06-21\", \"2003-06-23\", \"2003-06-24\", \"2003-06-25\", \"2003-06-26\", \"2003-06-27\", \"2003-06-28\", \"2003-06-29\", \"2003-06-30\", \"2003-07-01\", \"2003-07-02\", \"2003-07-03\", \"2003-07-04\", \"2003-07-05\", \"2003-07-06\", \"2003-07-07\", \"2003-07-08\", \"2003-07-09\", \"2003-07-10\", \"2003-07-11\", \"2003-07-13\", \"2003-07-14\", \"2003-07-15\", \"2003-07-16\", \"2003-07-17\", \"2003-07-18\", \"2003-07-19\", \"2003-07-20\", \"2003-07-21\", \"2003-07-22\", \"2003-07-23\", \"2003-07-24\", \"2003-07-25\", \"2003-07-26\", \"2003-07-27\", \"2003-07-28\", \"2003-07-29\", \"2003-07-30\", \"2003-07-31\", \"2003-08-01\", \"2003-08-02\", \"2003-08-03\", \"2003-08-04\", \"2003-08-05\", \"2003-08-06\", \"2003-08-07\", \"2003-08-08\", \"2003-08-09\", \"2003-08-10\", \"2003-08-11\", \"2003-08-12\", \"2003-08-13\", \"2003-08-14\", \"2003-08-15\", \"2003-08-16\", \"2003-08-17\", \"2003-08-18\", \"2003-08-19\", \"2003-08-20\", \"2003-08-21\", \"2003-08-22\", \"2003-08-23\", \"2003-08-25\", \"2003-08-26\", \"2003-08-27\", \"2003-08-28\", \"2003-08-30\", \"2003-08-31\", \"2003-09-01\", \"2003-09-02\", \"2003-09-03\", \"2003-09-04\", \"2003-09-05\", \"2003-09-06\", \"2003-09-07\", \"2003-09-08\", \"2003-09-10\", \"2003-09-11\", \"2003-09-12\", \"2003-09-13\", \"2003-09-14\", \"2003-09-15\", \"2003-09-16\", \"2003-09-17\", \"2003-09-18\", \"2003-09-19\", \"2003-09-21\", \"2003-09-22\", \"2003-09-23\", \"2003-09-24\", \"2003-09-25\", \"2003-09-26\", \"2003-09-27\", \"2003-09-28\", \"2003-09-29\", \"2003-09-30\", \"2003-10-01\", \"2003-10-02\", \"2003-10-03\", \"2003-10-04\", \"2003-10-05\", \"2003-10-06\", \"2003-10-07\", \"2003-10-08\", \"2003-10-10\", \"2003-10-11\", \"2003-10-12\", \"2003-10-13\", \"2003-10-14\", \"2003-10-15\", \"2003-10-16\", \"2003-10-17\", \"2003-10-18\", \"2003-10-19\", \"2003-10-20\", \"2003-10-21\", \"2003-10-23\", \"2003-10-24\", \"2003-10-25\", \"2003-10-26\", \"2003-10-27\", \"2003-10-28\", \"2003-10-29\", \"2003-10-30\", \"2003-10-31\", \"2003-11-01\", \"2003-11-02\", \"2003-11-03\", \"2003-11-04\", \"2003-11-05\", \"2003-11-06\", \"2003-11-07\", \"2003-11-08\", \"2003-11-09\", \"2003-11-10\", \"2003-11-11\", \"2003-11-12\", \"2003-11-13\", \"2003-11-14\", \"2003-11-15\", \"2003-11-16\", \"2003-11-17\", \"2003-11-18\", \"2003-11-19\", \"2003-11-20\", \"2003-11-21\", \"2003-11-22\", \"2003-11-23\", \"2003-11-24\", \"2003-11-25\", \"2003-11-26\", \"2003-11-27\", \"2003-11-28\", \"2003-11-29\", \"2003-11-30\", \"2003-12-01\", \"2003-12-02\", \"2003-12-03\", \"2003-12-04\", \"2003-12-05\", \"2003-12-06\", \"2003-12-07\", \"2003-12-08\", \"2003-12-09\", \"2003-12-11\", \"2003-12-12\", \"2003-12-13\", \"2003-12-14\", \"2003-12-15\", \"2003-12-16\", \"2003-12-18\", \"2003-12-19\", \"2003-12-20\", \"2003-12-21\", \"2003-12-22\", \"2003-12-24\", \"2003-12-25\", \"2003-12-26\", \"2003-12-27\", \"2003-12-28\", \"2003-12-29\", \"2003-12-30\", \"2003-12-31\", \"2004-01-01\", \"2004-01-02\", \"2004-01-03\", \"2004-01-04\", \"2004-01-05\", \"2004-01-06\", \"2004-01-07\", \"2004-01-08\", \"2004-01-09\", \"2004-01-10\", \"2004-01-11\", \"2004-01-12\", \"2004-01-13\", \"2004-01-14\", \"2004-01-15\", \"2004-01-16\", \"2004-01-17\", \"2004-01-18\", \"2004-01-19\", \"2004-01-20\", \"2004-01-21\", \"2004-01-22\", \"2004-01-23\", \"2004-01-24\", \"2004-01-25\", \"2004-01-26\", \"2004-01-27\", \"2004-01-28\", \"2004-01-29\", \"2004-01-31\", \"2004-02-01\", \"2004-02-02\", \"2004-02-03\", \"2004-02-04\", \"2004-02-05\", \"2004-02-07\", \"2004-02-08\", \"2004-02-09\", \"2004-02-10\", \"2004-02-11\", \"2004-02-12\", \"2004-02-13\", \"2004-02-14\", \"2004-02-15\", \"2004-02-16\", \"2004-02-17\", \"2004-02-18\", \"2004-02-19\", \"2004-02-20\", \"2004-02-21\", \"2004-02-22\", \"2004-02-23\", \"2004-02-24\", \"2004-02-25\", \"2004-02-26\", \"2004-02-27\", \"2004-02-28\", \"2004-02-29\", \"2004-03-01\", \"2004-03-02\", \"2004-03-03\", \"2004-03-04\", \"2004-03-05\", \"2004-03-06\", \"2004-03-07\", \"2004-03-08\", \"2004-03-09\", \"2004-03-10\", \"2004-03-11\", \"2004-03-12\", \"2004-03-14\", \"2004-03-16\", \"2004-03-17\", \"2004-03-18\", \"2004-03-19\", \"2004-03-20\", \"2004-03-21\", \"2004-03-22\", \"2004-03-23\", \"2004-03-24\", \"2004-03-25\", \"2004-03-26\", \"2004-03-27\", \"2004-03-28\", \"2004-03-29\", \"2004-03-30\", \"2004-03-31\", \"2004-04-01\", \"2004-04-02\", \"2004-04-03\", \"2004-04-04\", \"2004-04-05\", \"2004-04-06\", \"2004-04-08\", \"2004-04-10\", \"2004-04-11\", \"2004-04-12\", \"2004-04-13\", \"2004-04-14\", \"2004-04-15\", \"2004-04-16\", \"2004-04-17\", \"2004-04-18\", \"2004-04-19\", \"2004-04-20\", \"2004-04-21\", \"2004-04-22\", \"2004-04-23\", \"2004-04-24\", \"2004-04-26\", \"2004-04-27\", \"2004-04-28\", \"2004-04-29\", \"2004-04-30\", \"2004-05-01\", \"2004-05-02\", \"2004-05-03\", \"2004-05-05\", \"2004-05-06\", \"2004-05-07\", \"2004-05-08\", \"2004-05-09\", \"2004-05-10\", \"2004-05-11\", \"2004-05-12\", \"2004-05-13\", \"2004-05-14\", \"2004-05-15\", \"2004-05-16\", \"2004-05-17\", \"2004-05-18\", \"2004-05-19\", \"2004-05-20\", \"2004-05-21\", \"2004-05-22\", \"2004-05-23\", \"2004-05-24\", \"2004-05-25\", \"2004-05-26\", \"2004-05-27\", \"2004-05-28\", \"2004-05-29\", \"2004-05-30\", \"2004-05-31\", \"2004-06-01\", \"2004-06-02\", \"2004-06-03\", \"2004-06-04\", \"2004-06-05\", \"2004-06-06\", \"2004-06-07\", \"2004-06-08\", \"2004-06-09\", \"2004-06-10\", \"2004-06-11\", \"2004-06-12\", \"2004-06-13\", \"2004-06-14\", \"2004-06-15\", \"2004-06-16\", \"2004-06-17\", \"2004-06-18\", \"2004-06-20\", \"2004-06-21\", \"2004-06-22\", \"2004-06-23\", \"2004-06-24\", \"2004-06-25\", \"2004-06-26\", \"2004-06-27\", \"2004-06-28\", \"2004-06-29\", \"2004-06-30\", \"2004-07-01\", \"2004-07-02\", \"2004-07-03\", \"2004-07-04\", \"2004-07-05\", \"2004-07-06\", \"2004-07-07\", \"2004-07-08\", \"2004-07-09\", \"2004-07-10\", \"2004-07-12\", \"2004-07-13\", \"2004-07-14\", \"2004-07-15\", \"2004-07-16\", \"2004-07-17\", \"2004-07-18\", \"2004-07-19\", \"2004-07-20\", \"2004-07-21\", \"2004-07-22\", \"2004-07-23\", \"2004-07-24\", \"2004-07-25\", \"2004-07-26\", \"2004-07-27\", \"2004-07-28\", \"2004-07-29\", \"2004-07-30\", \"2004-07-31\", \"2004-08-01\", \"2004-08-02\", \"2004-08-04\", \"2004-08-05\", \"2004-08-06\", \"2004-08-07\", \"2004-08-08\", \"2004-08-09\", \"2004-08-10\", \"2004-08-11\", \"2004-08-12\", \"2004-08-13\", \"2004-08-14\", \"2004-08-15\", \"2004-08-16\", \"2004-08-17\", \"2004-08-18\", \"2004-08-19\", \"2004-08-20\", \"2004-08-21\", \"2004-08-22\", \"2004-08-23\", \"2004-08-24\", \"2004-08-26\", \"2004-08-27\", \"2004-08-28\", \"2004-08-29\", \"2004-08-30\", \"2004-08-31\", \"2004-09-01\", \"2004-09-02\", \"2004-09-03\", \"2004-09-04\", \"2004-09-05\", \"2004-09-06\", \"2004-09-07\", \"2004-09-08\", \"2004-09-09\", \"2004-09-10\", \"2004-09-11\", \"2004-09-12\", \"2004-09-13\", \"2004-09-14\", \"2004-09-15\", \"2004-09-16\", \"2004-09-17\", \"2004-09-18\", \"2004-09-19\", \"2004-09-20\", \"2004-09-22\", \"2004-09-23\", \"2004-09-24\", \"2004-09-25\", \"2004-09-26\", \"2004-09-27\", \"2004-09-28\", \"2004-09-29\", \"2004-09-30\", \"2004-10-01\", \"2004-10-03\", \"2004-10-04\", \"2004-10-05\", \"2004-10-06\", \"2004-10-07\", \"2004-10-08\", \"2004-10-09\", \"2004-10-10\", \"2004-10-11\", \"2004-10-12\", \"2004-10-13\", \"2004-10-14\", \"2004-10-15\", \"2004-10-16\", \"2004-10-17\", \"2004-10-18\", \"2004-10-19\", \"2004-10-20\", \"2004-10-22\", \"2004-10-23\", \"2004-10-24\", \"2004-10-25\", \"2004-10-26\", \"2004-10-27\", \"2004-10-28\", \"2004-10-29\", \"2004-10-30\", \"2004-10-31\", \"2004-11-01\", \"2004-11-02\", \"2004-11-03\", \"2004-11-04\", \"2004-11-05\", \"2004-11-06\", \"2004-11-07\", \"2004-11-08\", \"2004-11-09\", \"2004-11-10\", \"2004-11-11\", \"2004-11-12\", \"2004-11-13\", \"2004-11-14\", \"2004-11-15\", \"2004-11-16\", \"2004-11-17\", \"2004-11-18\", \"2004-11-19\", \"2004-11-20\", \"2004-11-21\", \"2004-11-22\", \"2004-11-23\", \"2004-11-24\", \"2004-11-25\", \"2004-11-26\", \"2004-11-27\", \"2004-11-28\", \"2004-11-29\", \"2004-11-30\", \"2004-12-01\", \"2004-12-02\", \"2004-12-03\", \"2004-12-04\", \"2004-12-05\", \"2004-12-07\", \"2004-12-08\", \"2004-12-09\", \"2004-12-10\", \"2004-12-11\", \"2004-12-12\", \"2004-12-13\", \"2004-12-14\", \"2004-12-15\", \"2004-12-16\", \"2004-12-17\", \"2004-12-18\", \"2004-12-19\", \"2004-12-20\", \"2004-12-21\", \"2004-12-22\", \"2004-12-25\", \"2004-12-26\", \"2004-12-27\", \"2004-12-28\", \"2004-12-29\", \"2004-12-30\", \"2004-12-31\", \"2005-01-01\", \"2005-01-02\", \"2005-01-03\", \"2005-01-04\", \"2005-01-05\", \"2005-01-06\", \"2005-01-07\", \"2005-01-08\", \"2005-01-09\", \"2005-01-10\", \"2005-01-11\", \"2005-01-12\", \"2005-01-13\", \"2005-01-14\", \"2005-01-15\", \"2005-01-16\", \"2005-01-17\", \"2005-01-18\", \"2005-01-19\", \"2005-01-20\", \"2005-01-21\", \"2005-01-22\", \"2005-01-23\", \"2005-01-24\", \"2005-01-25\", \"2005-01-26\", \"2005-01-27\", \"2005-01-28\", \"2005-01-29\", \"2005-01-30\", \"2005-01-31\", \"2005-02-01\", \"2005-02-02\", \"2005-02-03\", \"2005-02-04\", \"2005-02-05\", \"2005-02-06\", \"2005-02-07\", \"2005-02-08\", \"2005-02-09\", \"2005-02-10\", \"2005-02-11\", \"2005-02-12\", \"2005-02-13\", \"2005-02-14\", \"2005-02-15\", \"2005-02-16\", \"2005-02-17\", \"2005-02-18\", \"2005-02-19\", \"2005-02-20\", \"2005-02-21\", \"2005-02-22\", \"2005-02-23\", \"2005-02-24\", \"2005-02-25\", \"2005-02-26\", \"2005-02-27\", \"2005-02-28\", \"2005-03-01\", \"2005-03-02\", \"2005-03-03\", \"2005-03-04\", \"2005-03-05\", \"2005-03-06\", \"2005-03-07\", \"2005-03-08\", \"2005-03-09\", \"2005-03-10\", \"2005-03-11\", \"2005-03-12\", \"2005-03-13\", \"2005-03-14\", \"2005-03-15\", \"2005-03-16\", \"2005-03-17\", \"2005-03-18\", \"2005-03-19\", \"2005-03-20\", \"2005-03-21\", \"2005-03-22\", \"2005-03-23\", \"2005-03-24\", \"2005-03-25\", \"2005-03-26\", \"2005-03-27\", \"2005-03-28\", \"2005-03-29\", \"2005-03-30\", \"2005-03-31\", \"2005-04-01\", \"2005-04-02\", \"2005-04-03\", \"2005-04-04\", \"2005-04-05\", \"2005-04-06\", \"2005-04-07\", \"2005-04-08\", \"2005-04-09\", \"2005-04-10\", \"2005-04-11\", \"2005-04-12\", \"2005-04-13\", \"2005-04-14\", \"2005-04-15\", \"2005-04-17\", \"2005-04-18\", \"2005-04-19\", \"2005-04-20\", \"2005-04-21\", \"2005-04-22\", \"2005-04-23\", \"2005-04-24\", \"2005-04-25\", \"2005-04-26\", \"2005-04-27\", \"2005-04-28\", \"2005-04-29\", \"2005-04-30\", \"2005-05-01\", \"2005-05-02\", \"2005-05-03\", \"2005-05-04\", \"2005-05-05\", \"2005-05-06\", \"2005-05-07\", \"2005-05-08\", \"2005-05-09\", \"2005-05-10\", \"2005-05-11\", \"2005-05-12\", \"2005-05-13\", \"2005-05-14\", \"2005-05-15\", \"2005-05-16\", \"2005-05-17\", \"2005-05-18\", \"2005-05-19\", \"2005-05-20\", \"2005-05-21\", \"2005-05-22\", \"2005-05-23\", \"2005-05-24\", \"2005-05-25\", \"2005-05-26\", \"2005-05-27\", \"2005-05-28\", \"2005-05-29\", \"2005-05-30\", \"2005-05-31\", \"2005-06-01\", \"2005-06-02\", \"2005-06-03\", \"2005-06-04\", \"2005-06-05\", \"2005-06-06\", \"2005-06-07\", \"2005-06-08\", \"2005-06-09\", \"2005-06-10\", \"2005-06-11\", \"2005-06-12\", \"2005-06-13\", \"2005-06-14\", \"2005-06-15\", \"2005-06-16\", \"2005-06-17\", \"2005-06-18\", \"2005-06-19\", \"2005-06-20\", \"2005-06-21\", \"2005-06-22\", \"2005-06-23\", \"2005-06-24\", \"2005-06-25\", \"2005-06-26\", \"2005-06-27\", \"2005-06-28\", \"2005-06-29\", \"2005-06-30\", \"2005-07-01\", \"2005-07-02\", \"2005-07-03\", \"2005-07-04\", \"2005-07-05\", \"2005-07-06\", \"2005-07-07\", \"2005-07-08\", \"2005-07-09\", \"2005-07-10\", \"2005-07-11\", \"2005-07-12\", \"2005-07-13\", \"2005-07-14\", \"2005-07-15\", \"2005-07-16\", \"2005-07-17\", \"2005-07-18\", \"2005-07-19\", \"2005-07-20\", \"2005-07-21\", \"2005-07-22\", \"2005-07-23\", \"2005-07-24\", \"2005-07-25\", \"2005-07-26\", \"2005-07-27\", \"2005-07-28\", \"2005-07-29\", \"2005-07-30\", \"2005-07-31\", \"2005-08-01\", \"2005-08-02\", \"2005-08-03\", \"2005-08-04\", \"2005-08-05\", \"2005-08-06\", \"2005-08-07\", \"2005-08-08\", \"2005-08-09\", \"2005-08-10\", \"2005-08-11\", \"2005-08-12\", \"2005-08-13\", \"2005-08-14\", \"2005-08-15\", \"2005-08-16\", \"2005-08-17\", \"2005-08-18\", \"2005-08-19\", \"2005-08-20\", \"2005-08-21\", \"2005-08-22\", \"2005-08-23\", \"2005-08-24\", \"2005-08-25\", \"2005-08-26\", \"2005-08-27\", \"2005-08-28\", \"2005-08-29\", \"2005-08-30\", \"2005-08-31\", \"2005-09-01\", \"2005-09-02\", \"2005-09-03\", \"2005-09-04\", \"2005-09-05\", \"2005-09-06\", \"2005-09-07\", \"2005-09-08\", \"2005-09-09\", \"2005-09-10\", \"2005-09-11\", \"2005-09-12\", \"2005-09-13\", \"2005-09-14\", \"2005-09-15\", \"2005-09-16\", \"2005-09-17\", \"2005-09-18\", \"2005-09-19\", \"2005-09-20\", \"2005-09-21\", \"2005-09-22\", \"2005-09-23\", \"2005-09-24\", \"2005-09-25\", \"2005-09-26\", \"2005-09-27\", \"2005-09-28\", \"2005-09-30\", \"2005-10-01\", \"2005-10-02\", \"2005-10-03\", \"2005-10-04\", \"2005-10-05\", \"2005-10-06\", \"2005-10-07\", \"2005-10-08\", \"2005-10-09\", \"2005-10-10\", \"2005-10-11\", \"2005-10-12\", \"2005-10-13\", \"2005-10-14\", \"2005-10-15\", \"2005-10-16\", \"2005-10-17\", \"2005-10-18\", \"2005-10-19\", \"2005-10-20\", \"2005-10-21\", \"2005-10-22\", \"2005-10-23\", \"2005-10-24\", \"2005-10-25\", \"2005-10-26\", \"2005-10-27\", \"2005-10-28\", \"2005-10-30\", \"2005-10-31\", \"2005-11-01\", \"2005-11-02\", \"2005-11-03\", \"2005-11-04\", \"2005-11-05\", \"2005-11-06\", \"2005-11-07\", \"2005-11-08\", \"2005-11-09\", \"2005-11-10\", \"2005-11-11\", \"2005-11-12\", \"2005-11-13\", \"2005-11-14\", \"2005-11-15\", \"2005-11-16\", \"2005-11-17\", \"2005-11-18\", \"2005-11-19\", \"2005-11-20\", \"2005-11-21\", \"2005-11-22\", \"2005-11-23\", \"2005-11-24\", \"2005-11-25\", \"2005-11-26\", \"2005-11-27\", \"2005-11-28\", \"2005-11-29\", \"2005-11-30\", \"2005-12-01\", \"2005-12-02\", \"2005-12-03\", \"2005-12-04\", \"2005-12-05\", \"2005-12-06\", \"2005-12-07\", \"2005-12-08\", \"2005-12-09\", \"2005-12-10\", \"2005-12-11\", \"2005-12-12\", \"2005-12-13\", \"2005-12-14\", \"2005-12-15\", \"2005-12-16\", \"2005-12-17\", \"2005-12-18\", \"2005-12-19\", \"2005-12-20\", \"2005-12-21\", \"2005-12-22\", \"2005-12-23\", \"2005-12-24\", \"2005-12-25\", \"2005-12-26\", \"2005-12-27\", \"2005-12-28\", \"2005-12-29\", \"2005-12-30\", \"2005-12-31\", \"2006-01-01\", \"2006-01-02\", \"2006-01-03\", \"2006-01-04\", \"2006-01-05\", \"2006-01-06\", \"2006-01-07\", \"2006-01-08\", \"2006-01-09\", \"2006-01-10\", \"2006-01-11\", \"2006-01-12\", \"2006-01-13\", \"2006-01-14\", \"2006-01-15\", \"2006-01-16\", \"2006-01-17\", \"2006-01-18\", \"2006-01-19\", \"2006-01-20\", \"2006-01-21\", \"2006-01-22\", \"2006-01-23\", \"2006-01-24\", \"2006-01-25\", \"2006-01-26\", \"2006-01-27\", \"2006-01-28\", \"2006-01-29\", \"2006-01-30\", \"2006-01-31\", \"2006-02-01\", \"2006-02-02\", \"2006-02-03\", \"2006-02-04\", \"2006-02-05\", \"2006-02-06\", \"2006-02-07\", \"2006-02-08\", \"2006-02-09\", \"2006-02-10\", \"2006-02-11\", \"2006-02-12\", \"2006-02-13\", \"2006-02-14\", \"2006-02-15\", \"2006-02-16\", \"2006-02-17\", \"2006-02-18\", \"2006-02-19\", \"2006-02-20\", \"2006-02-21\", \"2006-02-22\", \"2006-02-23\", \"2006-02-24\", \"2006-02-25\", \"2006-02-26\", \"2006-02-27\", \"2006-02-28\", \"2006-03-01\", \"2006-03-02\", \"2006-03-03\", \"2006-03-04\", \"2006-03-05\", \"2006-03-06\", \"2006-03-07\", \"2006-03-08\", \"2006-03-09\", \"2006-03-10\", \"2006-03-11\", \"2006-03-12\", \"2006-03-13\", \"2006-03-14\", \"2006-03-15\", \"2006-03-16\", \"2006-03-17\", \"2006-03-18\", \"2006-03-19\", \"2006-03-20\", \"2006-03-21\", \"2006-03-22\", \"2006-03-23\", \"2006-03-24\", \"2006-03-25\", \"2006-03-26\", \"2006-03-27\", \"2006-03-28\", \"2006-03-29\", \"2006-03-30\", \"2006-03-31\", \"2006-04-01\", \"2006-04-02\", \"2006-04-03\", \"2006-04-04\", \"2006-04-05\", \"2006-04-06\", \"2006-04-07\", \"2006-04-08\", \"2006-04-09\", \"2006-04-10\", \"2006-04-11\", \"2006-04-12\", \"2006-04-13\", \"2006-04-14\", \"2006-04-15\", \"2006-04-16\", \"2006-04-17\", \"2006-04-18\", \"2006-04-19\", \"2006-04-20\", \"2006-04-21\", \"2006-04-22\", \"2006-04-23\", \"2006-04-24\", \"2006-04-25\", \"2006-04-26\", \"2006-04-27\", \"2006-04-28\", \"2006-04-29\", \"2006-04-30\", \"2006-05-01\", \"2006-05-02\", \"2006-05-03\", \"2006-05-04\", \"2006-05-05\", \"2006-05-06\", \"2006-05-07\", \"2006-05-08\", \"2006-05-09\", \"2006-05-10\", \"2006-05-11\", \"2006-05-12\", \"2006-05-13\", \"2006-05-14\", \"2006-05-15\", \"2006-05-16\", \"2006-05-17\", \"2006-05-18\", \"2006-05-19\", \"2006-05-20\", \"2006-05-21\", \"2006-05-22\", \"2006-05-23\", \"2006-05-24\", \"2006-05-25\", \"2006-05-26\", \"2006-05-27\", \"2006-05-28\", \"2006-05-29\", \"2006-05-30\", \"2006-05-31\", \"2006-06-01\", \"2006-06-02\", \"2006-06-03\", \"2006-06-04\", \"2006-06-05\", \"2006-06-06\", \"2006-06-07\", \"2006-06-08\", \"2006-06-09\", \"2006-06-10\", \"2006-06-11\", \"2006-06-12\", \"2006-06-13\", \"2006-06-14\", \"2006-06-15\", \"2006-06-16\", \"2006-06-17\", \"2006-06-18\", \"2006-06-19\", \"2006-06-20\", \"2006-06-21\", \"2006-06-22\", \"2006-06-23\", \"2006-06-24\", \"2006-06-25\", \"2006-06-26\", \"2006-06-27\", \"2006-06-28\", \"2006-06-29\", \"2006-06-30\", \"2006-07-01\", \"2006-07-02\", \"2006-07-03\", \"2006-07-04\", \"2006-07-05\", \"2006-07-06\", \"2006-07-07\", \"2006-07-08\", \"2006-07-09\", \"2006-07-10\", \"2006-07-11\", \"2006-07-12\", \"2006-07-13\", \"2006-07-14\", \"2006-07-15\", \"2006-07-16\", \"2006-07-17\", \"2006-07-18\", \"2006-07-19\", \"2006-07-20\", \"2006-07-21\", \"2006-07-22\", \"2006-07-23\", \"2006-07-24\", \"2006-07-25\", \"2006-07-26\", \"2006-07-27\", \"2006-07-28\", \"2006-07-29\", \"2006-07-30\", \"2006-07-31\", \"2006-08-01\", \"2006-08-02\", \"2006-08-03\", \"2006-08-04\", \"2006-08-05\", \"2006-08-06\", \"2006-08-07\", \"2006-08-08\", \"2006-08-09\", \"2006-08-10\", \"2006-08-11\", \"2006-08-12\", \"2006-08-13\", \"2006-08-14\", \"2006-08-15\", \"2006-08-16\", \"2006-08-17\", \"2006-08-18\", \"2006-08-19\", \"2006-08-20\", \"2006-08-21\", \"2006-08-22\", \"2006-08-23\", \"2006-08-24\", \"2006-08-25\", \"2006-08-26\", \"2006-08-27\", \"2006-08-28\", \"2006-08-29\", \"2006-08-30\", \"2006-08-31\", \"2006-09-01\", \"2006-09-02\", \"2006-09-03\", \"2006-09-04\", \"2006-09-05\", \"2006-09-06\", \"2006-09-07\", \"2006-09-08\", \"2006-09-09\", \"2006-09-10\", \"2006-09-11\", \"2006-09-12\", \"2006-09-13\", \"2006-09-14\", \"2006-09-15\", \"2006-09-16\", \"2006-09-17\", \"2006-09-18\", \"2006-09-19\", \"2006-09-20\", \"2006-09-21\", \"2006-09-22\", \"2006-09-23\", \"2006-09-24\", \"2006-09-25\", \"2006-09-26\", \"2006-09-27\", \"2006-09-28\", \"2006-09-29\", \"2006-09-30\", \"2006-10-01\", \"2006-10-02\", \"2006-10-03\", \"2006-10-04\", \"2006-10-05\", \"2006-10-06\", \"2006-10-07\", \"2006-10-08\", \"2006-10-09\", \"2006-10-10\", \"2006-10-11\", \"2006-10-12\", \"2006-10-13\", \"2006-10-14\", \"2006-10-15\", \"2006-10-16\", \"2006-10-17\", \"2006-10-18\", \"2006-10-19\", \"2006-10-20\", \"2006-10-21\", \"2006-10-22\", \"2006-10-23\", \"2006-10-24\", \"2006-10-25\", \"2006-10-26\", \"2006-10-27\", \"2006-10-28\", \"2006-10-29\", \"2006-10-30\", \"2006-10-31\", \"2006-11-01\", \"2006-11-02\", \"2006-11-03\", \"2006-11-04\", \"2006-11-05\", \"2006-11-06\", \"2006-11-07\", \"2006-11-08\", \"2006-11-09\", \"2006-11-10\", \"2006-11-11\", \"2006-11-12\", \"2006-11-13\", \"2006-11-14\", \"2006-11-15\", \"2006-11-16\", \"2006-11-17\", \"2006-11-18\", \"2006-11-19\", \"2006-11-20\", \"2006-11-21\", \"2006-11-22\", \"2006-11-23\", \"2006-11-24\", \"2006-11-25\", \"2006-11-26\", \"2006-11-27\", \"2006-11-28\", \"2006-11-29\", \"2006-11-30\", \"2006-12-01\", \"2006-12-02\", \"2006-12-03\", \"2006-12-04\", \"2006-12-05\", \"2006-12-06\", \"2006-12-07\", \"2006-12-08\", \"2006-12-09\", \"2006-12-10\", \"2006-12-11\", \"2006-12-12\", \"2006-12-13\", \"2006-12-14\", \"2006-12-15\", \"2006-12-16\", \"2006-12-17\", \"2006-12-18\", \"2006-12-19\", \"2006-12-20\", \"2006-12-21\", \"2006-12-22\", \"2006-12-23\", \"2006-12-24\", \"2006-12-25\", \"2006-12-26\", \"2006-12-27\", \"2006-12-28\", \"2006-12-29\", \"2006-12-30\", \"2006-12-31\", \"2007-01-01\", \"2007-01-02\", \"2007-01-03\", \"2007-01-04\", \"2007-01-05\", \"2007-01-06\", \"2007-01-07\", \"2007-01-08\", \"2007-01-09\", \"2007-01-10\", \"2007-01-11\", \"2007-01-12\", \"2007-01-13\", \"2007-01-14\", \"2007-01-15\", \"2007-01-16\", \"2007-01-17\", \"2007-01-18\", \"2007-01-19\", \"2007-01-20\", \"2007-01-21\", \"2007-01-22\", \"2007-01-23\", \"2007-01-24\", \"2007-01-25\", \"2007-01-26\", \"2007-01-27\", \"2007-01-28\", \"2007-01-29\", \"2007-01-30\", \"2007-01-31\", \"2007-02-01\", \"2007-02-02\", \"2007-02-03\", \"2007-02-04\", \"2007-02-05\", \"2007-02-06\", \"2007-02-07\", \"2007-02-08\", \"2007-02-09\", \"2007-02-10\", \"2007-02-11\", \"2007-02-12\", \"2007-02-13\", \"2007-02-14\", \"2007-02-15\", \"2007-02-16\", \"2007-02-17\", \"2007-02-18\", \"2007-02-19\", \"2007-02-20\", \"2007-02-21\", \"2007-02-22\", \"2007-02-23\", \"2007-02-24\", \"2007-02-25\", \"2007-02-26\", \"2007-02-27\", \"2007-02-28\", \"2007-03-01\", \"2007-03-02\", \"2007-03-03\", \"2007-03-04\", \"2007-03-05\", \"2007-03-06\", \"2007-03-07\", \"2007-03-08\", \"2007-03-09\", \"2007-03-10\", \"2007-03-11\", \"2007-03-12\", \"2007-03-13\", \"2007-03-14\", \"2007-03-15\", \"2007-03-16\", \"2007-03-17\", \"2007-03-18\", \"2007-03-19\", \"2007-03-20\", \"2007-03-21\", \"2007-03-22\", \"2007-03-23\", \"2007-03-24\", \"2007-03-25\", \"2007-03-26\", \"2007-03-27\", \"2007-03-28\", \"2007-03-29\", \"2007-03-30\", \"2007-03-31\", \"2007-04-01\", \"2007-04-02\", \"2007-04-03\", \"2007-04-04\", \"2007-04-05\", \"2007-04-06\", \"2007-04-07\", \"2007-04-08\", \"2007-04-09\", \"2007-04-10\", \"2007-04-11\", \"2007-04-12\", \"2007-04-13\", \"2007-04-14\", \"2007-04-15\", \"2007-04-16\", \"2007-04-17\", \"2007-04-18\", \"2007-04-19\", \"2007-04-20\", \"2007-04-21\", \"2007-04-22\", \"2007-04-23\", \"2007-04-24\", \"2007-04-25\", \"2007-04-26\", \"2007-04-27\", \"2007-04-28\", \"2007-04-29\", \"2007-04-30\", \"2007-05-01\", \"2007-05-02\", \"2007-05-03\", \"2007-05-04\", \"2007-05-05\", \"2007-05-06\", \"2007-05-07\", \"2007-05-08\", \"2007-05-09\", \"2007-05-10\", \"2007-05-11\", \"2007-05-12\", \"2007-05-13\", \"2007-05-14\", \"2007-05-15\", \"2007-05-16\", \"2007-05-17\", \"2007-05-18\", \"2007-05-19\", \"2007-05-20\", \"2007-05-21\", \"2007-05-22\", \"2007-05-23\", \"2007-05-24\", \"2007-05-25\", \"2007-05-26\", \"2007-05-27\", \"2007-05-28\", \"2007-05-29\", \"2007-05-30\", \"2007-05-31\", \"2007-06-01\", \"2007-06-02\", \"2007-06-03\", \"2007-06-04\", \"2007-06-05\", \"2007-06-06\", \"2007-06-07\", \"2007-06-08\", \"2007-06-09\", \"2007-06-10\", \"2007-06-11\", \"2007-06-12\", \"2007-06-13\", \"2007-06-14\", \"2007-06-15\", \"2007-06-16\", \"2007-06-17\", \"2007-06-18\", \"2007-06-19\", \"2007-06-20\", \"2007-06-21\", \"2007-06-22\", \"2007-06-23\", \"2007-06-24\", \"2007-06-25\", \"2007-06-26\", \"2007-06-27\", \"2007-06-28\", \"2007-06-29\", \"2007-06-30\", \"2007-07-01\", \"2007-07-02\", \"2007-07-03\", \"2007-07-04\", \"2007-07-05\", \"2007-07-06\", \"2007-07-07\", \"2007-07-08\", \"2007-07-09\", \"2007-07-10\", \"2007-07-11\", \"2007-07-12\", \"2007-07-13\", \"2007-07-14\", \"2007-07-15\", \"2007-07-16\", \"2007-07-17\", \"2007-07-18\", \"2007-07-19\", \"2007-07-20\", \"2007-07-21\", \"2007-07-22\", \"2007-07-23\", \"2007-07-24\", \"2007-07-25\", \"2007-07-26\", \"2007-07-27\", \"2007-07-28\", \"2007-07-29\", \"2007-07-30\", \"2007-07-31\", \"2007-08-01\", \"2007-08-02\", \"2007-08-03\", \"2007-08-04\", \"2007-08-05\", \"2007-08-06\", \"2007-08-07\", \"2007-08-08\", \"2007-08-09\", \"2007-08-10\", \"2007-08-11\", \"2007-08-12\", \"2007-08-13\", \"2007-08-14\", \"2007-08-15\", \"2007-08-16\", \"2007-08-17\", \"2007-08-18\", \"2007-08-19\", \"2007-08-20\", \"2007-08-21\", \"2007-08-22\", \"2007-08-23\", \"2007-08-24\", \"2007-08-25\", \"2007-08-26\", \"2007-08-27\", \"2007-08-28\", \"2007-08-29\", \"2007-08-30\", \"2007-08-31\", \"2007-09-01\", \"2007-09-02\", \"2007-09-03\", \"2007-09-04\", \"2007-09-05\", \"2007-09-06\", \"2007-09-07\", \"2007-09-08\", \"2007-09-09\", \"2007-09-10\", \"2007-09-11\", \"2007-09-12\", \"2007-09-13\", \"2007-09-14\", \"2007-09-15\", \"2007-09-16\", \"2007-09-17\", \"2007-09-18\", \"2007-09-19\", \"2007-09-20\", \"2007-09-21\", \"2007-09-22\", \"2007-09-23\", \"2007-09-24\", \"2007-09-25\", \"2007-09-26\", \"2007-09-27\", \"2007-09-28\", \"2007-09-29\", \"2007-09-30\", \"2007-10-01\", \"2007-10-02\", \"2007-10-03\", \"2007-10-04\", \"2007-10-05\", \"2007-10-06\", \"2007-10-07\", \"2007-10-08\", \"2007-10-09\", \"2007-10-10\", \"2007-10-11\", \"2007-10-12\", \"2007-10-13\", \"2007-10-14\", \"2007-10-15\", \"2007-10-16\", \"2007-10-17\", \"2007-10-18\", \"2007-10-19\", \"2007-10-20\", \"2007-10-21\", \"2007-10-22\", \"2007-10-23\", \"2007-10-24\", \"2007-10-25\", \"2007-10-26\", \"2007-10-27\", \"2007-10-28\", \"2007-10-29\", \"2007-10-30\", \"2007-10-31\", \"2007-11-01\", \"2007-11-02\", \"2007-11-03\", \"2007-11-04\", \"2007-11-05\", \"2007-11-06\", \"2007-11-07\", \"2007-11-08\", \"2007-11-09\", \"2007-11-10\", \"2007-11-11\", \"2007-11-12\", \"2007-11-13\", \"2007-11-14\", \"2007-11-15\", \"2007-11-16\", \"2007-11-17\", \"2007-11-18\", \"2007-11-19\", \"2007-11-20\", \"2007-11-21\", \"2007-11-22\", \"2007-11-23\", \"2007-11-24\", \"2007-11-25\", \"2007-11-26\", \"2007-11-27\", \"2007-11-28\", \"2007-11-29\", \"2007-11-30\", \"2007-12-01\", \"2007-12-02\", \"2007-12-03\", \"2007-12-04\", \"2007-12-05\", \"2007-12-06\", \"2007-12-07\", \"2007-12-08\", \"2007-12-09\", \"2007-12-10\", \"2007-12-11\", \"2007-12-12\", \"2007-12-13\", \"2007-12-14\", \"2007-12-15\", \"2007-12-16\", \"2007-12-17\", \"2007-12-18\", \"2007-12-19\", \"2007-12-20\", \"2007-12-21\", \"2007-12-22\", \"2007-12-23\", \"2007-12-24\", \"2007-12-25\", \"2007-12-26\", \"2007-12-27\", \"2007-12-28\", \"2007-12-29\", \"2007-12-30\", \"2007-12-31\", \"2008-01-01\", \"2008-01-02\", \"2008-01-03\", \"2008-01-04\", \"2008-01-05\", \"2008-01-06\", \"2008-01-07\", \"2008-01-08\", \"2008-01-09\", \"2008-01-10\", \"2008-01-11\", \"2008-01-12\", \"2008-01-13\", \"2008-01-14\", \"2008-01-15\", \"2008-01-16\", \"2008-01-17\", \"2008-01-18\", \"2008-01-19\", \"2008-01-20\", \"2008-01-21\", \"2008-01-22\", \"2008-01-23\", \"2008-01-24\", \"2008-01-25\", \"2008-01-26\", \"2008-01-27\", \"2008-01-28\", \"2008-01-29\", \"2008-01-30\", \"2008-01-31\", \"2008-02-01\", \"2008-02-02\", \"2008-02-03\", \"2008-02-04\", \"2008-02-05\", \"2008-02-06\", \"2008-02-07\", \"2008-02-08\", \"2008-02-09\", \"2008-02-10\", \"2008-02-11\", \"2008-02-12\", \"2008-02-13\", \"2008-02-14\", \"2008-02-15\", \"2008-02-16\", \"2008-02-17\", \"2008-02-18\", \"2008-02-19\", \"2008-02-20\", \"2008-02-21\", \"2008-02-22\", \"2008-02-23\", \"2008-02-24\", \"2008-02-25\", \"2008-02-26\", \"2008-02-27\", \"2008-02-28\", \"2008-02-29\", \"2008-03-01\", \"2008-03-02\", \"2008-03-03\", \"2008-03-04\", \"2008-03-05\", \"2008-03-06\", \"2008-03-07\", \"2008-03-08\", \"2008-03-09\", \"2008-03-10\", \"2008-03-11\", \"2008-03-12\", \"2008-03-13\", \"2008-03-14\", \"2008-03-15\", \"2008-03-16\", \"2008-03-17\", \"2008-03-18\", \"2008-03-19\", \"2008-03-20\", \"2008-03-21\", \"2008-03-22\", \"2008-03-23\", \"2008-03-24\", \"2008-03-25\", \"2008-03-26\", \"2008-03-27\", \"2008-03-28\", \"2008-03-29\", \"2008-03-30\", \"2008-03-31\", \"2008-04-01\", \"2008-04-02\", \"2008-04-03\", \"2008-04-04\", \"2008-04-05\", \"2008-04-06\", \"2008-04-07\", \"2008-04-08\", \"2008-04-09\", \"2008-04-10\", \"2008-04-11\", \"2008-04-12\", \"2008-04-13\", \"2008-04-14\", \"2008-04-15\", \"2008-04-16\", \"2008-04-17\", \"2008-04-18\", \"2008-04-19\", \"2008-04-20\", \"2008-04-21\", \"2008-04-22\", \"2008-04-23\", \"2008-04-24\", \"2008-04-25\", \"2008-04-26\", \"2008-04-27\", \"2008-04-28\", \"2008-04-29\", \"2008-04-30\", \"2008-05-01\", \"2008-05-02\", \"2008-05-03\", \"2008-05-04\", \"2008-05-05\", \"2008-05-06\", \"2008-05-07\", \"2008-05-08\", \"2008-05-09\", \"2008-05-10\", \"2008-05-11\", \"2008-05-12\", \"2008-05-13\", \"2008-05-14\", \"2008-05-15\", \"2008-05-16\", \"2008-05-17\", \"2008-05-18\", \"2008-05-19\", \"2008-05-20\", \"2008-05-21\", \"2008-05-22\", \"2008-05-23\", \"2008-05-24\", \"2008-05-25\", \"2008-05-26\", \"2008-05-27\", \"2008-05-28\", \"2008-05-29\", \"2008-05-30\", \"2008-05-31\", \"2008-06-01\", \"2008-06-02\", \"2008-06-03\", \"2008-06-04\", \"2008-06-05\", \"2008-06-06\", \"2008-06-07\", \"2008-06-08\", \"2008-06-09\", \"2008-06-10\", \"2008-06-11\", \"2008-06-12\", \"2008-06-13\", \"2008-06-14\", \"2008-06-15\", \"2008-06-16\", \"2008-06-17\", \"2008-06-18\", \"2008-06-19\", \"2008-06-20\", \"2008-06-21\", \"2008-06-22\", \"2008-06-23\", \"2008-06-24\", \"2008-06-25\", \"2008-06-26\", \"2008-06-27\", \"2008-06-28\", \"2008-06-29\", \"2008-06-30\", \"2008-07-01\", \"2008-07-02\", \"2008-07-03\", \"2008-07-04\", \"2008-07-05\", \"2008-07-06\", \"2008-07-07\", \"2008-07-08\", \"2008-07-09\", \"2008-07-10\", \"2008-07-11\", \"2008-07-12\", \"2008-07-13\", \"2008-07-14\", \"2008-07-15\", \"2008-07-16\", \"2008-07-17\", \"2008-07-18\", \"2008-07-19\", \"2008-07-20\", \"2008-07-21\", \"2008-07-22\", \"2008-07-23\", \"2008-07-24\", \"2008-07-25\", \"2008-07-26\", \"2008-07-27\", \"2008-07-28\", \"2008-07-29\", \"2008-07-30\", \"2008-07-31\", \"2008-08-01\", \"2008-08-02\", \"2008-08-03\", \"2008-08-04\", \"2008-08-05\", \"2008-08-06\", \"2008-08-07\", \"2008-08-08\", \"2008-08-09\", \"2008-08-10\", \"2008-08-11\", \"2008-08-12\", \"2008-08-13\", \"2008-08-14\", \"2008-08-15\", \"2008-08-16\", \"2008-08-17\", \"2008-08-18\", \"2008-08-19\", \"2008-08-20\", \"2008-08-21\", \"2008-08-22\", \"2008-08-23\", \"2008-08-24\", \"2008-08-25\", \"2008-08-26\", \"2008-08-27\", \"2008-08-28\", \"2008-08-29\", \"2008-08-30\", \"2008-08-31\", \"2008-09-01\", \"2008-09-02\", \"2008-09-03\", \"2008-09-04\", \"2008-09-05\", \"2008-09-06\", \"2008-09-07\", \"2008-09-08\", \"2008-09-09\", \"2008-09-10\", \"2008-09-11\", \"2008-09-12\", \"2008-09-13\", \"2008-09-14\", \"2008-09-15\", \"2008-09-16\", \"2008-09-17\", \"2008-09-18\", \"2008-09-19\", \"2008-09-20\", \"2008-09-21\", \"2008-09-22\", \"2008-09-23\", \"2008-09-24\", \"2008-09-25\", \"2008-09-26\", \"2008-09-27\", \"2008-09-28\", \"2008-09-29\", \"2008-09-30\", \"2008-10-01\", \"2008-10-02\", \"2008-10-03\", \"2008-10-04\", \"2008-10-05\", \"2008-10-06\", \"2008-10-07\", \"2008-10-08\", \"2008-10-09\", \"2008-10-10\", \"2008-10-11\", \"2008-10-12\", \"2008-10-13\", \"2008-10-14\", \"2008-10-15\", \"2008-10-16\", \"2008-10-17\", \"2008-10-18\", \"2008-10-19\", \"2008-10-20\", \"2008-10-21\", \"2008-10-22\", \"2008-10-23\", \"2008-10-24\", \"2008-10-25\", \"2008-10-26\", \"2008-10-27\", \"2008-10-28\", \"2008-10-29\", \"2008-10-30\", \"2008-10-31\", \"2008-11-01\", \"2008-11-02\", \"2008-11-03\", \"2008-11-04\", \"2008-11-05\", \"2008-11-06\", \"2008-11-07\", \"2008-11-08\", \"2008-11-09\", \"2008-11-10\", \"2008-11-11\", \"2008-11-12\", \"2008-11-13\", \"2008-11-14\", \"2008-11-15\", \"2008-11-16\", \"2008-11-17\", \"2008-11-18\", \"2008-11-19\", \"2008-11-20\", \"2008-11-21\", \"2008-11-22\", \"2008-11-23\", \"2008-11-24\", \"2008-11-25\", \"2008-11-26\", \"2008-11-27\", \"2008-11-28\", \"2008-11-29\", \"2008-11-30\", \"2008-12-01\", \"2008-12-02\", \"2008-12-03\", \"2008-12-04\", \"2008-12-05\", \"2008-12-06\", \"2008-12-07\", \"2008-12-08\", \"2008-12-09\", \"2008-12-10\", \"2008-12-11\", \"2008-12-12\", \"2008-12-13\", \"2008-12-14\", \"2008-12-15\", \"2008-12-16\", \"2008-12-17\", \"2008-12-18\", \"2008-12-19\", \"2008-12-20\", \"2008-12-21\", \"2008-12-22\", \"2008-12-23\", \"2008-12-24\", \"2008-12-25\", \"2008-12-26\", \"2008-12-27\", \"2008-12-28\", \"2008-12-29\", \"2008-12-30\", \"2008-12-31\", \"2009-01-01\", \"2009-01-02\", \"2009-01-03\", \"2009-01-04\", \"2009-01-05\", \"2009-01-06\", \"2009-01-07\", \"2009-01-08\", \"2009-01-09\", \"2009-01-10\", \"2009-01-11\", \"2009-01-12\", \"2009-01-13\", \"2009-01-14\", \"2009-01-15\", \"2009-01-16\", \"2009-01-17\", \"2009-01-18\", \"2009-01-19\", \"2009-01-20\", \"2009-01-21\", \"2009-01-22\", \"2009-01-23\", \"2009-01-24\", \"2009-01-25\", \"2009-01-26\", \"2009-01-27\", \"2009-01-28\", \"2009-01-29\", \"2009-01-30\", \"2009-01-31\", \"2009-02-01\", \"2009-02-02\", \"2009-02-03\", \"2009-02-04\", \"2009-02-05\", \"2009-02-06\", \"2009-02-07\", \"2009-02-08\", \"2009-02-09\", \"2009-02-10\", \"2009-02-11\", \"2009-02-12\", \"2009-02-13\", \"2009-02-14\", \"2009-02-15\", \"2009-02-16\", \"2009-02-17\", \"2009-02-18\", \"2009-02-19\", \"2009-02-20\", \"2009-02-21\", \"2009-02-22\", \"2009-02-23\", \"2009-02-24\", \"2009-02-25\", \"2009-02-26\", \"2009-02-27\", \"2009-02-28\", \"2009-03-01\", \"2009-03-02\", \"2009-03-03\", \"2009-03-04\", \"2009-03-05\", \"2009-03-06\", \"2009-03-07\", \"2009-03-08\", \"2009-03-09\", \"2009-03-10\", \"2009-03-11\", \"2009-03-12\", \"2009-03-13\", \"2009-03-14\", \"2009-03-15\", \"2009-03-16\", \"2009-03-17\", \"2009-03-18\", \"2009-03-19\", \"2009-03-20\", \"2009-03-21\", \"2009-03-22\", \"2009-03-23\", \"2009-03-24\", \"2009-03-25\", \"2009-03-26\", \"2009-03-27\", \"2009-03-28\", \"2009-03-29\", \"2009-03-30\", \"2009-03-31\", \"2009-04-01\", \"2009-04-02\", \"2009-04-03\", \"2009-04-04\", \"2009-04-05\", \"2009-04-06\", \"2009-04-07\", \"2009-04-08\", \"2009-04-09\", \"2009-04-10\", \"2009-04-11\", \"2009-04-12\", \"2009-04-13\", \"2009-04-14\", \"2009-04-15\", \"2009-04-16\", \"2009-04-17\", \"2009-04-18\", \"2009-04-19\", \"2009-04-20\", \"2009-04-21\", \"2009-04-22\", \"2009-04-23\", \"2009-04-24\", \"2009-04-25\", \"2009-04-26\", \"2009-04-27\", \"2009-04-28\", \"2009-04-29\", \"2009-04-30\", \"2009-05-01\", \"2009-05-02\", \"2009-05-03\", \"2009-05-04\", \"2009-05-05\", \"2009-05-06\", \"2009-05-07\", \"2009-05-08\", \"2009-05-09\", \"2009-05-10\", \"2009-05-11\", \"2009-05-12\", \"2009-05-13\", \"2009-05-14\", \"2009-05-15\", \"2009-05-16\", \"2009-05-17\", \"2009-05-18\", \"2009-05-19\", \"2009-05-20\", \"2009-05-21\", \"2009-05-22\", \"2009-05-23\", \"2009-05-24\", \"2009-05-25\", \"2009-05-26\", \"2009-05-27\", \"2009-05-28\", \"2009-05-29\", \"2009-05-30\", \"2009-05-31\", \"2009-06-01\", \"2009-06-02\", \"2009-06-03\", \"2009-06-04\", \"2009-06-05\", \"2009-06-06\", \"2009-06-07\", \"2009-06-08\", \"2009-06-09\", \"2009-06-10\", \"2009-06-11\", \"2009-06-12\", \"2009-06-13\", \"2009-06-14\", \"2009-06-15\", \"2009-06-16\", \"2009-06-17\", \"2009-06-18\", \"2009-06-19\", \"2009-06-20\", \"2009-06-21\", \"2009-06-22\", \"2009-06-23\", \"2009-06-24\", \"2009-06-25\", \"2009-06-26\", \"2009-06-27\", \"2009-06-28\", \"2009-06-29\", \"2009-06-30\", \"2009-07-01\", \"2009-07-02\", \"2009-07-03\", \"2009-07-04\", \"2009-07-05\", \"2009-07-06\", \"2009-07-07\", \"2009-07-08\", \"2009-07-09\", \"2009-07-10\", \"2009-07-11\", \"2009-07-12\", \"2009-07-13\", \"2009-07-14\", \"2009-07-15\", \"2009-07-16\", \"2009-07-17\", \"2009-07-18\", \"2009-07-19\", \"2009-07-20\", \"2009-07-21\", \"2009-07-22\", \"2009-07-23\", \"2009-07-24\", \"2009-07-25\", \"2009-07-26\", \"2009-07-27\", \"2009-07-28\", \"2009-07-29\", \"2009-07-30\", \"2009-07-31\", \"2009-08-01\", \"2009-08-02\", \"2009-08-03\", \"2009-08-04\", \"2009-08-05\", \"2009-08-06\", \"2009-08-07\", \"2009-08-08\", \"2009-08-09\", \"2009-08-10\", \"2009-08-11\", \"2009-08-12\", \"2009-08-13\", \"2009-08-14\", \"2009-08-15\", \"2009-08-16\", \"2009-08-17\", \"2009-08-18\", \"2009-08-19\", \"2009-08-20\", \"2009-08-21\", \"2009-08-22\", \"2009-08-23\", \"2009-08-24\", \"2009-08-25\", \"2009-08-26\", \"2009-08-27\", \"2009-08-28\", \"2009-08-29\", \"2009-08-30\", \"2009-08-31\", \"2009-09-01\", \"2009-09-02\", \"2009-09-03\", \"2009-09-04\", \"2009-09-05\", \"2009-09-06\", \"2009-09-07\", \"2009-09-08\", \"2009-09-09\", \"2009-09-10\", \"2009-09-11\", \"2009-09-12\", \"2009-09-13\", \"2009-09-14\", \"2009-09-15\", \"2009-09-16\", \"2009-09-17\", \"2009-09-18\", \"2009-09-19\", \"2009-09-20\", \"2009-09-21\", \"2009-09-22\", \"2009-09-23\", \"2009-09-24\", \"2009-09-25\", \"2009-09-26\", \"2009-09-27\", \"2009-09-28\", \"2009-09-29\", \"2009-09-30\", \"2009-10-01\", \"2009-10-02\", \"2009-10-03\", \"2009-10-04\", \"2009-10-05\", \"2009-10-06\", \"2009-10-07\", \"2009-10-08\", \"2009-10-09\", \"2009-10-10\", \"2009-10-11\", \"2009-10-12\", \"2009-10-13\", \"2009-10-14\", \"2009-10-15\", \"2009-10-16\", \"2009-10-17\", \"2009-10-18\", \"2009-10-19\", \"2009-10-20\", \"2009-10-21\", \"2009-10-22\", \"2009-10-23\", \"2009-10-26\", \"2009-10-27\", \"2009-10-28\", \"2009-10-29\", \"2009-10-30\", \"2009-10-31\", \"2009-11-01\", \"2009-11-02\", \"2009-11-03\", \"2009-11-04\", \"2009-11-05\", \"2009-11-06\", \"2009-11-07\", \"2009-11-08\", \"2009-11-09\", \"2009-11-10\", \"2009-11-11\", \"2009-11-12\", \"2009-11-13\", \"2009-11-14\", \"2009-11-15\", \"2009-11-16\", \"2009-11-17\", \"2009-11-18\", \"2009-11-19\", \"2009-11-20\", \"2009-11-21\", \"2009-11-22\", \"2009-11-23\", \"2009-11-24\", \"2009-11-25\", \"2009-11-26\", \"2009-11-27\", \"2009-11-28\", \"2009-11-29\", \"2009-11-30\", \"2009-12-01\", \"2009-12-02\", \"2009-12-03\", \"2009-12-04\", \"2009-12-05\", \"2009-12-06\", \"2009-12-07\", \"2009-12-08\", \"2009-12-09\", \"2009-12-10\", \"2009-12-11\", \"2009-12-12\", \"2009-12-13\", \"2009-12-14\", \"2009-12-15\", \"2009-12-16\", \"2009-12-17\", \"2009-12-18\", \"2009-12-19\", \"2009-12-20\", \"2009-12-21\", \"2009-12-22\", \"2009-12-23\", \"2009-12-24\", \"2009-12-25\", \"2009-12-26\", \"2009-12-27\", \"2009-12-28\", \"2009-12-29\", \"2009-12-30\", \"2009-12-31\", \"2010-01-01\", \"2010-01-02\", \"2010-01-03\", \"2010-01-04\", \"2010-01-05\", \"2010-01-06\", \"2010-01-07\", \"2010-01-08\", \"2010-01-09\", \"2010-01-10\", \"2010-01-11\", \"2010-01-12\", \"2010-01-13\", \"2010-01-14\", \"2010-01-15\", \"2010-01-16\", \"2010-01-17\", \"2010-01-18\", \"2010-01-19\", \"2010-01-20\", \"2010-01-21\", \"2010-01-22\", \"2010-01-23\", \"2010-01-24\", \"2010-01-25\", \"2010-01-26\", \"2010-01-27\", \"2010-01-28\", \"2010-01-29\", \"2010-01-30\", \"2010-01-31\", \"2010-02-01\", \"2010-02-02\", \"2010-02-03\", \"2010-02-04\", \"2010-02-05\", \"2010-02-06\", \"2010-02-07\", \"2010-02-08\", \"2010-02-09\", \"2010-02-10\", \"2010-02-11\", \"2010-02-12\", \"2010-02-13\", \"2010-02-14\", \"2010-02-15\", \"2010-02-16\", \"2010-02-17\", \"2010-02-18\", \"2010-02-19\", \"2010-02-20\", \"2010-02-21\", \"2010-02-22\", \"2010-02-23\", \"2010-02-24\", \"2010-02-25\", \"2010-02-26\", \"2010-02-27\", \"2010-02-28\", \"2010-03-01\", \"2010-03-02\", \"2010-03-03\", \"2010-03-04\", \"2010-03-05\", \"2010-03-06\", \"2010-03-07\", \"2010-03-08\", \"2010-03-09\", \"2010-03-10\", \"2010-03-11\", \"2010-03-12\", \"2010-03-13\", \"2010-03-14\", \"2010-03-15\", \"2010-03-16\", \"2010-03-17\", \"2010-03-18\", \"2010-03-19\", \"2010-03-20\", \"2010-03-21\", \"2010-03-22\", \"2010-03-23\", \"2010-03-24\", \"2010-03-25\", \"2010-03-26\", \"2010-03-27\", \"2010-03-28\", \"2010-03-29\", \"2010-03-30\", \"2010-03-31\", \"2010-04-01\", \"2010-04-02\", \"2010-04-03\", \"2010-04-04\", \"2010-04-05\", \"2010-04-06\", \"2010-04-07\", \"2010-04-08\", \"2010-04-09\", \"2010-04-10\", \"2010-04-11\", \"2010-04-12\", \"2010-04-13\", \"2010-04-14\", \"2010-04-15\", \"2010-04-16\", \"2010-04-17\", \"2010-04-18\", \"2010-04-19\", \"2010-04-20\", \"2010-04-21\", \"2010-04-22\", \"2010-04-23\", \"2010-04-24\", \"2010-04-25\", \"2010-04-26\", \"2010-04-27\", \"2010-04-28\", \"2010-04-29\", \"2010-04-30\", \"2010-05-01\", \"2010-05-02\", \"2010-05-03\", \"2010-05-04\", \"2010-05-05\", \"2010-05-06\", \"2010-05-07\", \"2010-05-08\", \"2010-05-09\", \"2010-05-10\", \"2010-05-11\", \"2010-05-12\", \"2010-05-13\", \"2010-05-14\", \"2010-05-15\", \"2010-05-16\", \"2010-05-17\", \"2010-05-18\", \"2010-05-19\", \"2010-05-20\", \"2010-05-21\", \"2010-05-22\", \"2010-05-23\", \"2010-05-24\", \"2010-05-25\", \"2010-05-26\", \"2010-05-27\", \"2010-05-28\", \"2010-05-29\", \"2010-05-30\", \"2010-05-31\", \"2010-06-01\", \"2010-06-02\", \"2010-06-03\", \"2010-06-04\", \"2010-06-05\", \"2010-06-06\", \"2010-06-07\", \"2010-06-08\", \"2010-06-09\", \"2010-06-10\", \"2010-06-11\", \"2010-06-12\", \"2010-06-13\", \"2010-06-14\", \"2010-06-15\", \"2010-06-16\", \"2010-06-17\", \"2010-06-18\", \"2010-06-19\", \"2010-06-20\", \"2010-06-21\", \"2010-06-22\", \"2010-06-23\", \"2010-06-24\", \"2010-06-25\", \"2010-06-26\", \"2010-06-27\", \"2010-06-28\", \"2010-06-29\", \"2010-06-30\", \"2010-07-01\", \"2010-07-02\", \"2010-07-03\", \"2010-07-04\", \"2010-07-05\", \"2010-07-06\", \"2010-07-07\", \"2010-07-08\", \"2010-07-09\", \"2010-07-10\", \"2010-07-11\", \"2010-07-12\", \"2010-07-13\", \"2010-07-14\", \"2010-07-15\", \"2010-07-16\", \"2010-07-17\", \"2010-07-18\", \"2010-07-19\", \"2010-07-20\", \"2010-07-21\", \"2010-07-22\", \"2010-07-23\", \"2010-07-24\", \"2010-07-25\", \"2010-07-26\", \"2010-07-27\", \"2010-07-28\", \"2010-07-29\", \"2010-07-30\", \"2010-07-31\", \"2010-08-01\", \"2010-08-02\", \"2010-08-03\", \"2010-08-04\", \"2010-08-05\", \"2010-08-06\", \"2010-08-07\", \"2010-08-08\", \"2010-08-09\", \"2010-08-10\", \"2010-08-11\", \"2010-08-12\", \"2010-08-13\", \"2010-08-14\", \"2010-08-15\", \"2010-08-16\", \"2010-08-17\", \"2010-08-18\", \"2010-08-19\", \"2010-08-20\", \"2010-08-21\", \"2010-08-22\", \"2010-08-23\", \"2010-08-24\", \"2010-08-25\", \"2010-08-26\", \"2010-08-27\", \"2010-08-28\", \"2010-08-29\", \"2010-08-30\", \"2010-08-31\", \"2010-09-01\", \"2010-09-02\", \"2010-09-03\", \"2010-09-04\", \"2010-09-05\", \"2010-09-06\", \"2010-09-07\", \"2010-09-08\", \"2010-09-09\", \"2010-09-10\", \"2010-09-11\", \"2010-09-12\", \"2010-09-13\", \"2010-09-14\", \"2010-09-15\", \"2010-09-16\", \"2010-09-17\", \"2010-09-18\", \"2010-09-19\", \"2010-09-20\", \"2010-09-21\", \"2010-09-22\", \"2010-09-23\", \"2010-09-24\", \"2010-09-25\", \"2010-09-26\", \"2010-09-27\", \"2010-09-28\", \"2010-09-29\", \"2010-09-30\", \"2010-10-01\", \"2010-10-02\", \"2010-10-03\", \"2010-10-04\", \"2010-10-05\", \"2010-10-06\", \"2010-10-07\", \"2010-10-08\", \"2010-10-09\", \"2010-10-10\", \"2010-10-11\", \"2010-10-12\", \"2010-10-13\", \"2010-10-14\", \"2010-10-15\", \"2010-10-16\", \"2010-10-17\", \"2010-10-18\", \"2010-10-19\", \"2010-10-20\", \"2010-10-21\", \"2010-10-22\", \"2010-10-23\", \"2010-10-24\", \"2010-10-25\", \"2010-10-26\", \"2010-10-27\", \"2010-10-28\", \"2010-10-29\", \"2010-10-30\", \"2010-10-31\", \"2010-11-01\", \"2010-11-02\", \"2010-11-03\", \"2010-11-04\", \"2010-11-05\", \"2010-11-06\", \"2010-11-07\", \"2010-11-08\", \"2010-11-09\", \"2010-11-10\", \"2010-11-11\", \"2010-11-12\", \"2010-11-13\", \"2010-11-14\", \"2010-11-15\", \"2010-11-16\", \"2010-11-17\", \"2010-11-18\", \"2010-11-19\", \"2010-11-20\", \"2010-11-21\", \"2010-11-22\", \"2010-11-23\", \"2010-11-24\", \"2010-11-25\", \"2010-11-26\", \"2010-11-27\", \"2010-11-28\", \"2010-11-29\", \"2010-11-30\", \"2010-12-01\", \"2010-12-02\", \"2010-12-03\", \"2010-12-04\", \"2010-12-05\", \"2010-12-06\", \"2010-12-07\", \"2010-12-08\", \"2010-12-09\", \"2010-12-10\", \"2010-12-11\", \"2010-12-12\", \"2010-12-13\", \"2010-12-14\", \"2010-12-15\", \"2010-12-16\", \"2010-12-17\", \"2010-12-18\", \"2010-12-19\", \"2010-12-20\", \"2010-12-21\", \"2010-12-22\", \"2010-12-23\", \"2010-12-24\", \"2010-12-25\", \"2010-12-26\", \"2010-12-27\", \"2010-12-28\", \"2010-12-29\", \"2010-12-30\", \"2010-12-31\", \"2011-01-01\", \"2011-01-02\", \"2011-01-03\", \"2011-01-04\", \"2011-01-05\", \"2011-01-06\", \"2011-01-07\", \"2011-01-08\", \"2011-01-09\", \"2011-01-10\", \"2011-01-11\", \"2011-01-12\", \"2011-01-13\", \"2011-01-14\", \"2011-01-15\", \"2011-01-16\", \"2011-01-17\", \"2011-01-18\", \"2011-01-19\", \"2011-01-20\", \"2011-01-21\", \"2011-01-22\", \"2011-01-23\", \"2011-01-24\", \"2011-01-25\", \"2011-01-26\", \"2011-01-27\", \"2011-01-28\", \"2011-01-29\", \"2011-01-30\", \"2011-01-31\", \"2011-02-01\", \"2011-02-02\", \"2011-02-03\", \"2011-02-04\", \"2011-02-05\", \"2011-02-06\", \"2011-02-07\", \"2011-02-08\", \"2011-02-09\", \"2011-02-10\", \"2011-02-11\", \"2011-02-12\", \"2011-02-13\", \"2011-02-14\", \"2011-02-15\", \"2011-02-16\", \"2011-02-17\", \"2011-02-18\", \"2011-02-19\", \"2011-02-20\", \"2011-02-21\", \"2011-02-22\", \"2011-02-23\", \"2011-02-24\", \"2011-02-25\", \"2011-02-26\", \"2011-02-27\", \"2011-02-28\", \"2011-03-01\", \"2011-03-02\", \"2011-03-03\", \"2011-03-04\", \"2011-03-05\", \"2011-03-06\", \"2011-03-07\", \"2011-03-08\", \"2011-03-09\", \"2011-03-10\", \"2011-03-11\", \"2011-03-12\", \"2011-03-13\", \"2011-03-14\", \"2011-03-15\", \"2011-03-16\", \"2011-03-17\", \"2011-03-18\", \"2011-03-19\", \"2011-03-20\", \"2011-03-21\", \"2011-03-22\", \"2011-03-23\", \"2011-03-24\", \"2011-03-25\", \"2011-03-26\", \"2011-03-27\", \"2011-03-28\", \"2011-03-29\", \"2011-03-30\", \"2011-03-31\", \"2011-04-01\", \"2011-04-02\", \"2011-04-03\", \"2011-04-04\", \"2011-04-05\", \"2011-04-06\", \"2011-04-07\", \"2011-04-08\", \"2011-04-09\", \"2011-04-10\", \"2011-04-11\", \"2011-04-12\", \"2011-04-13\", \"2011-04-14\", \"2011-04-15\", \"2011-04-16\", \"2011-04-17\", \"2011-04-18\", \"2011-04-19\", \"2011-04-20\", \"2011-04-21\", \"2011-04-22\", \"2011-04-23\", \"2011-04-24\", \"2011-04-25\", \"2011-04-26\", \"2011-04-27\", \"2011-04-28\", \"2011-04-29\", \"2011-04-30\", \"2011-05-01\", \"2011-05-02\", \"2011-05-03\", \"2011-05-04\", \"2011-05-05\", \"2011-05-06\", \"2011-05-07\", \"2011-05-08\", \"2011-05-09\", \"2011-05-10\", \"2011-05-11\", \"2011-05-12\", \"2011-05-13\", \"2011-05-14\", \"2011-05-15\", \"2011-05-16\", \"2011-05-17\", \"2011-05-18\", \"2011-05-19\", \"2011-05-20\", \"2011-05-21\", \"2011-05-22\", \"2011-05-23\", \"2011-05-24\", \"2011-05-25\", \"2011-05-26\", \"2011-05-27\", \"2011-05-28\", \"2011-05-29\", \"2011-05-30\", \"2011-05-31\", \"2011-06-01\", \"2011-06-02\", \"2011-06-03\", \"2011-06-04\", \"2011-06-05\", \"2011-06-06\", \"2011-06-07\", \"2011-06-08\", \"2011-06-09\", \"2011-06-10\", \"2011-06-11\", \"2011-06-12\", \"2011-06-13\", \"2011-06-14\", \"2011-06-15\", \"2011-06-16\", \"2011-06-17\", \"2011-06-18\", \"2011-06-19\", \"2011-06-20\", \"2011-06-21\", \"2011-06-22\", \"2011-06-23\", \"2011-06-24\", \"2011-06-25\", \"2011-06-26\", \"2011-06-27\", \"2011-06-28\", \"2011-06-29\", \"2011-06-30\", \"2011-07-01\", \"2011-07-02\", \"2011-07-03\", \"2011-07-04\", \"2011-07-05\", \"2011-07-06\", \"2011-07-07\", \"2011-07-08\", \"2011-07-09\", \"2011-07-10\", \"2011-07-11\", \"2011-07-12\", \"2011-07-13\", \"2011-07-14\", \"2011-07-15\", \"2011-07-16\", \"2011-07-17\", \"2011-07-18\", \"2011-07-19\", \"2011-07-20\", \"2011-07-21\", \"2011-07-22\", \"2011-07-23\", \"2011-07-24\", \"2011-07-25\", \"2011-07-26\", \"2011-07-27\", \"2011-07-28\", \"2011-07-29\", \"2011-07-30\", \"2011-07-31\", \"2011-08-01\", \"2011-08-02\", \"2011-08-03\", \"2011-08-04\", \"2011-08-05\", \"2011-08-06\", \"2011-08-07\", \"2011-08-08\", \"2011-08-09\", \"2011-08-10\", \"2011-08-11\", \"2011-08-12\", \"2011-08-13\", \"2011-08-14\", \"2011-08-15\", \"2011-08-16\", \"2011-08-17\", \"2011-08-18\", \"2011-08-19\", \"2011-08-20\", \"2011-08-21\", \"2011-08-22\", \"2011-08-23\", \"2011-08-24\", \"2011-08-25\", \"2011-08-26\", \"2011-08-27\", \"2011-08-28\", \"2011-08-29\", \"2011-08-30\", \"2011-08-31\", \"2011-09-01\", \"2011-09-02\", \"2011-09-03\", \"2011-09-04\", \"2011-09-05\", \"2011-09-06\", \"2011-09-07\", \"2011-09-08\", \"2011-09-09\", \"2011-09-10\", \"2011-09-11\", \"2011-09-12\", \"2011-09-13\", \"2011-09-14\", \"2011-09-15\", \"2011-09-16\", \"2011-09-17\", \"2011-09-18\", \"2011-09-19\", \"2011-09-20\", \"2011-09-21\", \"2011-09-22\", \"2011-09-23\", \"2011-09-24\", \"2011-09-25\", \"2011-09-26\", \"2011-09-27\", \"2011-09-28\", \"2011-09-29\", \"2011-09-30\", \"2011-10-01\", \"2011-10-02\", \"2011-10-03\", \"2011-10-04\", \"2011-10-05\", \"2011-10-06\", \"2011-10-07\", \"2011-10-08\", \"2011-10-09\", \"2011-10-10\", \"2011-10-11\", \"2011-10-12\", \"2011-10-13\", \"2011-10-14\", \"2011-10-15\", \"2011-10-16\", \"2011-10-17\", \"2011-10-18\", \"2011-10-19\", \"2011-10-20\", \"2011-10-21\", \"2011-10-22\", \"2011-10-23\", \"2011-10-24\", \"2011-10-25\", \"2011-10-26\", \"2011-10-27\", \"2011-10-28\", \"2011-10-29\", \"2011-10-30\", \"2011-10-31\", \"2011-11-01\", \"2011-11-02\", \"2011-11-03\", \"2011-11-04\", \"2011-11-05\", \"2011-11-06\", \"2011-11-07\", \"2011-11-08\", \"2011-11-09\", \"2011-11-10\", \"2011-11-11\", \"2011-11-12\", \"2011-11-13\", \"2011-11-14\", \"2011-11-15\", \"2011-11-16\", \"2011-11-17\", \"2011-11-18\", \"2011-11-19\", \"2011-11-20\", \"2011-11-21\", \"2011-11-22\", \"2011-11-23\", \"2011-11-24\", \"2011-11-25\", \"2011-11-26\", \"2011-11-27\", \"2011-11-28\", \"2011-11-29\", \"2011-11-30\", \"2011-12-01\", \"2011-12-02\", \"2011-12-03\", \"2011-12-04\", \"2011-12-05\", \"2011-12-06\", \"2011-12-07\", \"2011-12-08\", \"2011-12-09\", \"2011-12-10\", \"2011-12-11\", \"2011-12-12\", \"2011-12-13\", \"2011-12-14\", \"2011-12-15\", \"2011-12-16\", \"2011-12-17\", \"2011-12-18\", \"2011-12-19\", \"2011-12-20\", \"2011-12-21\", \"2011-12-22\", \"2011-12-23\", \"2011-12-24\", \"2011-12-25\", \"2011-12-26\", \"2011-12-27\", \"2011-12-28\", \"2011-12-29\", \"2011-12-30\", \"2011-12-31\", \"2012-01-01\", \"2012-01-02\", \"2012-01-03\", \"2012-01-04\", \"2012-01-05\", \"2012-01-06\", \"2012-01-07\", \"2012-01-08\", \"2012-01-09\", \"2012-01-10\", \"2012-01-11\"], \"y\": [3, 1, 2, 1, 3, 1, 1, 1, 1, 2, 2, 1, 1, 2, 1, 2, 1, 1, 3, 1, 1, 1, 1, 2, 1, 1, 2, 1, 1, 1, 1, 1, 1, 1, 1, 1, 1, 3, 3, 1, 1, 1, 3, 1, 1, 1, 1, 1, 1, 1, 1, 1, 1, 1, 1, 1, 3, 1, 1, 2, 1, 1, 2, 1, 1, 2, 2, 1, 1, 1, 1, 2, 1, 3, 1, 2, 1, 1, 1, 1, 1, 4, 1, 2, 2, 5, 1, 2, 3, 2, 1, 4, 1, 2, 2, 1, 3, 3, 7, 2, 2, 1, 1, 2, 2, 1, 2, 1, 1, 1, 5, 3, 1, 1, 1, 1, 1, 1, 2, 2, 5, 1, 1, 2, 1, 1, 3, 3, 3, 2, 3, 2, 1, 4, 1, 3, 1, 1, 2, 2, 4, 1, 4, 1, 2, 1, 1, 1, 2, 4, 2, 1, 1, 1, 1, 1, 1, 1, 2, 2, 3, 3, 1, 1, 1, 1, 5, 1, 4, 6, 3, 3, 1, 2, 1, 3, 1, 1, 3, 2, 2, 2, 1, 1, 10, 1, 2, 1, 2, 3, 3, 1, 1, 1, 3, 1, 2, 3, 1, 1, 1, 1, 5, 1, 1, 1, 5, 2, 1, 3, 1, 2, 4, 1, 4, 2, 3, 3, 1, 2, 4, 2, 4, 2, 1, 1, 1, 1, 3, 4, 2, 1, 1, 1, 1, 1, 2, 4, 4, 1, 2, 1, 4, 2, 4, 2, 4, 1, 2, 1, 1, 4, 3, 3, 2, 3, 1, 3, 1, 3, 3, 3, 2, 3, 1, 4, 2, 2, 3, 2, 2, 1, 1, 4, 3, 2, 3, 4, 2, 1, 1, 1, 2, 2, 2, 3, 7, 3, 1, 1, 5, 5, 3, 3, 3, 2, 3, 2, 1, 2, 4, 3, 1, 3, 1, 2, 1, 1, 1, 2, 1, 1, 2, 3, 1, 4, 2, 1, 1, 3, 2, 3, 1, 2, 1, 1, 2, 2, 4, 3, 2, 1, 2, 6, 1, 3, 5, 1, 1, 1, 2, 1, 3, 2, 1, 2, 6, 4, 3, 4, 4, 2, 1, 1, 1, 2, 2, 3, 2, 1, 1, 2, 6, 3, 2, 5, 3, 2, 1, 2, 3, 1, 1, 4, 1, 3, 1, 2, 1, 9, 5, 2, 3, 2, 3, 5, 1, 6, 2, 1, 4, 1, 3, 3, 7, 1, 4, 2, 3, 3, 1, 3, 2, 2, 2, 3, 2, 5, 2, 2, 2, 1, 2, 2, 5, 2, 2, 2, 1, 3, 1, 6, 1, 2, 4, 5, 2, 1, 4, 3, 1, 4, 4, 4, 1, 1, 3, 1, 2, 3, 1, 2, 2, 1, 5, 4, 1, 4, 2, 5, 5, 4, 5, 2, 2, 1, 3, 4, 2, 2, 2, 5, 2, 5, 6, 2, 1, 9, 4, 2, 9, 10, 4, 7, 4, 5, 3, 2, 10, 2, 1, 3, 7, 1, 3, 3, 2, 4, 2, 5, 3, 2, 3, 2, 2, 1, 2, 2, 5, 3, 1, 3, 4, 1, 1, 3, 4, 2, 3, 2, 2, 2, 2, 2, 2, 1, 2, 3, 2, 4, 3, 4, 1, 6, 2, 1, 1, 3, 2, 2, 2, 4, 3, 1, 4, 2, 2, 1, 1, 3, 4, 5, 4, 2, 4, 1, 2, 5, 1, 2, 1, 3, 3, 2, 5, 1, 2, 2, 4, 4, 1, 3, 4, 6, 1, 1, 4, 3, 4, 2, 2, 3, 5, 3, 1, 1, 3, 2, 2, 1, 2, 5, 2, 3, 1, 2, 2, 6, 1, 4, 3, 1, 10, 3, 2, 3, 1, 2, 5, 7, 1, 2, 1, 6, 1, 4, 2, 1, 3, 2, 4, 4, 2, 3, 5, 1, 4, 3, 3, 4, 7, 5, 3, 2, 3, 4, 4, 2, 1, 4, 2, 1, 3, 2, 3, 3, 3, 3, 5, 6, 1, 3, 1, 3, 4, 2, 4, 5, 3, 5, 8, 3, 2, 4, 2, 5, 2, 4, 6, 2, 3, 1, 2, 1, 1, 3, 1, 4, 5, 3, 2, 1, 2, 2, 4, 3, 1, 1, 3, 3, 2, 2, 4, 2, 3, 3, 5, 1, 10, 4, 2, 2, 7, 2, 6, 1, 2, 4, 4, 7, 2, 5, 2, 4, 3, 5, 6, 1, 1, 3, 1, 3, 4, 2, 4, 1, 2, 6, 1, 3, 4, 2, 3, 2, 4, 1, 2, 4, 5, 6, 2, 3, 3, 1, 9, 3, 3, 8, 4, 7, 3, 4, 2, 6, 6, 2, 4, 4, 3, 2, 2, 2, 4, 5, 2, 2, 1, 11, 5, 6, 2, 3, 1, 2, 2, 3, 7, 2, 1, 3, 4, 2, 3, 1, 6, 6, 2, 2, 1, 4, 7, 4, 4, 2, 3, 5, 2, 2, 4, 4, 5, 1, 2, 2, 4, 3, 5, 2, 2, 4, 4, 3, 3, 1, 4, 4, 4, 1, 3, 5, 2, 6, 2, 1, 6, 2, 1, 3, 7, 6, 3, 4, 6, 1, 4, 6, 2, 5, 4, 2, 4, 4, 7, 2, 4, 2, 2, 4, 1, 5, 2, 2, 9, 2, 6, 3, 8, 2, 5, 3, 1, 5, 3, 2, 3, 3, 2, 6, 4, 3, 5, 2, 7, 2, 2, 6, 6, 2, 3, 3, 3, 3, 5, 11, 5, 4, 5, 3, 2, 1, 1, 4, 3, 6, 3, 3, 1, 4, 2, 1, 1, 4, 1, 9, 4, 3, 3, 6, 3, 9, 5, 11, 3, 6, 2, 3, 3, 2, 1, 2, 7, 1, 7, 6, 2, 5, 4, 7, 6, 4, 4, 8, 3, 5, 2, 5, 6, 11, 5, 3, 4, 5, 6, 3, 7, 5, 6, 2, 1, 8, 13, 8, 10, 8, 3, 5, 3, 7, 3, 8, 3, 4, 3, 6, 6, 1, 3, 2, 3, 3, 4, 4, 5, 4, 4, 3, 4, 11, 3, 2, 8, 4, 4, 3, 4, 3, 3, 7, 3, 2, 6, 3, 3, 7, 5, 4, 3, 3, 6, 4, 9, 3, 7, 11, 6, 11, 3, 7, 8, 3, 6, 6, 7, 3, 1, 6, 11, 9, 5, 5, 6, 1, 4, 9, 5, 4, 2, 3, 4, 7, 8, 5, 4, 8, 3, 6, 5, 7, 7, 5, 3, 3, 7, 6, 2, 5, 6, 5, 2, 2, 9, 6, 6, 5, 12, 6, 10, 2, 8, 9, 5, 2, 4, 3, 5, 9, 2, 4, 3, 3, 2, 8, 4, 9, 6, 11, 7, 5, 5, 7, 9, 5, 5, 7, 8, 4, 6, 4, 3, 9, 2, 3, 3, 3, 2, 5, 4, 3, 5, 3, 4, 11, 6, 4, 5, 4, 3, 6, 9, 8, 8, 8, 8, 12, 9, 5, 5, 5, 1, 11, 5, 4, 3, 5, 6, 2, 6, 3, 5, 7, 7, 4, 8, 8, 3, 11, 3, 2, 5, 6, 6, 6, 6, 4, 7, 2, 4, 8, 6, 12, 7, 8, 8, 6, 5, 9, 1, 4, 6, 8, 5, 4, 9, 1, 6, 1, 5, 7, 8, 1, 2, 5, 4, 9, 8, 5, 7, 7, 6, 13, 9, 6, 7, 4, 10, 3, 10, 7, 6, 3, 4, 5, 3, 5, 2, 6, 7, 6, 7, 5, 6, 3, 9, 7, 5, 11, 5, 6, 2, 5, 4, 5, 5, 5, 7, 7, 1, 6, 5, 8, 1, 4, 9, 8, 10, 7, 7, 9, 4, 9, 6, 8, 5, 7, 4, 8, 7, 11, 5, 4, 4, 3, 3, 11, 7, 5, 3, 2, 1, 6, 7, 6, 3, 7, 8, 4, 1, 6, 5, 7, 3, 6, 8, 4, 5, 6, 6, 5, 1, 7, 6, 1, 1, 3, 7, 2, 1, 8, 2, 2, 3, 18, 4, 4, 9, 4, 7, 8, 5, 4, 9, 5, 6, 5, 7, 8, 10, 6, 11, 7, 8, 5, 10, 10, 2, 6, 11, 8, 9, 3, 6, 2, 12, 9, 5, 6, 8, 8, 10, 4, 4, 4, 8, 5, 3, 6, 8, 4, 5, 3, 8, 8, 16, 10, 10, 6, 8, 9, 7, 6, 5, 8, 4, 5, 8, 7, 5, 4, 5, 7, 6, 5, 8, 6, 2, 8, 8, 13, 5, 6, 13, 7, 6, 8, 8, 11, 10, 11, 9, 3, 5, 3, 15, 9, 7, 8, 3, 7, 8, 6, 14, 9, 6, 4, 9, 8, 9, 6, 8, 9, 10, 11, 9, 11, 10, 14, 8, 9, 9, 5, 8, 7, 10, 10, 6, 12, 7, 9, 2, 5, 9, 17, 5, 13, 9, 9, 15, 6, 5, 9, 15, 9, 10, 14, 6, 12, 12, 6, 1, 8, 9, 11, 7, 9, 8, 5, 10, 3, 15, 9, 6, 9, 13, 7, 6, 9, 4, 7, 7, 4, 13, 10, 14, 10, 8, 14, 5, 6, 9, 8, 4, 13, 11, 12, 7, 6, 4, 16, 4, 2, 4, 8, 13, 15, 7, 9, 12, 12, 7, 2, 7, 10, 6, 15, 6, 5, 10, 6, 8, 6, 15, 9, 11, 2, 10, 5, 9, 9, 10, 5, 9, 7, 8, 13, 11, 5, 8, 10, 14, 4, 9, 2, 5, 8, 13, 10, 7, 10, 11, 12, 7, 11, 17, 11, 15, 5, 8, 6, 3, 7, 6, 4, 12, 6, 13, 15, 10, 11, 8, 5, 6, 10, 7, 9, 6, 5, 7, 5, 7, 8, 8, 11, 10, 7, 4, 10, 6, 8, 8, 1, 8, 3, 5, 10, 8, 11, 9, 10, 6, 8, 11, 8, 6, 9, 11, 9, 8, 5, 10, 10, 14, 6, 10, 14, 5, 3, 3, 8, 10, 10, 5, 12, 6, 9, 11, 8, 9, 4, 9, 6, 2, 6, 4, 9, 8, 10, 10, 5, 7, 6, 5, 8, 5, 7, 12, 10, 11, 11, 5, 13, 8, 4, 6, 8, 6, 13, 8, 4, 8, 8, 3, 8, 6, 8, 8, 10, 10, 8, 7, 7, 7, 8, 12, 20, 5, 9, 11, 9, 5, 14, 5, 7, 4, 6, 11, 8, 4, 5, 7, 5, 5, 8, 10, 8, 13, 4, 6, 7, 14, 5, 7, 5, 14, 6, 6, 12, 7, 12, 11, 9, 11, 6, 13, 5, 5, 7, 11, 8, 5, 9, 7, 11, 7, 14, 4, 8, 8, 6, 10, 11, 5, 11, 9, 16, 8, 6, 3, 12, 5, 6, 6, 10, 8, 4, 6, 6, 5, 6, 3, 9, 11, 8, 13, 4, 5, 8, 6, 7, 7, 10, 15, 5, 17, 5, 11, 7, 3, 12, 11, 7, 10, 11, 11, 4, 7, 10, 5, 4, 6, 6, 3, 9, 13, 4, 5, 7, 8, 12, 10, 11, 6, 3, 7, 4, 8, 4, 8, 8, 12, 4, 13, 9, 14, 8, 6, 6, 7, 11, 8, 9, 10, 7, 8, 4, 9, 6, 8, 12, 3, 7, 7, 6, 6, 11, 9, 5, 8, 7, 14, 12, 5, 8, 6, 6, 6, 4, 7, 9, 7, 7, 7, 12, 4, 2, 10, 9, 7, 7, 12, 12, 13, 8, 6, 9, 8, 14, 3, 7, 10, 8, 5, 9, 11, 9, 10, 6, 10, 2, 11, 11, 5, 5, 6, 5, 6, 8, 9, 7, 3, 7, 7, 6, 8, 7, 9, 3, 9, 14, 9, 7, 8, 6, 13, 6, 7, 8, 7, 6, 1, 5, 12, 10, 6, 6, 10, 7, 7, 10, 11, 8, 8, 7, 9, 5, 8, 11, 15, 8, 7, 9, 7, 10, 21, 4, 9, 6, 6, 9, 6, 4, 13, 11, 7, 10, 9, 10, 6, 8, 10, 6, 6, 6, 5, 6, 8, 7, 8, 5, 8, 9, 14, 10, 10, 8, 6, 11, 8, 10, 10, 13, 5, 6, 5, 6, 4, 11, 16, 6, 7, 9, 10, 6, 3, 13, 12, 11, 10, 7, 7, 8, 8, 9, 8, 12, 14, 13, 8, 9, 14, 5, 7, 10, 13, 9, 15, 11, 10, 5, 8, 17, 12, 6, 11, 11, 10, 14, 8, 4, 9, 7, 8, 8, 9, 12, 9, 7, 7, 11, 9, 4, 11, 10, 11, 11, 8, 8, 8, 11, 12, 4, 12, 11, 8, 10, 5, 5, 8, 2, 11, 13, 8, 19, 24, 21, 8, 12, 11, 10, 11, 12, 11, 8, 11, 12, 11, 9, 13, 8, 10, 9, 13, 10, 9, 4, 7, 11, 3, 5, 9, 9, 9, 9, 8, 9, 9, 5, 12, 8, 5, 10, 14, 6, 14, 16, 9, 6, 6, 10, 4, 12, 12, 14, 13, 10, 11, 17, 14, 20, 7, 15, 12, 15, 14, 24, 12, 14, 4, 7, 5, 12, 12, 15, 8, 11, 11, 6, 19, 8, 12, 8, 7, 14, 17, 10, 19, 12, 15, 11, 26, 13, 20, 12, 12, 14, 10, 13, 15, 9, 13, 24, 10, 7, 10, 9, 5, 14, 10, 11, 11, 6, 15, 13, 8, 24, 10, 11, 8, 14, 9, 8, 7, 9, 12, 11, 12, 13, 21, 16, 8, 12, 6, 13, 6, 21, 8, 13, 20, 10, 11, 16, 8, 17, 15, 9, 22, 11, 7, 8, 5, 9, 8, 9, 13, 14, 12, 10, 6, 16, 8, 12, 17, 18, 16, 13, 12, 8, 13, 7, 12, 11, 8, 9, 9, 10, 18, 4, 5, 9, 16, 8, 9, 15, 6, 11, 4, 5, 9, 11, 10, 8, 11, 17, 11, 15, 9, 13, 6, 16, 9, 8, 9, 8, 13, 7, 11, 12, 13, 14, 13, 9, 13, 10, 8, 12, 9, 11, 14, 10, 10, 9, 13, 15, 10, 11, 10, 7, 16, 18, 19, 18, 1, 13, 13, 10, 10, 9, 16, 4, 10, 6, 10, 17, 12, 17, 8, 15, 6, 6, 13, 12, 11, 10, 15, 11, 8, 13, 9, 11, 11, 5, 12, 8, 14, 10, 12, 14, 10, 19, 9, 12, 12, 7, 16, 12, 10, 9, 18, 8, 10, 12, 12, 20, 11, 14, 8, 11, 10, 8, 15, 17, 11, 14, 20, 13, 21, 21, 12, 13, 9, 12, 17, 18, 18, 12, 12, 15, 14, 22, 18, 18, 9, 15, 14, 11, 11, 17, 22, 24, 15, 21, 18, 17, 19, 22, 10, 9, 13, 19, 14, 20, 25, 12, 19, 15, 16, 11, 20, 25, 14, 10, 18, 9, 12, 17, 23, 9, 13, 13, 21, 13, 16, 8, 17, 18, 22, 14, 20, 19, 6, 12, 14, 10, 17, 9, 14, 16, 14, 12, 22, 13, 12, 11, 19, 23, 25, 12, 16, 22, 17, 32, 17, 19, 20, 14, 18, 17, 25, 18, 23, 19, 20, 14, 17, 16, 16, 16, 17, 20, 25, 15, 35, 22, 14, 15, 24, 16, 17, 27, 24, 27, 24, 18, 22, 20, 22, 25, 24, 10, 13, 18, 21, 23, 10, 12, 16, 19, 19, 24, 29, 23, 12, 17, 18, 14, 16, 15, 20, 25, 13, 22, 15, 11, 23, 23, 21, 23, 23, 25, 22, 21, 19, 25, 15, 27, 20, 23, 30, 25, 10, 24, 19, 29, 27, 18, 19, 18, 24, 21, 14, 27, 23, 20, 22, 15, 23, 21, 27, 26, 18, 19, 26, 19, 21, 19, 29, 17, 27, 27, 18, 21, 20, 15, 31, 22, 13, 20, 8, 23, 15, 23, 19, 22, 16, 13, 19, 25, 18, 20, 17, 26, 18, 19, 22, 19, 18, 18, 16, 7, 17, 8, 16, 16, 20, 18, 15, 9, 12, 18, 19, 14, 14, 17, 19, 16, 18, 19, 21, 13, 12, 17, 21, 9, 17, 14, 18, 21, 22, 12, 13, 18, 14, 6, 13, 6, 15, 19, 14, 22, 10, 9, 26, 11, 22, 13, 15, 27, 23, 14, 13, 22, 15, 11, 19, 13, 15, 17, 17, 14, 12, 18, 13, 17, 32, 19, 25, 11, 26, 19, 11, 17, 19, 16, 18, 17, 5, 23, 16, 13, 20, 14, 24, 19, 21, 20, 14, 15, 15, 12, 9, 15, 20, 21, 19, 16, 20, 20, 24, 15, 19, 13, 15, 12, 19, 9, 14, 18, 22, 12, 10, 11, 26, 14, 15, 15, 12, 14, 19, 14, 17, 11, 9, 5, 14, 21, 6, 11, 21, 18, 20, 18, 20, 18, 21, 13, 10, 12, 15, 22, 22, 24, 28, 19, 19, 12, 12, 12, 23, 8, 16, 23, 19, 8, 21, 16, 14, 14, 14, 15, 18, 15, 15, 6, 14, 29, 25, 15, 14, 8, 13, 20, 14, 17, 26, 15, 20, 13, 18, 15, 35, 17, 11, 15, 14, 16, 21, 22, 19, 27, 23, 15, 14, 14, 18, 14, 13, 14, 18, 14, 17, 11, 25, 20, 17, 16, 12, 20, 10, 23, 19, 19, 24, 17, 16, 13, 28, 21, 19, 13, 20, 19, 16, 21, 12, 18, 20, 25, 16, 17, 40, 20, 9, 17, 14, 13, 16, 20, 27, 21, 12, 22, 25, 27, 22, 12, 19, 9, 18, 13, 13, 21, 17, 22, 22, 12, 24, 13, 21, 28, 31, 21, 24, 18, 16, 34, 34, 21, 23, 20, 22, 22, 32, 18, 26, 18, 20, 23, 20, 27, 19, 24, 23, 16, 25, 23, 18, 18, 19, 29, 19, 24, 23, 30, 25, 17, 34, 18, 22, 28, 30, 21, 25, 6, 14, 22, 24, 15, 12, 14, 20, 10, 14, 14, 19, 18, 12, 15, 16, 15, 24, 24, 22, 19, 11, 17, 7, 11, 19, 23, 24, 18, 11, 15, 15, 12, 25, 17, 17, 16, 15, 18, 17, 15, 12, 23, 17, 20, 20, 23, 18, 14, 19, 22, 21, 16, 24, 11, 16, 12, 16, 10, 15, 7, 14, 16, 18, 18, 17, 28, 21, 18, 6, 17, 15, 15, 14, 24, 19, 22, 16, 18, 19, 14, 13, 17, 22, 14, 15, 16, 25, 21, 22, 26, 15, 16, 16, 17, 16, 15, 14, 18, 22, 14, 17, 33, 9, 28, 16, 22, 15, 20, 19, 13, 21, 17, 22, 19, 16, 18, 11, 3, 24, 18, 21, 18, 21, 31, 26, 24, 17, 19, 26, 16, 23, 26, 22, 19, 26, 28, 24, 23, 22, 24, 11, 24, 23, 19, 12, 20, 25, 19, 10, 27, 24, 28, 15, 21, 23, 31, 31, 26, 26, 36, 19, 20, 26, 15, 21, 23, 20, 24, 21, 8, 20, 28, 18, 18, 17, 14, 26, 25, 30, 15, 30, 25, 26, 21, 17, 26, 13, 24, 20, 16, 25, 17, 15, 18, 21, 27, 12, 22, 28, 38, 16, 24, 28, 18, 25, 14, 28, 17, 12, 18, 16, 15, 12, 20, 22, 14, 24, 21, 20, 15, 17, 21, 15, 19, 14, 22, 13, 20, 22, 19, 24, 12, 28, 24, 23, 24, 21, 23, 22, 15, 22, 33, 22, 16, 18, 22, 27, 23, 20, 23, 31, 28, 15, 24, 16, 23, 19, 21, 23, 14, 12, 26, 24, 14, 20, 20, 23, 25, 14, 22, 18, 32, 29, 31, 29, 18, 19, 24, 19, 20, 27, 25, 26, 22, 25, 38, 29, 20, 20, 17, 22, 16, 17, 25, 25, 30, 28, 18, 26, 10, 20, 15, 16, 16, 20, 19, 26, 27, 16, 25, 19, 24, 23, 23, 27, 14, 19, 25, 46, 20, 16, 18, 19, 21, 21, 28, 32, 20, 18, 23, 30, 26, 23, 28, 21, 28, 30, 31, 18, 20, 24, 19, 23, 29, 16, 24, 22, 26, 22, 31, 29, 28, 27, 31, 31, 24, 20, 23, 35, 21, 25, 19, 26, 20, 23, 27, 23, 33, 32, 29, 31, 21, 24, 25, 27, 16, 12, 23, 22, 22, 36, 22, 16, 17, 18, 18, 24, 22, 19, 30, 17, 31, 20, 27, 14, 28, 25, 19, 26, 25, 26, 29, 16, 24, 18, 13, 18, 24, 24, 23, 18, 22, 18, 28, 14, 28, 21, 21, 27, 21, 15, 29, 24, 20, 21, 25, 21, 16, 14, 25, 13, 23, 18, 29, 17, 39, 16, 29, 24, 27, 19, 18, 14, 23, 14, 17, 20, 17, 17, 13, 20, 21, 26, 14, 19, 16, 27, 21, 22, 28, 28, 27, 16, 24, 22, 35, 26, 24, 29, 12, 15, 32, 25, 27, 26, 24, 27, 23, 34, 26, 20, 21, 16, 28, 24, 19, 19, 27, 14, 22, 20, 19, 13, 26, 20, 18, 19, 22, 15, 19, 17, 22, 25, 18, 30, 29, 23, 32, 24, 21, 17, 30, 28, 20, 15, 26, 15, 19, 12, 16, 34, 25, 33, 22, 22, 15, 12, 16, 12, 24, 25, 28, 18, 14, 24, 22, 14, 19, 14, 21, 29, 18, 38, 19, 18, 15, 24, 23, 23, 18, 22, 27, 25, 29, 31, 31, 35, 48, 26, 25, 35, 36, 45, 31, 28, 35, 21, 31, 25, 16, 25, 28, 28, 28, 32, 20, 35, 31, 18, 20, 26, 29, 36, 26, 27, 26, 37, 29, 22, 19, 38, 26, 21, 13, 26, 23, 22, 20, 31, 21, 13, 18, 20, 21, 15, 30, 25, 25, 17, 26, 29, 22, 21, 24, 17, 10, 18, 16, 27, 13, 19, 23, 13, 18, 23, 20, 24, 21, 20, 22, 27, 19, 18, 16, 26, 22, 21, 23, 13, 23, 29, 43, 19, 17, 24, 31, 33, 36, 30, 26, 7]}],\n",
              "                        {\"template\": {\"data\": {\"bar\": [{\"error_x\": {\"color\": \"#2a3f5f\"}, \"error_y\": {\"color\": \"#2a3f5f\"}, \"marker\": {\"line\": {\"color\": \"#E5ECF6\", \"width\": 0.5}}, \"type\": \"bar\"}], \"barpolar\": [{\"marker\": {\"line\": {\"color\": \"#E5ECF6\", \"width\": 0.5}}, \"type\": \"barpolar\"}], \"carpet\": [{\"aaxis\": {\"endlinecolor\": \"#2a3f5f\", \"gridcolor\": \"white\", \"linecolor\": \"white\", \"minorgridcolor\": \"white\", \"startlinecolor\": \"#2a3f5f\"}, \"baxis\": {\"endlinecolor\": \"#2a3f5f\", \"gridcolor\": \"white\", \"linecolor\": \"white\", \"minorgridcolor\": \"white\", \"startlinecolor\": \"#2a3f5f\"}, \"type\": \"carpet\"}], \"choropleth\": [{\"colorbar\": {\"outlinewidth\": 0, \"ticks\": \"\"}, \"type\": \"choropleth\"}], \"contour\": [{\"colorbar\": {\"outlinewidth\": 0, \"ticks\": \"\"}, \"colorscale\": [[0.0, \"#0d0887\"], [0.1111111111111111, \"#46039f\"], [0.2222222222222222, \"#7201a8\"], [0.3333333333333333, \"#9c179e\"], [0.4444444444444444, \"#bd3786\"], [0.5555555555555556, \"#d8576b\"], [0.6666666666666666, \"#ed7953\"], [0.7777777777777778, \"#fb9f3a\"], [0.8888888888888888, \"#fdca26\"], [1.0, \"#f0f921\"]], \"type\": \"contour\"}], \"contourcarpet\": [{\"colorbar\": {\"outlinewidth\": 0, \"ticks\": \"\"}, \"type\": \"contourcarpet\"}], \"heatmap\": [{\"colorbar\": {\"outlinewidth\": 0, \"ticks\": \"\"}, \"colorscale\": [[0.0, \"#0d0887\"], [0.1111111111111111, \"#46039f\"], [0.2222222222222222, \"#7201a8\"], [0.3333333333333333, \"#9c179e\"], [0.4444444444444444, \"#bd3786\"], [0.5555555555555556, \"#d8576b\"], [0.6666666666666666, \"#ed7953\"], [0.7777777777777778, \"#fb9f3a\"], [0.8888888888888888, \"#fdca26\"], [1.0, \"#f0f921\"]], \"type\": \"heatmap\"}], \"heatmapgl\": [{\"colorbar\": {\"outlinewidth\": 0, \"ticks\": \"\"}, \"colorscale\": [[0.0, \"#0d0887\"], [0.1111111111111111, \"#46039f\"], [0.2222222222222222, \"#7201a8\"], [0.3333333333333333, \"#9c179e\"], [0.4444444444444444, \"#bd3786\"], [0.5555555555555556, \"#d8576b\"], [0.6666666666666666, \"#ed7953\"], [0.7777777777777778, \"#fb9f3a\"], [0.8888888888888888, \"#fdca26\"], [1.0, \"#f0f921\"]], \"type\": \"heatmapgl\"}], \"histogram\": [{\"marker\": {\"colorbar\": {\"outlinewidth\": 0, \"ticks\": \"\"}}, \"type\": \"histogram\"}], \"histogram2d\": [{\"colorbar\": {\"outlinewidth\": 0, \"ticks\": \"\"}, \"colorscale\": [[0.0, \"#0d0887\"], [0.1111111111111111, \"#46039f\"], [0.2222222222222222, \"#7201a8\"], [0.3333333333333333, \"#9c179e\"], [0.4444444444444444, \"#bd3786\"], [0.5555555555555556, \"#d8576b\"], [0.6666666666666666, \"#ed7953\"], [0.7777777777777778, \"#fb9f3a\"], [0.8888888888888888, \"#fdca26\"], [1.0, \"#f0f921\"]], \"type\": \"histogram2d\"}], \"histogram2dcontour\": [{\"colorbar\": {\"outlinewidth\": 0, \"ticks\": \"\"}, \"colorscale\": [[0.0, \"#0d0887\"], [0.1111111111111111, \"#46039f\"], [0.2222222222222222, \"#7201a8\"], [0.3333333333333333, \"#9c179e\"], [0.4444444444444444, \"#bd3786\"], [0.5555555555555556, \"#d8576b\"], [0.6666666666666666, \"#ed7953\"], [0.7777777777777778, \"#fb9f3a\"], [0.8888888888888888, \"#fdca26\"], [1.0, \"#f0f921\"]], \"type\": \"histogram2dcontour\"}], \"mesh3d\": [{\"colorbar\": {\"outlinewidth\": 0, \"ticks\": \"\"}, \"type\": \"mesh3d\"}], \"parcoords\": [{\"line\": {\"colorbar\": {\"outlinewidth\": 0, \"ticks\": \"\"}}, \"type\": \"parcoords\"}], \"pie\": [{\"automargin\": true, \"type\": \"pie\"}], \"scatter\": [{\"marker\": {\"colorbar\": {\"outlinewidth\": 0, \"ticks\": \"\"}}, \"type\": \"scatter\"}], \"scatter3d\": [{\"line\": {\"colorbar\": {\"outlinewidth\": 0, \"ticks\": \"\"}}, \"marker\": {\"colorbar\": {\"outlinewidth\": 0, \"ticks\": \"\"}}, \"type\": \"scatter3d\"}], \"scattercarpet\": [{\"marker\": {\"colorbar\": {\"outlinewidth\": 0, \"ticks\": \"\"}}, \"type\": \"scattercarpet\"}], \"scattergeo\": [{\"marker\": {\"colorbar\": {\"outlinewidth\": 0, \"ticks\": \"\"}}, \"type\": \"scattergeo\"}], \"scattergl\": [{\"marker\": {\"colorbar\": {\"outlinewidth\": 0, \"ticks\": \"\"}}, \"type\": \"scattergl\"}], \"scattermapbox\": [{\"marker\": {\"colorbar\": {\"outlinewidth\": 0, \"ticks\": \"\"}}, \"type\": \"scattermapbox\"}], \"scatterpolar\": [{\"marker\": {\"colorbar\": {\"outlinewidth\": 0, \"ticks\": \"\"}}, \"type\": \"scatterpolar\"}], \"scatterpolargl\": [{\"marker\": {\"colorbar\": {\"outlinewidth\": 0, \"ticks\": \"\"}}, \"type\": \"scatterpolargl\"}], \"scatterternary\": [{\"marker\": {\"colorbar\": {\"outlinewidth\": 0, \"ticks\": \"\"}}, \"type\": \"scatterternary\"}], \"surface\": [{\"colorbar\": {\"outlinewidth\": 0, \"ticks\": \"\"}, \"colorscale\": [[0.0, \"#0d0887\"], [0.1111111111111111, \"#46039f\"], [0.2222222222222222, \"#7201a8\"], [0.3333333333333333, \"#9c179e\"], [0.4444444444444444, \"#bd3786\"], [0.5555555555555556, \"#d8576b\"], [0.6666666666666666, \"#ed7953\"], [0.7777777777777778, \"#fb9f3a\"], [0.8888888888888888, \"#fdca26\"], [1.0, \"#f0f921\"]], \"type\": \"surface\"}], \"table\": [{\"cells\": {\"fill\": {\"color\": \"#EBF0F8\"}, \"line\": {\"color\": \"white\"}}, \"header\": {\"fill\": {\"color\": \"#C8D4E3\"}, \"line\": {\"color\": \"white\"}}, \"type\": \"table\"}]}, \"layout\": {\"annotationdefaults\": {\"arrowcolor\": \"#2a3f5f\", \"arrowhead\": 0, \"arrowwidth\": 1}, \"coloraxis\": {\"colorbar\": {\"outlinewidth\": 0, \"ticks\": \"\"}}, \"colorscale\": {\"diverging\": [[0, \"#8e0152\"], [0.1, \"#c51b7d\"], [0.2, \"#de77ae\"], [0.3, \"#f1b6da\"], [0.4, \"#fde0ef\"], [0.5, \"#f7f7f7\"], [0.6, \"#e6f5d0\"], [0.7, \"#b8e186\"], [0.8, \"#7fbc41\"], [0.9, \"#4d9221\"], [1, \"#276419\"]], \"sequential\": [[0.0, \"#0d0887\"], [0.1111111111111111, \"#46039f\"], [0.2222222222222222, \"#7201a8\"], [0.3333333333333333, \"#9c179e\"], [0.4444444444444444, \"#bd3786\"], [0.5555555555555556, \"#d8576b\"], [0.6666666666666666, \"#ed7953\"], [0.7777777777777778, \"#fb9f3a\"], [0.8888888888888888, \"#fdca26\"], [1.0, \"#f0f921\"]], \"sequentialminus\": [[0.0, \"#0d0887\"], [0.1111111111111111, \"#46039f\"], [0.2222222222222222, \"#7201a8\"], [0.3333333333333333, \"#9c179e\"], [0.4444444444444444, \"#bd3786\"], [0.5555555555555556, \"#d8576b\"], [0.6666666666666666, \"#ed7953\"], [0.7777777777777778, \"#fb9f3a\"], [0.8888888888888888, \"#fdca26\"], [1.0, \"#f0f921\"]]}, \"colorway\": [\"#636efa\", \"#EF553B\", \"#00cc96\", \"#ab63fa\", \"#FFA15A\", \"#19d3f3\", \"#FF6692\", \"#B6E880\", \"#FF97FF\", \"#FECB52\"], \"font\": {\"color\": \"#2a3f5f\"}, \"geo\": {\"bgcolor\": \"white\", \"lakecolor\": \"white\", \"landcolor\": \"#E5ECF6\", \"showlakes\": true, \"showland\": true, \"subunitcolor\": \"white\"}, \"hoverlabel\": {\"align\": \"left\"}, \"hovermode\": \"closest\", \"mapbox\": {\"style\": \"light\"}, \"paper_bgcolor\": \"white\", \"plot_bgcolor\": \"#E5ECF6\", \"polar\": {\"angularaxis\": {\"gridcolor\": \"white\", \"linecolor\": \"white\", \"ticks\": \"\"}, \"bgcolor\": \"#E5ECF6\", \"radialaxis\": {\"gridcolor\": \"white\", \"linecolor\": \"white\", \"ticks\": \"\"}}, \"scene\": {\"xaxis\": {\"backgroundcolor\": \"#E5ECF6\", \"gridcolor\": \"white\", \"gridwidth\": 2, \"linecolor\": \"white\", \"showbackground\": true, \"ticks\": \"\", \"zerolinecolor\": \"white\"}, \"yaxis\": {\"backgroundcolor\": \"#E5ECF6\", \"gridcolor\": \"white\", \"gridwidth\": 2, \"linecolor\": \"white\", \"showbackground\": true, \"ticks\": \"\", \"zerolinecolor\": \"white\"}, \"zaxis\": {\"backgroundcolor\": \"#E5ECF6\", \"gridcolor\": \"white\", \"gridwidth\": 2, \"linecolor\": \"white\", \"showbackground\": true, \"ticks\": \"\", \"zerolinecolor\": \"white\"}}, \"shapedefaults\": {\"line\": {\"color\": \"#2a3f5f\"}}, \"ternary\": {\"aaxis\": {\"gridcolor\": \"white\", \"linecolor\": \"white\", \"ticks\": \"\"}, \"baxis\": {\"gridcolor\": \"white\", \"linecolor\": \"white\", \"ticks\": \"\"}, \"bgcolor\": \"#E5ECF6\", \"caxis\": {\"gridcolor\": \"white\", \"linecolor\": \"white\", \"ticks\": \"\"}}, \"title\": {\"x\": 0.05}, \"xaxis\": {\"automargin\": true, \"gridcolor\": \"white\", \"linecolor\": \"white\", \"ticks\": \"\", \"title\": {\"standoff\": 15}, \"zerolinecolor\": \"white\", \"zerolinewidth\": 2}, \"yaxis\": {\"automargin\": true, \"gridcolor\": \"white\", \"linecolor\": \"white\", \"ticks\": \"\", \"title\": {\"standoff\": 15}, \"zerolinecolor\": \"white\", \"zerolinewidth\": 2}}}, \"title\": {\"text\": \"The time-series line chart of reviews\"}, \"xaxis\": {\"title\": {\"text\": \"Date\"}}, \"yaxis\": {\"title\": {\"text\": \"Count of reviews\"}}},\n",
              "                        {\"responsive\": true}\n",
              "                    ).then(function(){\n",
              "                            \n",
              "var gd = document.getElementById('e3d6d41f-e63f-4b53-a34f-669a33bd8d7e');\n",
              "var x = new MutationObserver(function (mutations, observer) {{\n",
              "        var display = window.getComputedStyle(gd).display;\n",
              "        if (!display || display === 'none') {{\n",
              "            console.log([gd, 'removed!']);\n",
              "            Plotly.purge(gd);\n",
              "            observer.disconnect();\n",
              "        }}\n",
              "}});\n",
              "\n",
              "// Listen for the removal of the full notebook cells\n",
              "var notebookContainer = gd.closest('#notebook-container');\n",
              "if (notebookContainer) {{\n",
              "    x.observe(notebookContainer, {childList: true});\n",
              "}}\n",
              "\n",
              "// Listen for the clearing of the current output cell\n",
              "var outputEl = gd.closest('.output');\n",
              "if (outputEl) {{\n",
              "    x.observe(outputEl, {childList: true});\n",
              "}}\n",
              "\n",
              "                        })\n",
              "                };\n",
              "                \n",
              "            </script>\n",
              "        </div>\n",
              "</body>\n",
              "</html>"
            ]
          },
          "metadata": {
            "tags": []
          }
        }
      ]
    }
  ]
}